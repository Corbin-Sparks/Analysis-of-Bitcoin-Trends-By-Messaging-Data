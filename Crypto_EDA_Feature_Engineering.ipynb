{
 "cells": [
  {
   "cell_type": "code",
   "execution_count": 1,
   "metadata": {},
   "outputs": [],
   "source": [
    "import numpy as np \n",
    "import pandas as pd \n",
    "import matplotlib.pyplot as plt \n",
    "import seaborn as sns \n",
    "import datetime"
   ]
  },
  {
   "cell_type": "code",
   "execution_count": 2,
   "metadata": {},
   "outputs": [
    {
     "name": "stderr",
     "output_type": "stream",
     "text": [
      "C:\\Users\\agrae\\anaconda3\\lib\\site-packages\\IPython\\core\\interactiveshell.py:3146: DtypeWarning: Columns (18) have mixed types.Specify dtype option on import or set low_memory=False.\n",
      "  has_raised = await self.run_ast_nodes(code_ast.body, cell_name,\n"
     ]
    }
   ],
   "source": [
    "notes_raw = pd.read_csv(r'C:\\Users\\agrae\\Documents\\AAA_Work\\Coding\\Springboard\\HW\\000_Capstone_3\\Data\\EDA_Data\\notes.csv')\n",
    "alerts = pd.read_csv(r'C:\\Users\\agrae\\Documents\\AAA_Work\\Coding\\Springboard\\HW\\000_Capstone_3\\Data\\EDA_Data\\alerts_final.csv')\n",
    "crypto_raw = pd.read_csv(r'C:\\Users\\agrae\\Documents\\AAA_Work\\Coding\\Springboard\\HW\\000_Capstone_3\\Data\\crypto\\bitcoin_per_minute_f.csv')"
   ]
  },
  {
   "cell_type": "code",
   "execution_count": 3,
   "metadata": {},
   "outputs": [],
   "source": [
    "notes_raw.drop('Unnamed: 0', inplace=True, axis=1)\n",
    "alerts.drop('Unnamed: 0', inplace=True, axis=1)\n",
    "crypto_raw.drop('Unnamed: 0', inplace=True, axis=1)"
   ]
  },
  {
   "cell_type": "markdown",
   "metadata": {},
   "source": [
    "fig, ax = plt.subplots(figsize=(15, 5))\n",
    "sns.histplot(alerts_pp, x='market', ax=ax)\n",
    "plt.xticks(rotation=60)\n",
    "plt.show()"
   ]
  },
  {
   "cell_type": "code",
   "execution_count": 4,
   "metadata": {},
   "outputs": [
    {
     "data": {
      "text/html": [
       "<div>\n",
       "<style scoped>\n",
       "    .dataframe tbody tr th:only-of-type {\n",
       "        vertical-align: middle;\n",
       "    }\n",
       "\n",
       "    .dataframe tbody tr th {\n",
       "        vertical-align: top;\n",
       "    }\n",
       "\n",
       "    .dataframe thead th {\n",
       "        text-align: right;\n",
       "    }\n",
       "</style>\n",
       "<table border=\"1\" class=\"dataframe\">\n",
       "  <thead>\n",
       "    <tr style=\"text-align: right;\">\n",
       "      <th></th>\n",
       "      <th>id</th>\n",
       "      <th>user_id</th>\n",
       "      <th>type</th>\n",
       "      <th>market</th>\n",
       "      <th>currency</th>\n",
       "      <th>is_active</th>\n",
       "      <th>is_deleted</th>\n",
       "      <th>max_notifications</th>\n",
       "      <th>notifications</th>\n",
       "      <th>snooze</th>\n",
       "      <th>created_at</th>\n",
       "      <th>updated_at</th>\n",
       "      <th>deleted_at</th>\n",
       "      <th>last_checked</th>\n",
       "      <th>comparison</th>\n",
       "      <th>value</th>\n",
       "      <th>operator</th>\n",
       "      <th>time_period</th>\n",
       "      <th>cur_from</th>\n",
       "      <th>cur_into</th>\n",
       "    </tr>\n",
       "  </thead>\n",
       "  <tbody>\n",
       "    <tr>\n",
       "      <th>0</th>\n",
       "      <td>6</td>\n",
       "      <td>1345</td>\n",
       "      <td>regular_update</td>\n",
       "      <td>BITSTAMP</td>\n",
       "      <td>BTC_EUR</td>\n",
       "      <td>0</td>\n",
       "      <td>0</td>\n",
       "      <td>NaN</td>\n",
       "      <td>2</td>\n",
       "      <td>5min</td>\n",
       "      <td>1/17/2017 8:50</td>\n",
       "      <td>3/31/2017 23:00</td>\n",
       "      <td>NaN</td>\n",
       "      <td>NaN</td>\n",
       "      <td>buy_price</td>\n",
       "      <td>\"1day\"</td>\n",
       "      <td>NaN</td>\n",
       "      <td>NaN</td>\n",
       "      <td>BTC</td>\n",
       "      <td>EUR</td>\n",
       "    </tr>\n",
       "    <tr>\n",
       "      <th>1</th>\n",
       "      <td>53</td>\n",
       "      <td>1040</td>\n",
       "      <td>regular_update</td>\n",
       "      <td>BTCE</td>\n",
       "      <td>BTC_EUR</td>\n",
       "      <td>0</td>\n",
       "      <td>0</td>\n",
       "      <td>NaN</td>\n",
       "      <td>249</td>\n",
       "      <td>5min</td>\n",
       "      <td>1/18/2017 9:54</td>\n",
       "      <td>5/16/2017 1:55</td>\n",
       "      <td>NaN</td>\n",
       "      <td>NaN</td>\n",
       "      <td>buy_price</td>\n",
       "      <td>\"12h\"</td>\n",
       "      <td>NaN</td>\n",
       "      <td>NaN</td>\n",
       "      <td>BTC</td>\n",
       "      <td>EUR</td>\n",
       "    </tr>\n",
       "    <tr>\n",
       "      <th>2</th>\n",
       "      <td>56</td>\n",
       "      <td>1327</td>\n",
       "      <td>regular_update</td>\n",
       "      <td>COINBASE</td>\n",
       "      <td>BTC_USD</td>\n",
       "      <td>1</td>\n",
       "      <td>0</td>\n",
       "      <td>NaN</td>\n",
       "      <td>1143</td>\n",
       "      <td>5min</td>\n",
       "      <td>1/18/2017 10:23</td>\n",
       "      <td>7/30/2020 23:00</td>\n",
       "      <td>NaN</td>\n",
       "      <td>7/30/2020 23:00</td>\n",
       "      <td>sell_price</td>\n",
       "      <td>\"1day\"</td>\n",
       "      <td>NaN</td>\n",
       "      <td>NaN</td>\n",
       "      <td>BTC</td>\n",
       "      <td>USD</td>\n",
       "    </tr>\n",
       "    <tr>\n",
       "      <th>3</th>\n",
       "      <td>57</td>\n",
       "      <td>1375</td>\n",
       "      <td>regular_update</td>\n",
       "      <td>KRAKEN</td>\n",
       "      <td>XBT_EUR</td>\n",
       "      <td>0</td>\n",
       "      <td>0</td>\n",
       "      <td>NaN</td>\n",
       "      <td>46</td>\n",
       "      <td>5min</td>\n",
       "      <td>1/18/2017 11:03</td>\n",
       "      <td>5/16/2017 1:55</td>\n",
       "      <td>NaN</td>\n",
       "      <td>NaN</td>\n",
       "      <td>buy_price</td>\n",
       "      <td>\"1day\"</td>\n",
       "      <td>NaN</td>\n",
       "      <td>NaN</td>\n",
       "      <td>XBT</td>\n",
       "      <td>EUR</td>\n",
       "    </tr>\n",
       "    <tr>\n",
       "      <th>4</th>\n",
       "      <td>93</td>\n",
       "      <td>1385</td>\n",
       "      <td>regular_update</td>\n",
       "      <td>BTCE</td>\n",
       "      <td>BTC_USD</td>\n",
       "      <td>0</td>\n",
       "      <td>0</td>\n",
       "      <td>NaN</td>\n",
       "      <td>1690</td>\n",
       "      <td>5min</td>\n",
       "      <td>1/19/2017 0:34</td>\n",
       "      <td>2/25/2017 8:00</td>\n",
       "      <td>NaN</td>\n",
       "      <td>NaN</td>\n",
       "      <td>buy_price</td>\n",
       "      <td>\"30min\"</td>\n",
       "      <td>NaN</td>\n",
       "      <td>NaN</td>\n",
       "      <td>BTC</td>\n",
       "      <td>USD</td>\n",
       "    </tr>\n",
       "  </tbody>\n",
       "</table>\n",
       "</div>"
      ],
      "text/plain": [
       "   id  user_id            type    market currency  is_active  is_deleted  \\\n",
       "0   6     1345  regular_update  BITSTAMP  BTC_EUR          0           0   \n",
       "1  53     1040  regular_update      BTCE  BTC_EUR          0           0   \n",
       "2  56     1327  regular_update  COINBASE  BTC_USD          1           0   \n",
       "3  57     1375  regular_update    KRAKEN  XBT_EUR          0           0   \n",
       "4  93     1385  regular_update      BTCE  BTC_USD          0           0   \n",
       "\n",
       "   max_notifications  notifications snooze       created_at       updated_at  \\\n",
       "0                NaN              2   5min   1/17/2017 8:50  3/31/2017 23:00   \n",
       "1                NaN            249   5min   1/18/2017 9:54   5/16/2017 1:55   \n",
       "2                NaN           1143   5min  1/18/2017 10:23  7/30/2020 23:00   \n",
       "3                NaN             46   5min  1/18/2017 11:03   5/16/2017 1:55   \n",
       "4                NaN           1690   5min   1/19/2017 0:34   2/25/2017 8:00   \n",
       "\n",
       "  deleted_at     last_checked  comparison     value operator time_period  \\\n",
       "0        NaN              NaN   buy_price    \"1day\"      NaN         NaN   \n",
       "1        NaN              NaN   buy_price     \"12h\"      NaN         NaN   \n",
       "2        NaN  7/30/2020 23:00  sell_price    \"1day\"      NaN         NaN   \n",
       "3        NaN              NaN   buy_price    \"1day\"      NaN         NaN   \n",
       "4        NaN              NaN   buy_price   \"30min\"      NaN         NaN   \n",
       "\n",
       "  cur_from cur_into  \n",
       "0      BTC      EUR  \n",
       "1      BTC      EUR  \n",
       "2      BTC      USD  \n",
       "3      XBT      EUR  \n",
       "4      BTC      USD  "
      ]
     },
     "execution_count": 4,
     "metadata": {},
     "output_type": "execute_result"
    }
   ],
   "source": [
    "alerts.head()"
   ]
  },
  {
   "cell_type": "code",
   "execution_count": 5,
   "metadata": {},
   "outputs": [
    {
     "name": "stdout",
     "output_type": "stream",
     "text": [
      "<class 'pandas.core.frame.DataFrame'>\n",
      "RangeIndex: 102224 entries, 0 to 102223\n",
      "Data columns (total 20 columns):\n",
      " #   Column             Non-Null Count   Dtype  \n",
      "---  ------             --------------   -----  \n",
      " 0   id                 102224 non-null  int64  \n",
      " 1   user_id            102224 non-null  int64  \n",
      " 2   type               102224 non-null  object \n",
      " 3   market             102224 non-null  object \n",
      " 4   currency           102019 non-null  object \n",
      " 5   is_active          102224 non-null  int64  \n",
      " 6   is_deleted         102224 non-null  int64  \n",
      " 7   max_notifications  101217 non-null  float64\n",
      " 8   notifications      102224 non-null  int64  \n",
      " 9   snooze             102224 non-null  object \n",
      " 10  created_at         102224 non-null  object \n",
      " 11  updated_at         96736 non-null   object \n",
      " 12  deleted_at         21076 non-null   object \n",
      " 13  last_checked       21320 non-null   object \n",
      " 14  comparison         92760 non-null   object \n",
      " 15  value              92760 non-null   object \n",
      " 16  operator           92321 non-null   object \n",
      " 17  time_period        16421 non-null   object \n",
      " 18  cur_from           102019 non-null  object \n",
      " 19  cur_into           101690 non-null  object \n",
      "dtypes: float64(1), int64(5), object(14)\n",
      "memory usage: 15.6+ MB\n"
     ]
    }
   ],
   "source": [
    "alerts.info()"
   ]
  },
  {
   "cell_type": "code",
   "execution_count": 6,
   "metadata": {},
   "outputs": [
    {
     "data": {
      "text/html": [
       "<div>\n",
       "<style scoped>\n",
       "    .dataframe tbody tr th:only-of-type {\n",
       "        vertical-align: middle;\n",
       "    }\n",
       "\n",
       "    .dataframe tbody tr th {\n",
       "        vertical-align: top;\n",
       "    }\n",
       "\n",
       "    .dataframe thead th {\n",
       "        text-align: right;\n",
       "    }\n",
       "</style>\n",
       "<table border=\"1\" class=\"dataframe\">\n",
       "  <thead>\n",
       "    <tr style=\"text-align: right;\">\n",
       "      <th></th>\n",
       "      <th>id</th>\n",
       "      <th>user_id</th>\n",
       "      <th>type</th>\n",
       "      <th>market</th>\n",
       "      <th>currency</th>\n",
       "      <th>is_active</th>\n",
       "      <th>is_deleted</th>\n",
       "      <th>max_notifications</th>\n",
       "      <th>notifications</th>\n",
       "      <th>snooze</th>\n",
       "      <th>created_at</th>\n",
       "      <th>updated_at</th>\n",
       "      <th>deleted_at</th>\n",
       "      <th>last_checked</th>\n",
       "      <th>comparison</th>\n",
       "      <th>value</th>\n",
       "      <th>operator</th>\n",
       "      <th>time_period</th>\n",
       "      <th>cur_from</th>\n",
       "      <th>cur_into</th>\n",
       "    </tr>\n",
       "  </thead>\n",
       "  <tbody>\n",
       "    <tr>\n",
       "      <th>0</th>\n",
       "      <td>6</td>\n",
       "      <td>1345</td>\n",
       "      <td>regular_update</td>\n",
       "      <td>BITSTAMP</td>\n",
       "      <td>BTC_EUR</td>\n",
       "      <td>0</td>\n",
       "      <td>0</td>\n",
       "      <td>NaN</td>\n",
       "      <td>2</td>\n",
       "      <td>5min</td>\n",
       "      <td>1/17/2017 8:50</td>\n",
       "      <td>3/31/2017 23:00</td>\n",
       "      <td>NaN</td>\n",
       "      <td>NaN</td>\n",
       "      <td>buy_price</td>\n",
       "      <td>\"1day\"</td>\n",
       "      <td>NaN</td>\n",
       "      <td>NaN</td>\n",
       "      <td>BTC</td>\n",
       "      <td>EUR</td>\n",
       "    </tr>\n",
       "    <tr>\n",
       "      <th>1</th>\n",
       "      <td>53</td>\n",
       "      <td>1040</td>\n",
       "      <td>regular_update</td>\n",
       "      <td>BTCE</td>\n",
       "      <td>BTC_EUR</td>\n",
       "      <td>0</td>\n",
       "      <td>0</td>\n",
       "      <td>NaN</td>\n",
       "      <td>249</td>\n",
       "      <td>5min</td>\n",
       "      <td>1/18/2017 9:54</td>\n",
       "      <td>5/16/2017 1:55</td>\n",
       "      <td>NaN</td>\n",
       "      <td>NaN</td>\n",
       "      <td>buy_price</td>\n",
       "      <td>\"12h\"</td>\n",
       "      <td>NaN</td>\n",
       "      <td>NaN</td>\n",
       "      <td>BTC</td>\n",
       "      <td>EUR</td>\n",
       "    </tr>\n",
       "    <tr>\n",
       "      <th>2</th>\n",
       "      <td>56</td>\n",
       "      <td>1327</td>\n",
       "      <td>regular_update</td>\n",
       "      <td>COINBASE</td>\n",
       "      <td>BTC_USD</td>\n",
       "      <td>1</td>\n",
       "      <td>0</td>\n",
       "      <td>NaN</td>\n",
       "      <td>1143</td>\n",
       "      <td>5min</td>\n",
       "      <td>1/18/2017 10:23</td>\n",
       "      <td>7/30/2020 23:00</td>\n",
       "      <td>NaN</td>\n",
       "      <td>7/30/2020 23:00</td>\n",
       "      <td>sell_price</td>\n",
       "      <td>\"1day\"</td>\n",
       "      <td>NaN</td>\n",
       "      <td>NaN</td>\n",
       "      <td>BTC</td>\n",
       "      <td>USD</td>\n",
       "    </tr>\n",
       "    <tr>\n",
       "      <th>3</th>\n",
       "      <td>57</td>\n",
       "      <td>1375</td>\n",
       "      <td>regular_update</td>\n",
       "      <td>KRAKEN</td>\n",
       "      <td>XBT_EUR</td>\n",
       "      <td>0</td>\n",
       "      <td>0</td>\n",
       "      <td>NaN</td>\n",
       "      <td>46</td>\n",
       "      <td>5min</td>\n",
       "      <td>1/18/2017 11:03</td>\n",
       "      <td>5/16/2017 1:55</td>\n",
       "      <td>NaN</td>\n",
       "      <td>NaN</td>\n",
       "      <td>buy_price</td>\n",
       "      <td>\"1day\"</td>\n",
       "      <td>NaN</td>\n",
       "      <td>NaN</td>\n",
       "      <td>XBT</td>\n",
       "      <td>EUR</td>\n",
       "    </tr>\n",
       "    <tr>\n",
       "      <th>4</th>\n",
       "      <td>93</td>\n",
       "      <td>1385</td>\n",
       "      <td>regular_update</td>\n",
       "      <td>BTCE</td>\n",
       "      <td>BTC_USD</td>\n",
       "      <td>0</td>\n",
       "      <td>0</td>\n",
       "      <td>NaN</td>\n",
       "      <td>1690</td>\n",
       "      <td>5min</td>\n",
       "      <td>1/19/2017 0:34</td>\n",
       "      <td>2/25/2017 8:00</td>\n",
       "      <td>NaN</td>\n",
       "      <td>NaN</td>\n",
       "      <td>buy_price</td>\n",
       "      <td>\"30min\"</td>\n",
       "      <td>NaN</td>\n",
       "      <td>NaN</td>\n",
       "      <td>BTC</td>\n",
       "      <td>USD</td>\n",
       "    </tr>\n",
       "  </tbody>\n",
       "</table>\n",
       "</div>"
      ],
      "text/plain": [
       "   id  user_id            type    market currency  is_active  is_deleted  \\\n",
       "0   6     1345  regular_update  BITSTAMP  BTC_EUR          0           0   \n",
       "1  53     1040  regular_update      BTCE  BTC_EUR          0           0   \n",
       "2  56     1327  regular_update  COINBASE  BTC_USD          1           0   \n",
       "3  57     1375  regular_update    KRAKEN  XBT_EUR          0           0   \n",
       "4  93     1385  regular_update      BTCE  BTC_USD          0           0   \n",
       "\n",
       "   max_notifications  notifications snooze       created_at       updated_at  \\\n",
       "0                NaN              2   5min   1/17/2017 8:50  3/31/2017 23:00   \n",
       "1                NaN            249   5min   1/18/2017 9:54   5/16/2017 1:55   \n",
       "2                NaN           1143   5min  1/18/2017 10:23  7/30/2020 23:00   \n",
       "3                NaN             46   5min  1/18/2017 11:03   5/16/2017 1:55   \n",
       "4                NaN           1690   5min   1/19/2017 0:34   2/25/2017 8:00   \n",
       "\n",
       "  deleted_at     last_checked  comparison     value operator time_period  \\\n",
       "0        NaN              NaN   buy_price    \"1day\"      NaN         NaN   \n",
       "1        NaN              NaN   buy_price     \"12h\"      NaN         NaN   \n",
       "2        NaN  7/30/2020 23:00  sell_price    \"1day\"      NaN         NaN   \n",
       "3        NaN              NaN   buy_price    \"1day\"      NaN         NaN   \n",
       "4        NaN              NaN   buy_price   \"30min\"      NaN         NaN   \n",
       "\n",
       "  cur_from cur_into  \n",
       "0      BTC      EUR  \n",
       "1      BTC      EUR  \n",
       "2      BTC      USD  \n",
       "3      XBT      EUR  \n",
       "4      BTC      USD  "
      ]
     },
     "execution_count": 6,
     "metadata": {},
     "output_type": "execute_result"
    }
   ],
   "source": [
    "alerts.head()"
   ]
  },
  {
   "cell_type": "code",
   "execution_count": 7,
   "metadata": {
    "scrolled": false
   },
   "outputs": [
    {
     "data": {
      "text/plain": [
       "(BTC     0.409816\n",
       " ETH     0.100501\n",
       " LTC     0.050393\n",
       " USDT    0.041149\n",
       " XRP     0.037728\n",
       " XBT     0.025829\n",
       " BCH     0.016811\n",
       " TRX     0.015478\n",
       " ADA     0.012743\n",
       " EOS     0.011429\n",
       " Name: cur_from, dtype: float64,\n",
       " 0.7218753369470392)"
      ]
     },
     "execution_count": 7,
     "metadata": {},
     "output_type": "execute_result"
    }
   ],
   "source": [
    "alerts_cur_count = alerts.cur_from.value_counts(1)\n",
    "alerts_cur_count[:10], alerts_cur_count[:10].sum()"
   ]
  },
  {
   "cell_type": "markdown",
   "metadata": {},
   "source": [
    "As we can see, the top 10 alert coins of interest make up about 72% of all alert types with Bitcoin being the vast majority of 41%. Let's see what people are wanting to compare their currency of choice into."
   ]
  },
  {
   "cell_type": "markdown",
   "metadata": {},
   "source": [
    "After fiddling with the 'cur_into' columns, I've discovered that all values have an additional space in from of them. Let's remove them so the feature will be usable."
   ]
  },
  {
   "cell_type": "code",
   "execution_count": 8,
   "metadata": {},
   "outputs": [],
   "source": [
    "alerts['cur_into'] = alerts.cur_into.replace(' ', '', regex=True)"
   ]
  },
  {
   "cell_type": "code",
   "execution_count": 9,
   "metadata": {
    "scrolled": true
   },
   "outputs": [
    {
     "data": {
      "text/plain": [
       "(USD     0.345255\n",
       " BTC     0.226345\n",
       " USDT    0.065316\n",
       " ETH     0.057665\n",
       " EUR     0.049700\n",
       " XRP     0.013669\n",
       " AUD     0.008329\n",
       " NEO     0.007847\n",
       " LTC     0.007041\n",
       " BCC     0.004661\n",
       " Name: cur_into, dtype: float64,\n",
       " 0.7858294817582852)"
      ]
     },
     "execution_count": 9,
     "metadata": {},
     "output_type": "execute_result"
    }
   ],
   "source": [
    "alerts_cur_into_count = alerts.cur_into.value_counts(1)\n",
    "alerts_cur_into_count[:10], alerts_cur_into_count[:10].sum()"
   ]
  },
  {
   "cell_type": "markdown",
   "metadata": {},
   "source": [
    "Mostly they're comparing cryptos with US dollars and Bitcoin. No surprises there. We'll check the top markets."
   ]
  },
  {
   "cell_type": "code",
   "execution_count": 10,
   "metadata": {},
   "outputs": [
    {
     "data": {
      "text/plain": [
       "BINANCE     0.265662\n",
       "BITTREX     0.186130\n",
       "COINBASE    0.169168\n",
       "POLONIEX    0.064642\n",
       "KRAKEN      0.057756\n",
       "Name: market, dtype: float64"
      ]
     },
     "execution_count": 10,
     "metadata": {},
     "output_type": "execute_result"
    }
   ],
   "source": [
    "alerts.market.value_counts(1)[:5]"
   ]
  },
  {
   "cell_type": "markdown",
   "metadata": {},
   "source": [
    "Let's also start a little feature engineering by turning our categorical culumns into numerical features."
   ]
  },
  {
   "cell_type": "code",
   "execution_count": 11,
   "metadata": {},
   "outputs": [
    {
     "data": {
      "text/plain": [
       "array([nan, ' \"<=\"', ' \">=\"'], dtype=object)"
      ]
     },
     "execution_count": 11,
     "metadata": {},
     "output_type": "execute_result"
    }
   ],
   "source": [
    "alerts.operator.unique()"
   ]
  },
  {
   "cell_type": "code",
   "execution_count": 12,
   "metadata": {},
   "outputs": [],
   "source": [
    "alerts['operator'] = alerts.operator.replace({' \"<=\"':0, ' \">=\"':1}, regex=True)"
   ]
  },
  {
   "cell_type": "code",
   "execution_count": 13,
   "metadata": {},
   "outputs": [
    {
     "data": {
      "text/plain": [
       "array([nan,  0.,  1.])"
      ]
     },
     "execution_count": 13,
     "metadata": {},
     "output_type": "execute_result"
    }
   ],
   "source": [
    "alerts.operator.unique()"
   ]
  },
  {
   "cell_type": "code",
   "execution_count": 14,
   "metadata": {},
   "outputs": [
    {
     "data": {
      "text/html": [
       "<div>\n",
       "<style scoped>\n",
       "    .dataframe tbody tr th:only-of-type {\n",
       "        vertical-align: middle;\n",
       "    }\n",
       "\n",
       "    .dataframe tbody tr th {\n",
       "        vertical-align: top;\n",
       "    }\n",
       "\n",
       "    .dataframe thead th {\n",
       "        text-align: right;\n",
       "    }\n",
       "</style>\n",
       "<table border=\"1\" class=\"dataframe\">\n",
       "  <thead>\n",
       "    <tr style=\"text-align: right;\">\n",
       "      <th></th>\n",
       "      <th>id</th>\n",
       "      <th>user_id</th>\n",
       "      <th>type</th>\n",
       "      <th>market</th>\n",
       "      <th>currency</th>\n",
       "      <th>is_active</th>\n",
       "      <th>is_deleted</th>\n",
       "      <th>max_notifications</th>\n",
       "      <th>notifications</th>\n",
       "      <th>snooze</th>\n",
       "      <th>created_at</th>\n",
       "      <th>updated_at</th>\n",
       "      <th>deleted_at</th>\n",
       "      <th>last_checked</th>\n",
       "      <th>comparison</th>\n",
       "      <th>value</th>\n",
       "      <th>operator</th>\n",
       "      <th>time_period</th>\n",
       "      <th>cur_from</th>\n",
       "      <th>cur_into</th>\n",
       "    </tr>\n",
       "  </thead>\n",
       "  <tbody>\n",
       "    <tr>\n",
       "      <th>0</th>\n",
       "      <td>6</td>\n",
       "      <td>1345</td>\n",
       "      <td>regular_update</td>\n",
       "      <td>BITSTAMP</td>\n",
       "      <td>BTC_EUR</td>\n",
       "      <td>0</td>\n",
       "      <td>0</td>\n",
       "      <td>NaN</td>\n",
       "      <td>2</td>\n",
       "      <td>5min</td>\n",
       "      <td>1/17/2017 8:50</td>\n",
       "      <td>3/31/2017 23:00</td>\n",
       "      <td>NaN</td>\n",
       "      <td>NaN</td>\n",
       "      <td>buy_price</td>\n",
       "      <td>\"1day\"</td>\n",
       "      <td>NaN</td>\n",
       "      <td>NaN</td>\n",
       "      <td>BTC</td>\n",
       "      <td>EUR</td>\n",
       "    </tr>\n",
       "    <tr>\n",
       "      <th>1</th>\n",
       "      <td>53</td>\n",
       "      <td>1040</td>\n",
       "      <td>regular_update</td>\n",
       "      <td>BTCE</td>\n",
       "      <td>BTC_EUR</td>\n",
       "      <td>0</td>\n",
       "      <td>0</td>\n",
       "      <td>NaN</td>\n",
       "      <td>249</td>\n",
       "      <td>5min</td>\n",
       "      <td>1/18/2017 9:54</td>\n",
       "      <td>5/16/2017 1:55</td>\n",
       "      <td>NaN</td>\n",
       "      <td>NaN</td>\n",
       "      <td>buy_price</td>\n",
       "      <td>\"12h\"</td>\n",
       "      <td>NaN</td>\n",
       "      <td>NaN</td>\n",
       "      <td>BTC</td>\n",
       "      <td>EUR</td>\n",
       "    </tr>\n",
       "    <tr>\n",
       "      <th>2</th>\n",
       "      <td>56</td>\n",
       "      <td>1327</td>\n",
       "      <td>regular_update</td>\n",
       "      <td>COINBASE</td>\n",
       "      <td>BTC_USD</td>\n",
       "      <td>1</td>\n",
       "      <td>0</td>\n",
       "      <td>NaN</td>\n",
       "      <td>1143</td>\n",
       "      <td>5min</td>\n",
       "      <td>1/18/2017 10:23</td>\n",
       "      <td>7/30/2020 23:00</td>\n",
       "      <td>NaN</td>\n",
       "      <td>7/30/2020 23:00</td>\n",
       "      <td>sell_price</td>\n",
       "      <td>\"1day\"</td>\n",
       "      <td>NaN</td>\n",
       "      <td>NaN</td>\n",
       "      <td>BTC</td>\n",
       "      <td>USD</td>\n",
       "    </tr>\n",
       "    <tr>\n",
       "      <th>3</th>\n",
       "      <td>57</td>\n",
       "      <td>1375</td>\n",
       "      <td>regular_update</td>\n",
       "      <td>KRAKEN</td>\n",
       "      <td>XBT_EUR</td>\n",
       "      <td>0</td>\n",
       "      <td>0</td>\n",
       "      <td>NaN</td>\n",
       "      <td>46</td>\n",
       "      <td>5min</td>\n",
       "      <td>1/18/2017 11:03</td>\n",
       "      <td>5/16/2017 1:55</td>\n",
       "      <td>NaN</td>\n",
       "      <td>NaN</td>\n",
       "      <td>buy_price</td>\n",
       "      <td>\"1day\"</td>\n",
       "      <td>NaN</td>\n",
       "      <td>NaN</td>\n",
       "      <td>XBT</td>\n",
       "      <td>EUR</td>\n",
       "    </tr>\n",
       "    <tr>\n",
       "      <th>4</th>\n",
       "      <td>93</td>\n",
       "      <td>1385</td>\n",
       "      <td>regular_update</td>\n",
       "      <td>BTCE</td>\n",
       "      <td>BTC_USD</td>\n",
       "      <td>0</td>\n",
       "      <td>0</td>\n",
       "      <td>NaN</td>\n",
       "      <td>1690</td>\n",
       "      <td>5min</td>\n",
       "      <td>1/19/2017 0:34</td>\n",
       "      <td>2/25/2017 8:00</td>\n",
       "      <td>NaN</td>\n",
       "      <td>NaN</td>\n",
       "      <td>buy_price</td>\n",
       "      <td>\"30min\"</td>\n",
       "      <td>NaN</td>\n",
       "      <td>NaN</td>\n",
       "      <td>BTC</td>\n",
       "      <td>USD</td>\n",
       "    </tr>\n",
       "  </tbody>\n",
       "</table>\n",
       "</div>"
      ],
      "text/plain": [
       "   id  user_id            type    market currency  is_active  is_deleted  \\\n",
       "0   6     1345  regular_update  BITSTAMP  BTC_EUR          0           0   \n",
       "1  53     1040  regular_update      BTCE  BTC_EUR          0           0   \n",
       "2  56     1327  regular_update  COINBASE  BTC_USD          1           0   \n",
       "3  57     1375  regular_update    KRAKEN  XBT_EUR          0           0   \n",
       "4  93     1385  regular_update      BTCE  BTC_USD          0           0   \n",
       "\n",
       "   max_notifications  notifications snooze       created_at       updated_at  \\\n",
       "0                NaN              2   5min   1/17/2017 8:50  3/31/2017 23:00   \n",
       "1                NaN            249   5min   1/18/2017 9:54   5/16/2017 1:55   \n",
       "2                NaN           1143   5min  1/18/2017 10:23  7/30/2020 23:00   \n",
       "3                NaN             46   5min  1/18/2017 11:03   5/16/2017 1:55   \n",
       "4                NaN           1690   5min   1/19/2017 0:34   2/25/2017 8:00   \n",
       "\n",
       "  deleted_at     last_checked  comparison     value  operator time_period  \\\n",
       "0        NaN              NaN   buy_price    \"1day\"       NaN         NaN   \n",
       "1        NaN              NaN   buy_price     \"12h\"       NaN         NaN   \n",
       "2        NaN  7/30/2020 23:00  sell_price    \"1day\"       NaN         NaN   \n",
       "3        NaN              NaN   buy_price    \"1day\"       NaN         NaN   \n",
       "4        NaN              NaN   buy_price   \"30min\"       NaN         NaN   \n",
       "\n",
       "  cur_from cur_into  \n",
       "0      BTC      EUR  \n",
       "1      BTC      EUR  \n",
       "2      BTC      USD  \n",
       "3      XBT      EUR  \n",
       "4      BTC      USD  "
      ]
     },
     "execution_count": 14,
     "metadata": {},
     "output_type": "execute_result"
    }
   ],
   "source": [
    "alerts.head()"
   ]
  },
  {
   "cell_type": "code",
   "execution_count": 15,
   "metadata": {},
   "outputs": [
    {
     "data": {
      "text/plain": [
       "array([nan, ' \"5min\"', ' \"1h\"', ' \"1day\"', ' \"1week\"', ' \"30min\"',\n",
       "       ' \"15min\"', ' \"2h\"', ' \"12h\"', ' \"3day\"', ' \"6h\"', ' \"4h\"'],\n",
       "      dtype=object)"
      ]
     },
     "execution_count": 15,
     "metadata": {},
     "output_type": "execute_result"
    }
   ],
   "source": [
    "alerts.time_period.unique()"
   ]
  },
  {
   "cell_type": "code",
   "execution_count": 16,
   "metadata": {},
   "outputs": [],
   "source": [
    "alerts['time_period'] = alerts.time_period.replace({' \"5min\"':0, ' \"15min\"':1, ' \"30min\"':2, ' \"1h\"':3, ' \"2h\"':4, ' \"4h\"':5, ' \"6h\"':6, ' \"12h\"':7, ' \"1day\"':8, ' \"3day\"':9, ' \"1week\"':10}, regex=True)"
   ]
  },
  {
   "cell_type": "code",
   "execution_count": 17,
   "metadata": {},
   "outputs": [
    {
     "data": {
      "text/plain": [
       "array([nan,  0.,  3.,  8., 10.,  2.,  1.,  4.,  7.,  9.,  6.,  5.])"
      ]
     },
     "execution_count": 17,
     "metadata": {},
     "output_type": "execute_result"
    }
   ],
   "source": [
    "alerts.time_period.unique()"
   ]
  },
  {
   "cell_type": "code",
   "execution_count": 18,
   "metadata": {},
   "outputs": [
    {
     "data": {
      "text/plain": [
       "array([' \"1day\"', ' \"12h\"', ' \"30min\"', ' \"6h\"', ' \"3h\"', ' \"3day\"',\n",
       "       ' \"1week\"', ' \"1h\"', ' \"2h\"', nan, ' \"10\"', ' \"8\"', ' \"30\"',\n",
       "       ' \"null\"', ' \"500\"', ' \"0.5\"', ' \"0.4\"', ' \"20\"', ' \"5\"', ' \"1\"'],\n",
       "      dtype=object)"
      ]
     },
     "execution_count": 18,
     "metadata": {},
     "output_type": "execute_result"
    }
   ],
   "source": [
    "alerts.value.unique()[:20]"
   ]
  },
  {
   "cell_type": "code",
   "execution_count": 19,
   "metadata": {},
   "outputs": [
    {
     "data": {
      "text/html": [
       "<div>\n",
       "<style scoped>\n",
       "    .dataframe tbody tr th:only-of-type {\n",
       "        vertical-align: middle;\n",
       "    }\n",
       "\n",
       "    .dataframe tbody tr th {\n",
       "        vertical-align: top;\n",
       "    }\n",
       "\n",
       "    .dataframe thead th {\n",
       "        text-align: right;\n",
       "    }\n",
       "</style>\n",
       "<table border=\"1\" class=\"dataframe\">\n",
       "  <thead>\n",
       "    <tr style=\"text-align: right;\">\n",
       "      <th></th>\n",
       "      <th>id</th>\n",
       "      <th>user_id</th>\n",
       "      <th>type</th>\n",
       "      <th>market</th>\n",
       "      <th>currency</th>\n",
       "      <th>is_active</th>\n",
       "      <th>is_deleted</th>\n",
       "      <th>max_notifications</th>\n",
       "      <th>notifications</th>\n",
       "      <th>snooze</th>\n",
       "      <th>created_at</th>\n",
       "      <th>updated_at</th>\n",
       "      <th>deleted_at</th>\n",
       "      <th>last_checked</th>\n",
       "      <th>comparison</th>\n",
       "      <th>value</th>\n",
       "      <th>operator</th>\n",
       "      <th>time_period</th>\n",
       "      <th>cur_from</th>\n",
       "      <th>cur_into</th>\n",
       "    </tr>\n",
       "  </thead>\n",
       "  <tbody>\n",
       "    <tr>\n",
       "      <th>0</th>\n",
       "      <td>6</td>\n",
       "      <td>1345</td>\n",
       "      <td>regular_update</td>\n",
       "      <td>BITSTAMP</td>\n",
       "      <td>BTC_EUR</td>\n",
       "      <td>0</td>\n",
       "      <td>0</td>\n",
       "      <td>NaN</td>\n",
       "      <td>2</td>\n",
       "      <td>5min</td>\n",
       "      <td>1/17/2017 8:50</td>\n",
       "      <td>3/31/2017 23:00</td>\n",
       "      <td>NaN</td>\n",
       "      <td>NaN</td>\n",
       "      <td>buy_price</td>\n",
       "      <td>\"1day\"</td>\n",
       "      <td>NaN</td>\n",
       "      <td>NaN</td>\n",
       "      <td>BTC</td>\n",
       "      <td>EUR</td>\n",
       "    </tr>\n",
       "    <tr>\n",
       "      <th>2</th>\n",
       "      <td>56</td>\n",
       "      <td>1327</td>\n",
       "      <td>regular_update</td>\n",
       "      <td>COINBASE</td>\n",
       "      <td>BTC_USD</td>\n",
       "      <td>1</td>\n",
       "      <td>0</td>\n",
       "      <td>NaN</td>\n",
       "      <td>1143</td>\n",
       "      <td>5min</td>\n",
       "      <td>1/18/2017 10:23</td>\n",
       "      <td>7/30/2020 23:00</td>\n",
       "      <td>NaN</td>\n",
       "      <td>7/30/2020 23:00</td>\n",
       "      <td>sell_price</td>\n",
       "      <td>\"1day\"</td>\n",
       "      <td>NaN</td>\n",
       "      <td>NaN</td>\n",
       "      <td>BTC</td>\n",
       "      <td>USD</td>\n",
       "    </tr>\n",
       "    <tr>\n",
       "      <th>3</th>\n",
       "      <td>57</td>\n",
       "      <td>1375</td>\n",
       "      <td>regular_update</td>\n",
       "      <td>KRAKEN</td>\n",
       "      <td>XBT_EUR</td>\n",
       "      <td>0</td>\n",
       "      <td>0</td>\n",
       "      <td>NaN</td>\n",
       "      <td>46</td>\n",
       "      <td>5min</td>\n",
       "      <td>1/18/2017 11:03</td>\n",
       "      <td>5/16/2017 1:55</td>\n",
       "      <td>NaN</td>\n",
       "      <td>NaN</td>\n",
       "      <td>buy_price</td>\n",
       "      <td>\"1day\"</td>\n",
       "      <td>NaN</td>\n",
       "      <td>NaN</td>\n",
       "      <td>XBT</td>\n",
       "      <td>EUR</td>\n",
       "    </tr>\n",
       "    <tr>\n",
       "      <th>9</th>\n",
       "      <td>186</td>\n",
       "      <td>1418</td>\n",
       "      <td>regular_update</td>\n",
       "      <td>KRAKEN</td>\n",
       "      <td>ETH_USD</td>\n",
       "      <td>0</td>\n",
       "      <td>0</td>\n",
       "      <td>NaN</td>\n",
       "      <td>46</td>\n",
       "      <td>5min</td>\n",
       "      <td>1/19/2017 22:12</td>\n",
       "      <td>5/16/2017 1:55</td>\n",
       "      <td>NaN</td>\n",
       "      <td>NaN</td>\n",
       "      <td>sell_price</td>\n",
       "      <td>\"1day\"</td>\n",
       "      <td>NaN</td>\n",
       "      <td>NaN</td>\n",
       "      <td>ETH</td>\n",
       "      <td>USD</td>\n",
       "    </tr>\n",
       "    <tr>\n",
       "      <th>10</th>\n",
       "      <td>188</td>\n",
       "      <td>1418</td>\n",
       "      <td>regular_update</td>\n",
       "      <td>KRAKEN</td>\n",
       "      <td>ICN_ETH</td>\n",
       "      <td>0</td>\n",
       "      <td>0</td>\n",
       "      <td>NaN</td>\n",
       "      <td>46</td>\n",
       "      <td>5min</td>\n",
       "      <td>1/19/2017 22:12</td>\n",
       "      <td>5/16/2017 1:55</td>\n",
       "      <td>NaN</td>\n",
       "      <td>NaN</td>\n",
       "      <td>sell_price</td>\n",
       "      <td>\"1day\"</td>\n",
       "      <td>NaN</td>\n",
       "      <td>NaN</td>\n",
       "      <td>ICN</td>\n",
       "      <td>ETH</td>\n",
       "    </tr>\n",
       "    <tr>\n",
       "      <th>...</th>\n",
       "      <td>...</td>\n",
       "      <td>...</td>\n",
       "      <td>...</td>\n",
       "      <td>...</td>\n",
       "      <td>...</td>\n",
       "      <td>...</td>\n",
       "      <td>...</td>\n",
       "      <td>...</td>\n",
       "      <td>...</td>\n",
       "      <td>...</td>\n",
       "      <td>...</td>\n",
       "      <td>...</td>\n",
       "      <td>...</td>\n",
       "      <td>...</td>\n",
       "      <td>...</td>\n",
       "      <td>...</td>\n",
       "      <td>...</td>\n",
       "      <td>...</td>\n",
       "      <td>...</td>\n",
       "      <td>...</td>\n",
       "    </tr>\n",
       "    <tr>\n",
       "      <th>979</th>\n",
       "      <td>174421</td>\n",
       "      <td>75185</td>\n",
       "      <td>regular_update</td>\n",
       "      <td>BITCOINCOID</td>\n",
       "      <td>BTS_BTC</td>\n",
       "      <td>0</td>\n",
       "      <td>1</td>\n",
       "      <td>NaN</td>\n",
       "      <td>3</td>\n",
       "      <td>5min</td>\n",
       "      <td>5/13/2020 3:44</td>\n",
       "      <td>5/13/2020 20:52</td>\n",
       "      <td>5/13/2020 20:52</td>\n",
       "      <td>5/13/2020 18:00</td>\n",
       "      <td>buy_price</td>\n",
       "      <td>\"1day\"</td>\n",
       "      <td>NaN</td>\n",
       "      <td>NaN</td>\n",
       "      <td>BTS</td>\n",
       "      <td>BTC</td>\n",
       "    </tr>\n",
       "    <tr>\n",
       "      <th>993</th>\n",
       "      <td>174715</td>\n",
       "      <td>75185</td>\n",
       "      <td>regular_update</td>\n",
       "      <td>BITCOINCOID</td>\n",
       "      <td>BTS_BTC</td>\n",
       "      <td>0</td>\n",
       "      <td>1</td>\n",
       "      <td>NaN</td>\n",
       "      <td>0</td>\n",
       "      <td>5min</td>\n",
       "      <td>5/20/2020 22:38</td>\n",
       "      <td>5/20/2020 22:38</td>\n",
       "      <td>5/20/2020 22:38</td>\n",
       "      <td>NaN</td>\n",
       "      <td>buy_price</td>\n",
       "      <td>\"1day\"</td>\n",
       "      <td>NaN</td>\n",
       "      <td>NaN</td>\n",
       "      <td>BTS</td>\n",
       "      <td>BTC</td>\n",
       "    </tr>\n",
       "    <tr>\n",
       "      <th>994</th>\n",
       "      <td>174716</td>\n",
       "      <td>75185</td>\n",
       "      <td>regular_update</td>\n",
       "      <td>BITCOINCOID</td>\n",
       "      <td>BTS_BTC</td>\n",
       "      <td>0</td>\n",
       "      <td>0</td>\n",
       "      <td>NaN</td>\n",
       "      <td>0</td>\n",
       "      <td>5min</td>\n",
       "      <td>5/20/2020 22:38</td>\n",
       "      <td>NaN</td>\n",
       "      <td>NaN</td>\n",
       "      <td>NaN</td>\n",
       "      <td>buy_price</td>\n",
       "      <td>\"1day\"</td>\n",
       "      <td>NaN</td>\n",
       "      <td>NaN</td>\n",
       "      <td>BTS</td>\n",
       "      <td>BTC</td>\n",
       "    </tr>\n",
       "    <tr>\n",
       "      <th>995</th>\n",
       "      <td>174720</td>\n",
       "      <td>75185</td>\n",
       "      <td>regular_update</td>\n",
       "      <td>BITCOINCOID</td>\n",
       "      <td>BTS_BTC</td>\n",
       "      <td>0</td>\n",
       "      <td>1</td>\n",
       "      <td>NaN</td>\n",
       "      <td>0</td>\n",
       "      <td>5min</td>\n",
       "      <td>5/20/2020 22:46</td>\n",
       "      <td>5/20/2020 22:46</td>\n",
       "      <td>5/20/2020 22:46</td>\n",
       "      <td>NaN</td>\n",
       "      <td>buy_price</td>\n",
       "      <td>\"1day\"</td>\n",
       "      <td>NaN</td>\n",
       "      <td>NaN</td>\n",
       "      <td>BTS</td>\n",
       "      <td>BTC</td>\n",
       "    </tr>\n",
       "    <tr>\n",
       "      <th>996</th>\n",
       "      <td>174721</td>\n",
       "      <td>75185</td>\n",
       "      <td>regular_update</td>\n",
       "      <td>BITCOINCOID</td>\n",
       "      <td>BTS_BTC</td>\n",
       "      <td>0</td>\n",
       "      <td>1</td>\n",
       "      <td>NaN</td>\n",
       "      <td>0</td>\n",
       "      <td>5min</td>\n",
       "      <td>5/20/2020 22:46</td>\n",
       "      <td>5/20/2020 22:47</td>\n",
       "      <td>5/20/2020 22:47</td>\n",
       "      <td>NaN</td>\n",
       "      <td>buy_price</td>\n",
       "      <td>\"1day\"</td>\n",
       "      <td>NaN</td>\n",
       "      <td>NaN</td>\n",
       "      <td>BTS</td>\n",
       "      <td>BTC</td>\n",
       "    </tr>\n",
       "  </tbody>\n",
       "</table>\n",
       "<p>119 rows × 20 columns</p>\n",
       "</div>"
      ],
      "text/plain": [
       "         id  user_id            type       market currency  is_active  \\\n",
       "0         6     1345  regular_update     BITSTAMP  BTC_EUR          0   \n",
       "2        56     1327  regular_update     COINBASE  BTC_USD          1   \n",
       "3        57     1375  regular_update       KRAKEN  XBT_EUR          0   \n",
       "9       186     1418  regular_update       KRAKEN  ETH_USD          0   \n",
       "10      188     1418  regular_update       KRAKEN  ICN_ETH          0   \n",
       "..      ...      ...             ...          ...      ...        ...   \n",
       "979  174421    75185  regular_update  BITCOINCOID  BTS_BTC          0   \n",
       "993  174715    75185  regular_update  BITCOINCOID  BTS_BTC          0   \n",
       "994  174716    75185  regular_update  BITCOINCOID  BTS_BTC          0   \n",
       "995  174720    75185  regular_update  BITCOINCOID  BTS_BTC          0   \n",
       "996  174721    75185  regular_update  BITCOINCOID  BTS_BTC          0   \n",
       "\n",
       "     is_deleted  max_notifications  notifications snooze       created_at  \\\n",
       "0             0                NaN              2   5min   1/17/2017 8:50   \n",
       "2             0                NaN           1143   5min  1/18/2017 10:23   \n",
       "3             0                NaN             46   5min  1/18/2017 11:03   \n",
       "9             0                NaN             46   5min  1/19/2017 22:12   \n",
       "10            0                NaN             46   5min  1/19/2017 22:12   \n",
       "..          ...                ...            ...    ...              ...   \n",
       "979           1                NaN              3   5min   5/13/2020 3:44   \n",
       "993           1                NaN              0   5min  5/20/2020 22:38   \n",
       "994           0                NaN              0   5min  5/20/2020 22:38   \n",
       "995           1                NaN              0   5min  5/20/2020 22:46   \n",
       "996           1                NaN              0   5min  5/20/2020 22:46   \n",
       "\n",
       "          updated_at       deleted_at     last_checked  comparison    value  \\\n",
       "0    3/31/2017 23:00              NaN              NaN   buy_price   \"1day\"   \n",
       "2    7/30/2020 23:00              NaN  7/30/2020 23:00  sell_price   \"1day\"   \n",
       "3     5/16/2017 1:55              NaN              NaN   buy_price   \"1day\"   \n",
       "9     5/16/2017 1:55              NaN              NaN  sell_price   \"1day\"   \n",
       "10    5/16/2017 1:55              NaN              NaN  sell_price   \"1day\"   \n",
       "..               ...              ...              ...         ...      ...   \n",
       "979  5/13/2020 20:52  5/13/2020 20:52  5/13/2020 18:00   buy_price   \"1day\"   \n",
       "993  5/20/2020 22:38  5/20/2020 22:38              NaN   buy_price   \"1day\"   \n",
       "994              NaN              NaN              NaN   buy_price   \"1day\"   \n",
       "995  5/20/2020 22:46  5/20/2020 22:46              NaN   buy_price   \"1day\"   \n",
       "996  5/20/2020 22:47  5/20/2020 22:47              NaN   buy_price   \"1day\"   \n",
       "\n",
       "     operator  time_period cur_from cur_into  \n",
       "0         NaN          NaN      BTC      EUR  \n",
       "2         NaN          NaN      BTC      USD  \n",
       "3         NaN          NaN      XBT      EUR  \n",
       "9         NaN          NaN      ETH      USD  \n",
       "10        NaN          NaN      ICN      ETH  \n",
       "..        ...          ...      ...      ...  \n",
       "979       NaN          NaN      BTS      BTC  \n",
       "993       NaN          NaN      BTS      BTC  \n",
       "994       NaN          NaN      BTS      BTC  \n",
       "995       NaN          NaN      BTS      BTC  \n",
       "996       NaN          NaN      BTS      BTC  \n",
       "\n",
       "[119 rows x 20 columns]"
      ]
     },
     "execution_count": 19,
     "metadata": {},
     "output_type": "execute_result"
    }
   ],
   "source": [
    "alerts[alerts.value == ' \"1day\"']"
   ]
  },
  {
   "cell_type": "code",
   "execution_count": 20,
   "metadata": {},
   "outputs": [
    {
     "data": {
      "text/plain": [
       "<bound method Series.sum of buy_price        68650\n",
       "sell_price       16794\n",
       "volume            2862\n",
       "high_price        2021\n",
       "low_price         1509\n",
       "agerage_price      785\n",
       "average_price      136\n",
       "volume_price         3\n",
       "Name: comparison, dtype: int64>"
      ]
     },
     "execution_count": 20,
     "metadata": {},
     "output_type": "execute_result"
    }
   ],
   "source": [
    "alerts.comparison.value_counts(0)[:15].sum"
   ]
  },
  {
   "cell_type": "code",
   "execution_count": 21,
   "metadata": {},
   "outputs": [
    {
     "data": {
      "text/html": [
       "<div>\n",
       "<style scoped>\n",
       "    .dataframe tbody tr th:only-of-type {\n",
       "        vertical-align: middle;\n",
       "    }\n",
       "\n",
       "    .dataframe tbody tr th {\n",
       "        vertical-align: top;\n",
       "    }\n",
       "\n",
       "    .dataframe thead th {\n",
       "        text-align: right;\n",
       "    }\n",
       "</style>\n",
       "<table border=\"1\" class=\"dataframe\">\n",
       "  <thead>\n",
       "    <tr style=\"text-align: right;\">\n",
       "      <th></th>\n",
       "      <th>id</th>\n",
       "      <th>user_id</th>\n",
       "      <th>type</th>\n",
       "      <th>market</th>\n",
       "      <th>currency</th>\n",
       "      <th>is_active</th>\n",
       "      <th>is_deleted</th>\n",
       "      <th>max_notifications</th>\n",
       "      <th>notifications</th>\n",
       "      <th>snooze</th>\n",
       "      <th>created_at</th>\n",
       "      <th>updated_at</th>\n",
       "      <th>deleted_at</th>\n",
       "      <th>last_checked</th>\n",
       "      <th>comparison</th>\n",
       "      <th>value</th>\n",
       "      <th>operator</th>\n",
       "      <th>time_period</th>\n",
       "      <th>cur_from</th>\n",
       "      <th>cur_into</th>\n",
       "    </tr>\n",
       "  </thead>\n",
       "  <tbody>\n",
       "    <tr>\n",
       "      <th>17538</th>\n",
       "      <td>97989</td>\n",
       "      <td>54401</td>\n",
       "      <td>percent_change</td>\n",
       "      <td>BITMEX</td>\n",
       "      <td>XBT_USD</td>\n",
       "      <td>1</td>\n",
       "      <td>0</td>\n",
       "      <td>10.0</td>\n",
       "      <td>0</td>\n",
       "      <td>5min</td>\n",
       "      <td>7/18/2018 8:43</td>\n",
       "      <td>9/24/2018 9:06</td>\n",
       "      <td>NaN</td>\n",
       "      <td>NaN</td>\n",
       "      <td>volume_price</td>\n",
       "      <td>\"1\"</td>\n",
       "      <td>1.0</td>\n",
       "      <td>0.0</td>\n",
       "      <td>XBT</td>\n",
       "      <td>USD</td>\n",
       "    </tr>\n",
       "    <tr>\n",
       "      <th>17541</th>\n",
       "      <td>98029</td>\n",
       "      <td>54076</td>\n",
       "      <td>percent_change</td>\n",
       "      <td>BINANCE</td>\n",
       "      <td>APPC_BTC</td>\n",
       "      <td>0</td>\n",
       "      <td>1</td>\n",
       "      <td>10.0</td>\n",
       "      <td>10</td>\n",
       "      <td>5min</td>\n",
       "      <td>7/18/2018 14:51</td>\n",
       "      <td>7/13/2019 4:52</td>\n",
       "      <td>NaN</td>\n",
       "      <td>7/25/2018 13:14</td>\n",
       "      <td>volume_price</td>\n",
       "      <td>\"50\"</td>\n",
       "      <td>1.0</td>\n",
       "      <td>3.0</td>\n",
       "      <td>APPC</td>\n",
       "      <td>BTC</td>\n",
       "    </tr>\n",
       "    <tr>\n",
       "      <th>17647</th>\n",
       "      <td>101921</td>\n",
       "      <td>54845</td>\n",
       "      <td>percent_change</td>\n",
       "      <td>CRYPTOPIA</td>\n",
       "      <td>BIS_BTC</td>\n",
       "      <td>0</td>\n",
       "      <td>1</td>\n",
       "      <td>1.0</td>\n",
       "      <td>0</td>\n",
       "      <td>5min</td>\n",
       "      <td>7/29/2018 16:49</td>\n",
       "      <td>8/28/2018 0:29</td>\n",
       "      <td>8/28/2018 0:29</td>\n",
       "      <td>NaN</td>\n",
       "      <td>volume_price</td>\n",
       "      <td>\"40\"</td>\n",
       "      <td>1.0</td>\n",
       "      <td>5.0</td>\n",
       "      <td>BIS</td>\n",
       "      <td>BTC</td>\n",
       "    </tr>\n",
       "  </tbody>\n",
       "</table>\n",
       "</div>"
      ],
      "text/plain": [
       "           id  user_id            type     market  currency  is_active  \\\n",
       "17538   97989    54401  percent_change     BITMEX   XBT_USD          1   \n",
       "17541   98029    54076  percent_change    BINANCE  APPC_BTC          0   \n",
       "17647  101921    54845  percent_change  CRYPTOPIA   BIS_BTC          0   \n",
       "\n",
       "       is_deleted  max_notifications  notifications snooze       created_at  \\\n",
       "17538           0               10.0              0   5min   7/18/2018 8:43   \n",
       "17541           1               10.0             10   5min  7/18/2018 14:51   \n",
       "17647           1                1.0              0   5min  7/29/2018 16:49   \n",
       "\n",
       "           updated_at      deleted_at     last_checked    comparison  value  \\\n",
       "17538  9/24/2018 9:06             NaN              NaN  volume_price    \"1\"   \n",
       "17541  7/13/2019 4:52             NaN  7/25/2018 13:14  volume_price   \"50\"   \n",
       "17647  8/28/2018 0:29  8/28/2018 0:29              NaN  volume_price   \"40\"   \n",
       "\n",
       "       operator  time_period cur_from cur_into  \n",
       "17538       1.0          0.0      XBT      USD  \n",
       "17541       1.0          3.0     APPC      BTC  \n",
       "17647       1.0          5.0      BIS      BTC  "
      ]
     },
     "execution_count": 21,
     "metadata": {},
     "output_type": "execute_result"
    }
   ],
   "source": [
    "alerts[alerts.comparison == 'volume_price']"
   ]
  },
  {
   "cell_type": "code",
   "execution_count": 22,
   "metadata": {},
   "outputs": [
    {
     "data": {
      "text/plain": [
       "array(['buy_price', 'sell_price', 'low_price', 'high_price', nan,\n",
       "       'volume', 'average_price'], dtype=object)"
      ]
     },
     "execution_count": 22,
     "metadata": {},
     "output_type": "execute_result"
    }
   ],
   "source": [
    "alerts[alerts.type == 'regular_update'].comparison.unique()"
   ]
  },
  {
   "cell_type": "code",
   "execution_count": 23,
   "metadata": {},
   "outputs": [
    {
     "data": {
      "text/plain": [
       "array(['buy_price', 'sell_price', 'low_price', 'high_price',\n",
       "       'average_price', nan, 'volume', 'volume_price'], dtype=object)"
      ]
     },
     "execution_count": 23,
     "metadata": {},
     "output_type": "execute_result"
    }
   ],
   "source": [
    "alerts[alerts.type == 'percent_change'].comparison.unique()"
   ]
  },
  {
   "cell_type": "code",
   "execution_count": 24,
   "metadata": {},
   "outputs": [
    {
     "data": {
      "text/plain": [
       "array(['sell_price', 'buy_price', 'high_price', 'low_price',\n",
       "       'agerage_price', 'volume', nan], dtype=object)"
      ]
     },
     "execution_count": 24,
     "metadata": {},
     "output_type": "execute_result"
    }
   ],
   "source": [
    "alerts[alerts.type == 'price_point'].comparison.unique()"
   ]
  },
  {
   "cell_type": "code",
   "execution_count": 25,
   "metadata": {},
   "outputs": [
    {
     "data": {
      "text/plain": [
       "array(['regular_update', 'percent_change', 'price_point'], dtype=object)"
      ]
     },
     "execution_count": 25,
     "metadata": {},
     "output_type": "execute_result"
    }
   ],
   "source": [
    "alerts.type.unique()"
   ]
  },
  {
   "cell_type": "code",
   "execution_count": 26,
   "metadata": {},
   "outputs": [
    {
     "name": "stdout",
     "output_type": "stream",
     "text": [
      "<class 'pandas.core.frame.DataFrame'>\n",
      "RangeIndex: 102224 entries, 0 to 102223\n",
      "Data columns (total 20 columns):\n",
      " #   Column             Non-Null Count   Dtype  \n",
      "---  ------             --------------   -----  \n",
      " 0   id                 102224 non-null  int64  \n",
      " 1   user_id            102224 non-null  int64  \n",
      " 2   type               102224 non-null  object \n",
      " 3   market             102224 non-null  object \n",
      " 4   currency           102019 non-null  object \n",
      " 5   is_active          102224 non-null  int64  \n",
      " 6   is_deleted         102224 non-null  int64  \n",
      " 7   max_notifications  101217 non-null  float64\n",
      " 8   notifications      102224 non-null  int64  \n",
      " 9   snooze             102224 non-null  object \n",
      " 10  created_at         102224 non-null  object \n",
      " 11  updated_at         96736 non-null   object \n",
      " 12  deleted_at         21076 non-null   object \n",
      " 13  last_checked       21320 non-null   object \n",
      " 14  comparison         92760 non-null   object \n",
      " 15  value              92760 non-null   object \n",
      " 16  operator           92321 non-null   float64\n",
      " 17  time_period        16421 non-null   float64\n",
      " 18  cur_from           102019 non-null  object \n",
      " 19  cur_into           101690 non-null  object \n",
      "dtypes: float64(3), int64(5), object(12)\n",
      "memory usage: 15.6+ MB\n"
     ]
    }
   ],
   "source": [
    "alerts.info()"
   ]
  },
  {
   "cell_type": "code",
   "execution_count": 27,
   "metadata": {},
   "outputs": [],
   "source": [
    "#alerts['comparison'] = alerts.comparison.replace({' \"<=\"':0, ' \">=\"':1}, regex=True)"
   ]
  },
  {
   "cell_type": "code",
   "execution_count": 28,
   "metadata": {},
   "outputs": [
    {
     "data": {
      "text/plain": [
       "array(['regular_update', 'percent_change', 'price_point'], dtype=object)"
      ]
     },
     "execution_count": 28,
     "metadata": {},
     "output_type": "execute_result"
    }
   ],
   "source": [
    "alerts.type.unique()"
   ]
  },
  {
   "cell_type": "code",
   "execution_count": 29,
   "metadata": {},
   "outputs": [],
   "source": [
    "alerts['type_as_num'] = alerts.type.replace({'regular_update':0, 'percent_change':1, 'price_point':2}, regex=True)"
   ]
  },
  {
   "cell_type": "code",
   "execution_count": 30,
   "metadata": {},
   "outputs": [
    {
     "data": {
      "text/html": [
       "<div>\n",
       "<style scoped>\n",
       "    .dataframe tbody tr th:only-of-type {\n",
       "        vertical-align: middle;\n",
       "    }\n",
       "\n",
       "    .dataframe tbody tr th {\n",
       "        vertical-align: top;\n",
       "    }\n",
       "\n",
       "    .dataframe thead th {\n",
       "        text-align: right;\n",
       "    }\n",
       "</style>\n",
       "<table border=\"1\" class=\"dataframe\">\n",
       "  <thead>\n",
       "    <tr style=\"text-align: right;\">\n",
       "      <th></th>\n",
       "      <th>id</th>\n",
       "      <th>user_id</th>\n",
       "      <th>type</th>\n",
       "      <th>market</th>\n",
       "      <th>currency</th>\n",
       "      <th>is_active</th>\n",
       "      <th>is_deleted</th>\n",
       "      <th>max_notifications</th>\n",
       "      <th>notifications</th>\n",
       "      <th>snooze</th>\n",
       "      <th>...</th>\n",
       "      <th>updated_at</th>\n",
       "      <th>deleted_at</th>\n",
       "      <th>last_checked</th>\n",
       "      <th>comparison</th>\n",
       "      <th>value</th>\n",
       "      <th>operator</th>\n",
       "      <th>time_period</th>\n",
       "      <th>cur_from</th>\n",
       "      <th>cur_into</th>\n",
       "      <th>type_as_num</th>\n",
       "    </tr>\n",
       "  </thead>\n",
       "  <tbody>\n",
       "    <tr>\n",
       "      <th>0</th>\n",
       "      <td>6</td>\n",
       "      <td>1345</td>\n",
       "      <td>regular_update</td>\n",
       "      <td>BITSTAMP</td>\n",
       "      <td>BTC_EUR</td>\n",
       "      <td>0</td>\n",
       "      <td>0</td>\n",
       "      <td>NaN</td>\n",
       "      <td>2</td>\n",
       "      <td>5min</td>\n",
       "      <td>...</td>\n",
       "      <td>3/31/2017 23:00</td>\n",
       "      <td>NaN</td>\n",
       "      <td>NaN</td>\n",
       "      <td>buy_price</td>\n",
       "      <td>\"1day\"</td>\n",
       "      <td>NaN</td>\n",
       "      <td>NaN</td>\n",
       "      <td>BTC</td>\n",
       "      <td>EUR</td>\n",
       "      <td>0</td>\n",
       "    </tr>\n",
       "    <tr>\n",
       "      <th>1</th>\n",
       "      <td>53</td>\n",
       "      <td>1040</td>\n",
       "      <td>regular_update</td>\n",
       "      <td>BTCE</td>\n",
       "      <td>BTC_EUR</td>\n",
       "      <td>0</td>\n",
       "      <td>0</td>\n",
       "      <td>NaN</td>\n",
       "      <td>249</td>\n",
       "      <td>5min</td>\n",
       "      <td>...</td>\n",
       "      <td>5/16/2017 1:55</td>\n",
       "      <td>NaN</td>\n",
       "      <td>NaN</td>\n",
       "      <td>buy_price</td>\n",
       "      <td>\"12h\"</td>\n",
       "      <td>NaN</td>\n",
       "      <td>NaN</td>\n",
       "      <td>BTC</td>\n",
       "      <td>EUR</td>\n",
       "      <td>0</td>\n",
       "    </tr>\n",
       "    <tr>\n",
       "      <th>2</th>\n",
       "      <td>56</td>\n",
       "      <td>1327</td>\n",
       "      <td>regular_update</td>\n",
       "      <td>COINBASE</td>\n",
       "      <td>BTC_USD</td>\n",
       "      <td>1</td>\n",
       "      <td>0</td>\n",
       "      <td>NaN</td>\n",
       "      <td>1143</td>\n",
       "      <td>5min</td>\n",
       "      <td>...</td>\n",
       "      <td>7/30/2020 23:00</td>\n",
       "      <td>NaN</td>\n",
       "      <td>7/30/2020 23:00</td>\n",
       "      <td>sell_price</td>\n",
       "      <td>\"1day\"</td>\n",
       "      <td>NaN</td>\n",
       "      <td>NaN</td>\n",
       "      <td>BTC</td>\n",
       "      <td>USD</td>\n",
       "      <td>0</td>\n",
       "    </tr>\n",
       "    <tr>\n",
       "      <th>3</th>\n",
       "      <td>57</td>\n",
       "      <td>1375</td>\n",
       "      <td>regular_update</td>\n",
       "      <td>KRAKEN</td>\n",
       "      <td>XBT_EUR</td>\n",
       "      <td>0</td>\n",
       "      <td>0</td>\n",
       "      <td>NaN</td>\n",
       "      <td>46</td>\n",
       "      <td>5min</td>\n",
       "      <td>...</td>\n",
       "      <td>5/16/2017 1:55</td>\n",
       "      <td>NaN</td>\n",
       "      <td>NaN</td>\n",
       "      <td>buy_price</td>\n",
       "      <td>\"1day\"</td>\n",
       "      <td>NaN</td>\n",
       "      <td>NaN</td>\n",
       "      <td>XBT</td>\n",
       "      <td>EUR</td>\n",
       "      <td>0</td>\n",
       "    </tr>\n",
       "    <tr>\n",
       "      <th>4</th>\n",
       "      <td>93</td>\n",
       "      <td>1385</td>\n",
       "      <td>regular_update</td>\n",
       "      <td>BTCE</td>\n",
       "      <td>BTC_USD</td>\n",
       "      <td>0</td>\n",
       "      <td>0</td>\n",
       "      <td>NaN</td>\n",
       "      <td>1690</td>\n",
       "      <td>5min</td>\n",
       "      <td>...</td>\n",
       "      <td>2/25/2017 8:00</td>\n",
       "      <td>NaN</td>\n",
       "      <td>NaN</td>\n",
       "      <td>buy_price</td>\n",
       "      <td>\"30min\"</td>\n",
       "      <td>NaN</td>\n",
       "      <td>NaN</td>\n",
       "      <td>BTC</td>\n",
       "      <td>USD</td>\n",
       "      <td>0</td>\n",
       "    </tr>\n",
       "  </tbody>\n",
       "</table>\n",
       "<p>5 rows × 21 columns</p>\n",
       "</div>"
      ],
      "text/plain": [
       "   id  user_id            type    market currency  is_active  is_deleted  \\\n",
       "0   6     1345  regular_update  BITSTAMP  BTC_EUR          0           0   \n",
       "1  53     1040  regular_update      BTCE  BTC_EUR          0           0   \n",
       "2  56     1327  regular_update  COINBASE  BTC_USD          1           0   \n",
       "3  57     1375  regular_update    KRAKEN  XBT_EUR          0           0   \n",
       "4  93     1385  regular_update      BTCE  BTC_USD          0           0   \n",
       "\n",
       "   max_notifications  notifications snooze  ...       updated_at deleted_at  \\\n",
       "0                NaN              2   5min  ...  3/31/2017 23:00        NaN   \n",
       "1                NaN            249   5min  ...   5/16/2017 1:55        NaN   \n",
       "2                NaN           1143   5min  ...  7/30/2020 23:00        NaN   \n",
       "3                NaN             46   5min  ...   5/16/2017 1:55        NaN   \n",
       "4                NaN           1690   5min  ...   2/25/2017 8:00        NaN   \n",
       "\n",
       "      last_checked  comparison     value operator  time_period  cur_from  \\\n",
       "0              NaN   buy_price    \"1day\"      NaN          NaN       BTC   \n",
       "1              NaN   buy_price     \"12h\"      NaN          NaN       BTC   \n",
       "2  7/30/2020 23:00  sell_price    \"1day\"      NaN          NaN       BTC   \n",
       "3              NaN   buy_price    \"1day\"      NaN          NaN       XBT   \n",
       "4              NaN   buy_price   \"30min\"      NaN          NaN       BTC   \n",
       "\n",
       "  cur_into type_as_num  \n",
       "0      EUR           0  \n",
       "1      EUR           0  \n",
       "2      USD           0  \n",
       "3      EUR           0  \n",
       "4      USD           0  \n",
       "\n",
       "[5 rows x 21 columns]"
      ]
     },
     "execution_count": 30,
     "metadata": {},
     "output_type": "execute_result"
    }
   ],
   "source": [
    "alerts.head()"
   ]
  },
  {
   "cell_type": "markdown",
   "metadata": {},
   "source": [
    "-"
   ]
  },
  {
   "cell_type": "markdown",
   "metadata": {},
   "source": [
    "-"
   ]
  },
  {
   "cell_type": "markdown",
   "metadata": {},
   "source": [
    "Let's start looking into the notes DF."
   ]
  },
  {
   "cell_type": "code",
   "execution_count": 31,
   "metadata": {},
   "outputs": [
    {
     "data": {
      "text/html": [
       "<div>\n",
       "<style scoped>\n",
       "    .dataframe tbody tr th:only-of-type {\n",
       "        vertical-align: middle;\n",
       "    }\n",
       "\n",
       "    .dataframe tbody tr th {\n",
       "        vertical-align: top;\n",
       "    }\n",
       "\n",
       "    .dataframe thead th {\n",
       "        text-align: right;\n",
       "    }\n",
       "</style>\n",
       "<table border=\"1\" class=\"dataframe\">\n",
       "  <thead>\n",
       "    <tr style=\"text-align: right;\">\n",
       "      <th></th>\n",
       "      <th>id</th>\n",
       "      <th>alert_id</th>\n",
       "      <th>user_id</th>\n",
       "      <th>user_channels</th>\n",
       "      <th>message</th>\n",
       "      <th>created_at</th>\n",
       "    </tr>\n",
       "  </thead>\n",
       "  <tbody>\n",
       "    <tr>\n",
       "      <th>40938</th>\n",
       "      <td>40939</td>\n",
       "      <td>6</td>\n",
       "      <td>1345</td>\n",
       "      <td>7</td>\n",
       "      <td>Your BITSTAMP - BTC_EUR alert has been trigger...</td>\n",
       "      <td>2017-03-31 23:00:18</td>\n",
       "    </tr>\n",
       "    <tr>\n",
       "      <th>40940</th>\n",
       "      <td>40941</td>\n",
       "      <td>6</td>\n",
       "      <td>1345</td>\n",
       "      <td>129</td>\n",
       "      <td>SMS Credits exhausted and the alert has been p...</td>\n",
       "      <td>2017-03-31 23:00:19</td>\n",
       "    </tr>\n",
       "  </tbody>\n",
       "</table>\n",
       "</div>"
      ],
      "text/plain": [
       "          id  alert_id  user_id  user_channels  \\\n",
       "40938  40939         6     1345              7   \n",
       "40940  40941         6     1345            129   \n",
       "\n",
       "                                                 message           created_at  \n",
       "40938  Your BITSTAMP - BTC_EUR alert has been trigger...  2017-03-31 23:00:18  \n",
       "40940  SMS Credits exhausted and the alert has been p...  2017-03-31 23:00:19  "
      ]
     },
     "execution_count": 31,
     "metadata": {},
     "output_type": "execute_result"
    }
   ],
   "source": [
    "notes_raw[notes_raw.alert_id == 6]"
   ]
  },
  {
   "cell_type": "code",
   "execution_count": 32,
   "metadata": {},
   "outputs": [
    {
     "data": {
      "text/plain": [
       "(27076, 22824)"
      ]
     },
     "execution_count": 32,
     "metadata": {},
     "output_type": "execute_result"
    }
   ],
   "source": [
    "notes_raw.user_channels.nunique(), notes_raw.user_id.nunique()"
   ]
  },
  {
   "cell_type": "markdown",
   "metadata": {},
   "source": [
    "Interesting, we have more user channels then we do user id's."
   ]
  },
  {
   "cell_type": "code",
   "execution_count": 33,
   "metadata": {},
   "outputs": [
    {
     "data": {
      "text/plain": [
       "'Your GDAX - BTC_USD alert has been triggered. Alert me when the buy price is less than 1000. The buy price is currently 891.69.'"
      ]
     },
     "execution_count": 33,
     "metadata": {},
     "output_type": "execute_result"
    }
   ],
   "source": [
    "notes_raw.message[0]"
   ]
  },
  {
   "cell_type": "code",
   "execution_count": 34,
   "metadata": {},
   "outputs": [
    {
     "data": {
      "text/plain": [
       "(2        0.047480\n",
       " 13997    0.036018\n",
       " 21157    0.029195\n",
       " 48258    0.028308\n",
       " 56887    0.027487\n",
       " 44652    0.021033\n",
       " 61933    0.019671\n",
       " 16407    0.019482\n",
       " 47942    0.018711\n",
       " 28409    0.017988\n",
       " Name: user_id, dtype: float64,\n",
       " 0.26537282411450974)"
      ]
     },
     "execution_count": 34,
     "metadata": {},
     "output_type": "execute_result"
    }
   ],
   "source": [
    "notes_use_vcount = notes_raw.user_id.value_counts(1)\n",
    "notes_use_vcount[:10], notes_use_vcount[:10].sum()"
   ]
  },
  {
   "cell_type": "markdown",
   "metadata": {},
   "source": [
    "Alright we've seen what an average note might look like and how many of the notes are from the different users. It looks like about 5% of them are from the company's creator (user '2'). Let's see the number of alerts for bitcoin vs market cap. We'll change all dates into datetime objects for ease of use."
   ]
  },
  {
   "cell_type": "code",
   "execution_count": 35,
   "metadata": {},
   "outputs": [],
   "source": [
    "notes = notes_raw"
   ]
  },
  {
   "cell_type": "code",
   "execution_count": 36,
   "metadata": {},
   "outputs": [],
   "source": [
    "notes['created_at'] = pd.to_datetime(notes.created_at)"
   ]
  },
  {
   "cell_type": "code",
   "execution_count": 37,
   "metadata": {},
   "outputs": [
    {
     "data": {
      "text/html": [
       "<div>\n",
       "<style scoped>\n",
       "    .dataframe tbody tr th:only-of-type {\n",
       "        vertical-align: middle;\n",
       "    }\n",
       "\n",
       "    .dataframe tbody tr th {\n",
       "        vertical-align: top;\n",
       "    }\n",
       "\n",
       "    .dataframe thead th {\n",
       "        text-align: right;\n",
       "    }\n",
       "</style>\n",
       "<table border=\"1\" class=\"dataframe\">\n",
       "  <thead>\n",
       "    <tr style=\"text-align: right;\">\n",
       "      <th></th>\n",
       "      <th>id</th>\n",
       "      <th>alert_id</th>\n",
       "      <th>user_id</th>\n",
       "      <th>user_channels</th>\n",
       "      <th>message</th>\n",
       "      <th>created_at</th>\n",
       "    </tr>\n",
       "  </thead>\n",
       "  <tbody>\n",
       "    <tr>\n",
       "      <th>0</th>\n",
       "      <td>1</td>\n",
       "      <td>4</td>\n",
       "      <td>2</td>\n",
       "      <td>1</td>\n",
       "      <td>Your GDAX - BTC_USD alert has been triggered. ...</td>\n",
       "      <td>2017-01-17 07:55:05</td>\n",
       "    </tr>\n",
       "    <tr>\n",
       "      <th>1</th>\n",
       "      <td>2</td>\n",
       "      <td>4</td>\n",
       "      <td>2</td>\n",
       "      <td>2</td>\n",
       "      <td>Coindera Alert: GDAX - BTC_USD.  The buy price...</td>\n",
       "      <td>2017-01-17 07:55:05</td>\n",
       "    </tr>\n",
       "    <tr>\n",
       "      <th>2</th>\n",
       "      <td>3</td>\n",
       "      <td>4</td>\n",
       "      <td>2</td>\n",
       "      <td>3</td>\n",
       "      <td>Your GDAX - BTC_USD alert has been triggered. ...</td>\n",
       "      <td>2017-01-17 07:55:05</td>\n",
       "    </tr>\n",
       "    <tr>\n",
       "      <th>3</th>\n",
       "      <td>4</td>\n",
       "      <td>4</td>\n",
       "      <td>2</td>\n",
       "      <td>1</td>\n",
       "      <td>Your GDAX - BTC_USD alert has been triggered. ...</td>\n",
       "      <td>2017-01-17 08:00:09</td>\n",
       "    </tr>\n",
       "    <tr>\n",
       "      <th>4</th>\n",
       "      <td>5</td>\n",
       "      <td>4</td>\n",
       "      <td>2</td>\n",
       "      <td>3</td>\n",
       "      <td>Your GDAX - BTC_USD alert has been triggered. ...</td>\n",
       "      <td>2017-01-17 08:00:10</td>\n",
       "    </tr>\n",
       "  </tbody>\n",
       "</table>\n",
       "</div>"
      ],
      "text/plain": [
       "   id  alert_id  user_id  user_channels  \\\n",
       "0   1         4        2              1   \n",
       "1   2         4        2              2   \n",
       "2   3         4        2              3   \n",
       "3   4         4        2              1   \n",
       "4   5         4        2              3   \n",
       "\n",
       "                                             message          created_at  \n",
       "0  Your GDAX - BTC_USD alert has been triggered. ... 2017-01-17 07:55:05  \n",
       "1  Coindera Alert: GDAX - BTC_USD.  The buy price... 2017-01-17 07:55:05  \n",
       "2  Your GDAX - BTC_USD alert has been triggered. ... 2017-01-17 07:55:05  \n",
       "3  Your GDAX - BTC_USD alert has been triggered. ... 2017-01-17 08:00:09  \n",
       "4  Your GDAX - BTC_USD alert has been triggered. ... 2017-01-17 08:00:10  "
      ]
     },
     "execution_count": 37,
     "metadata": {},
     "output_type": "execute_result"
    }
   ],
   "source": [
    "notes.head()"
   ]
  },
  {
   "cell_type": "code",
   "execution_count": 38,
   "metadata": {},
   "outputs": [],
   "source": [
    "notes.set_index(notes.created_at, inplace=True)"
   ]
  },
  {
   "cell_type": "code",
   "execution_count": 39,
   "metadata": {},
   "outputs": [
    {
     "data": {
      "text/html": [
       "<div>\n",
       "<style scoped>\n",
       "    .dataframe tbody tr th:only-of-type {\n",
       "        vertical-align: middle;\n",
       "    }\n",
       "\n",
       "    .dataframe tbody tr th {\n",
       "        vertical-align: top;\n",
       "    }\n",
       "\n",
       "    .dataframe thead th {\n",
       "        text-align: right;\n",
       "    }\n",
       "</style>\n",
       "<table border=\"1\" class=\"dataframe\">\n",
       "  <thead>\n",
       "    <tr style=\"text-align: right;\">\n",
       "      <th></th>\n",
       "      <th>message</th>\n",
       "    </tr>\n",
       "    <tr>\n",
       "      <th>created_at</th>\n",
       "      <th></th>\n",
       "    </tr>\n",
       "  </thead>\n",
       "  <tbody>\n",
       "    <tr>\n",
       "      <th>2017-01-17</th>\n",
       "      <td>30</td>\n",
       "    </tr>\n",
       "    <tr>\n",
       "      <th>2017-01-18</th>\n",
       "      <td>53</td>\n",
       "    </tr>\n",
       "    <tr>\n",
       "      <th>2017-01-19</th>\n",
       "      <td>165</td>\n",
       "    </tr>\n",
       "    <tr>\n",
       "      <th>2017-01-20</th>\n",
       "      <td>85</td>\n",
       "    </tr>\n",
       "    <tr>\n",
       "      <th>2017-01-21</th>\n",
       "      <td>112</td>\n",
       "    </tr>\n",
       "    <tr>\n",
       "      <th>...</th>\n",
       "      <td>...</td>\n",
       "    </tr>\n",
       "    <tr>\n",
       "      <th>2020-07-27</th>\n",
       "      <td>2382</td>\n",
       "    </tr>\n",
       "    <tr>\n",
       "      <th>2020-07-28</th>\n",
       "      <td>1290</td>\n",
       "    </tr>\n",
       "    <tr>\n",
       "      <th>2020-07-29</th>\n",
       "      <td>1453</td>\n",
       "    </tr>\n",
       "    <tr>\n",
       "      <th>2020-07-30</th>\n",
       "      <td>1786</td>\n",
       "    </tr>\n",
       "    <tr>\n",
       "      <th>2020-07-31</th>\n",
       "      <td>1006</td>\n",
       "    </tr>\n",
       "  </tbody>\n",
       "</table>\n",
       "<p>1292 rows × 1 columns</p>\n",
       "</div>"
      ],
      "text/plain": [
       "            message\n",
       "created_at         \n",
       "2017-01-17       30\n",
       "2017-01-18       53\n",
       "2017-01-19      165\n",
       "2017-01-20       85\n",
       "2017-01-21      112\n",
       "...             ...\n",
       "2020-07-27     2382\n",
       "2020-07-28     1290\n",
       "2020-07-29     1453\n",
       "2020-07-30     1786\n",
       "2020-07-31     1006\n",
       "\n",
       "[1292 rows x 1 columns]"
      ]
     },
     "execution_count": 39,
     "metadata": {},
     "output_type": "execute_result"
    }
   ],
   "source": [
    "notes_count_per = notes.resample('D').apply({'message':'count'})\n",
    "notes_count_per"
   ]
  },
  {
   "cell_type": "code",
   "execution_count": 40,
   "metadata": {},
   "outputs": [
    {
     "data": {
      "text/plain": [
       "<AxesSubplot:xlabel='created_at'>"
      ]
     },
     "execution_count": 40,
     "metadata": {},
     "output_type": "execute_result"
    },
    {
     "data": {
      "image/png": "[encoded data removed]",
      "text/plain": [
       "<Figure size 432x288 with 1 Axes>"
      ]
     },
     "metadata": {
      "needs_background": "light"
     },
     "output_type": "display_data"
    }
   ],
   "source": [
    "notes_count_per.plot()"
   ]
  },
  {
   "cell_type": "markdown",
   "metadata": {},
   "source": [
    "Let's start looking at bitcoin now. We'll start by "
   ]
  },
  {
   "cell_type": "code",
   "execution_count": 41,
   "metadata": {},
   "outputs": [
    {
     "name": "stdout",
     "output_type": "stream",
     "text": [
      "<class 'pandas.core.frame.DataFrame'>\n",
      "RangeIndex: 4857377 entries, 0 to 4857376\n",
      "Data columns (total 8 columns):\n",
      " #   Column             Dtype  \n",
      "---  ------             -----  \n",
      " 0   Open               float64\n",
      " 1   High               float64\n",
      " 2   Low                float64\n",
      " 3   Close              float64\n",
      " 4   Volume_(BTC)       float64\n",
      " 5   Volume_(Currency)  float64\n",
      " 6   Weighted_Price     float64\n",
      " 7   date               object \n",
      "dtypes: float64(7), object(1)\n",
      "memory usage: 296.5+ MB\n"
     ]
    }
   ],
   "source": [
    "bitcoin = crypto_raw\n",
    "bitcoin.info()"
   ]
  },
  {
   "cell_type": "code",
   "execution_count": 42,
   "metadata": {
    "scrolled": true
   },
   "outputs": [],
   "source": [
    "bitcoin['date'] = pd.to_datetime(bitcoin.date)\n",
    "bitcoin.set_index(bitcoin.date, inplace=True)\n",
    "bitcoin.rename({'Volume_(BTC)': 'volume_btc', 'Volume_(Currency)': 'volume_usd'}, axis=1, inplace=True)\n",
    "bitcoin.drop('date', axis=1, inplace=True)"
   ]
  },
  {
   "cell_type": "code",
   "execution_count": 43,
   "metadata": {},
   "outputs": [
    {
     "data": {
      "text/html": [
       "<div>\n",
       "<style scoped>\n",
       "    .dataframe tbody tr th:only-of-type {\n",
       "        vertical-align: middle;\n",
       "    }\n",
       "\n",
       "    .dataframe tbody tr th {\n",
       "        vertical-align: top;\n",
       "    }\n",
       "\n",
       "    .dataframe thead th {\n",
       "        text-align: right;\n",
       "    }\n",
       "</style>\n",
       "<table border=\"1\" class=\"dataframe\">\n",
       "  <thead>\n",
       "    <tr style=\"text-align: right;\">\n",
       "      <th></th>\n",
       "      <th>Open</th>\n",
       "      <th>High</th>\n",
       "      <th>Low</th>\n",
       "      <th>Close</th>\n",
       "      <th>volume_btc</th>\n",
       "      <th>volume_usd</th>\n",
       "      <th>Weighted_Price</th>\n",
       "    </tr>\n",
       "    <tr>\n",
       "      <th>date</th>\n",
       "      <th></th>\n",
       "      <th></th>\n",
       "      <th></th>\n",
       "      <th></th>\n",
       "      <th></th>\n",
       "      <th></th>\n",
       "      <th></th>\n",
       "    </tr>\n",
       "  </thead>\n",
       "  <tbody>\n",
       "    <tr>\n",
       "      <th>2017-01-17 06:24:00+00:00</th>\n",
       "      <td>860.26</td>\n",
       "      <td>860.98</td>\n",
       "      <td>859.56</td>\n",
       "      <td>859.81</td>\n",
       "      <td>16.454446</td>\n",
       "      <td>14150.681559</td>\n",
       "      <td>859.991377</td>\n",
       "    </tr>\n",
       "    <tr>\n",
       "      <th>2017-01-17 06:25:00+00:00</th>\n",
       "      <td>860.98</td>\n",
       "      <td>860.98</td>\n",
       "      <td>859.65</td>\n",
       "      <td>859.65</td>\n",
       "      <td>9.988582</td>\n",
       "      <td>8587.427344</td>\n",
       "      <td>859.724396</td>\n",
       "    </tr>\n",
       "    <tr>\n",
       "      <th>2017-01-17 06:26:00+00:00</th>\n",
       "      <td>859.65</td>\n",
       "      <td>860.97</td>\n",
       "      <td>859.65</td>\n",
       "      <td>859.65</td>\n",
       "      <td>11.393229</td>\n",
       "      <td>9796.832804</td>\n",
       "      <td>859.881989</td>\n",
       "    </tr>\n",
       "    <tr>\n",
       "      <th>2017-01-17 06:27:00+00:00</th>\n",
       "      <td>859.65</td>\n",
       "      <td>860.96</td>\n",
       "      <td>856.40</td>\n",
       "      <td>857.16</td>\n",
       "      <td>20.606028</td>\n",
       "      <td>17659.124466</td>\n",
       "      <td>856.988299</td>\n",
       "    </tr>\n",
       "    <tr>\n",
       "      <th>2017-01-17 06:28:00+00:00</th>\n",
       "      <td>857.16</td>\n",
       "      <td>860.36</td>\n",
       "      <td>856.68</td>\n",
       "      <td>857.50</td>\n",
       "      <td>6.352490</td>\n",
       "      <td>5451.871161</td>\n",
       "      <td>858.225890</td>\n",
       "    </tr>\n",
       "    <tr>\n",
       "      <th>...</th>\n",
       "      <td>...</td>\n",
       "      <td>...</td>\n",
       "      <td>...</td>\n",
       "      <td>...</td>\n",
       "      <td>...</td>\n",
       "      <td>...</td>\n",
       "      <td>...</td>\n",
       "    </tr>\n",
       "    <tr>\n",
       "      <th>2020-08-01 18:19:00+00:00</th>\n",
       "      <td>11649.71</td>\n",
       "      <td>11670.11</td>\n",
       "      <td>11645.00</td>\n",
       "      <td>11658.35</td>\n",
       "      <td>30.804353</td>\n",
       "      <td>358967.389740</td>\n",
       "      <td>11653.138411</td>\n",
       "    </tr>\n",
       "    <tr>\n",
       "      <th>2020-08-01 18:20:00+00:00</th>\n",
       "      <td>11650.00</td>\n",
       "      <td>11655.54</td>\n",
       "      <td>11645.03</td>\n",
       "      <td>11645.69</td>\n",
       "      <td>2.210218</td>\n",
       "      <td>25742.591594</td>\n",
       "      <td>11647.081170</td>\n",
       "    </tr>\n",
       "    <tr>\n",
       "      <th>2020-08-01 18:21:00+00:00</th>\n",
       "      <td>11655.57</td>\n",
       "      <td>11656.65</td>\n",
       "      <td>11648.46</td>\n",
       "      <td>11650.00</td>\n",
       "      <td>1.745046</td>\n",
       "      <td>20329.446307</td>\n",
       "      <td>11649.807065</td>\n",
       "    </tr>\n",
       "    <tr>\n",
       "      <th>2020-08-01 18:22:00+00:00</th>\n",
       "      <td>11648.46</td>\n",
       "      <td>11655.77</td>\n",
       "      <td>11648.46</td>\n",
       "      <td>11654.94</td>\n",
       "      <td>3.509999</td>\n",
       "      <td>40908.702968</td>\n",
       "      <td>11654.906045</td>\n",
       "    </tr>\n",
       "    <tr>\n",
       "      <th>2020-08-01 18:23:00+00:00</th>\n",
       "      <td>11658.06</td>\n",
       "      <td>11658.06</td>\n",
       "      <td>11645.08</td>\n",
       "      <td>11656.48</td>\n",
       "      <td>1.038081</td>\n",
       "      <td>12099.268296</td>\n",
       "      <td>11655.417188</td>\n",
       "    </tr>\n",
       "  </tbody>\n",
       "</table>\n",
       "<p>1861200 rows × 7 columns</p>\n",
       "</div>"
      ],
      "text/plain": [
       "                               Open      High       Low     Close  volume_btc  \\\n",
       "date                                                                            \n",
       "2017-01-17 06:24:00+00:00    860.26    860.98    859.56    859.81   16.454446   \n",
       "2017-01-17 06:25:00+00:00    860.98    860.98    859.65    859.65    9.988582   \n",
       "2017-01-17 06:26:00+00:00    859.65    860.97    859.65    859.65   11.393229   \n",
       "2017-01-17 06:27:00+00:00    859.65    860.96    856.40    857.16   20.606028   \n",
       "2017-01-17 06:28:00+00:00    857.16    860.36    856.68    857.50    6.352490   \n",
       "...                             ...       ...       ...       ...         ...   \n",
       "2020-08-01 18:19:00+00:00  11649.71  11670.11  11645.00  11658.35   30.804353   \n",
       "2020-08-01 18:20:00+00:00  11650.00  11655.54  11645.03  11645.69    2.210218   \n",
       "2020-08-01 18:21:00+00:00  11655.57  11656.65  11648.46  11650.00    1.745046   \n",
       "2020-08-01 18:22:00+00:00  11648.46  11655.77  11648.46  11654.94    3.509999   \n",
       "2020-08-01 18:23:00+00:00  11658.06  11658.06  11645.08  11656.48    1.038081   \n",
       "\n",
       "                              volume_usd  Weighted_Price  \n",
       "date                                                      \n",
       "2017-01-17 06:24:00+00:00   14150.681559      859.991377  \n",
       "2017-01-17 06:25:00+00:00    8587.427344      859.724396  \n",
       "2017-01-17 06:26:00+00:00    9796.832804      859.881989  \n",
       "2017-01-17 06:27:00+00:00   17659.124466      856.988299  \n",
       "2017-01-17 06:28:00+00:00    5451.871161      858.225890  \n",
       "...                                  ...             ...  \n",
       "2020-08-01 18:19:00+00:00  358967.389740    11653.138411  \n",
       "2020-08-01 18:20:00+00:00   25742.591594    11647.081170  \n",
       "2020-08-01 18:21:00+00:00   20329.446307    11649.807065  \n",
       "2020-08-01 18:22:00+00:00   40908.702968    11654.906045  \n",
       "2020-08-01 18:23:00+00:00   12099.268296    11655.417188  \n",
       "\n",
       "[1861200 rows x 7 columns]"
      ]
     },
     "execution_count": 43,
     "metadata": {},
     "output_type": "execute_result"
    }
   ],
   "source": [
    "btc_cur = bitcoin.iloc[2648800:4510000]\n",
    "btc_cur"
   ]
  },
  {
   "cell_type": "code",
   "execution_count": 44,
   "metadata": {},
   "outputs": [
    {
     "data": {
      "text/plain": [
       "Open              81377\n",
       "High              81377\n",
       "Low               81377\n",
       "Close             81377\n",
       "volume_btc        81377\n",
       "volume_usd        81377\n",
       "Weighted_Price    81377\n",
       "dtype: int64"
      ]
     },
     "execution_count": 44,
     "metadata": {},
     "output_type": "execute_result"
    }
   ],
   "source": [
    "btc_cur.isna().sum()"
   ]
  },
  {
   "cell_type": "markdown",
   "metadata": {},
   "source": [
    "Let's forward fill these values before we start graphing."
   ]
  },
  {
   "cell_type": "code",
   "execution_count": 45,
   "metadata": {},
   "outputs": [
    {
     "name": "stderr",
     "output_type": "stream",
     "text": [
      "C:\\Users\\agrae\\anaconda3\\lib\\site-packages\\pandas\\core\\frame.py:4317: SettingWithCopyWarning: \n",
      "A value is trying to be set on a copy of a slice from a DataFrame\n",
      "\n",
      "See the caveats in the documentation: https://pandas.pydata.org/pandas-docs/stable/user_guide/indexing.html#returning-a-view-versus-a-copy\n",
      "  return super().fillna(\n"
     ]
    }
   ],
   "source": [
    "btc_cur.fillna(method='ffill', inplace=True)"
   ]
  },
  {
   "cell_type": "code",
   "execution_count": 46,
   "metadata": {},
   "outputs": [
    {
     "data": {
      "text/html": [
       "<div>\n",
       "<style scoped>\n",
       "    .dataframe tbody tr th:only-of-type {\n",
       "        vertical-align: middle;\n",
       "    }\n",
       "\n",
       "    .dataframe tbody tr th {\n",
       "        vertical-align: top;\n",
       "    }\n",
       "\n",
       "    .dataframe thead th {\n",
       "        text-align: right;\n",
       "    }\n",
       "</style>\n",
       "<table border=\"1\" class=\"dataframe\">\n",
       "  <thead>\n",
       "    <tr style=\"text-align: right;\">\n",
       "      <th></th>\n",
       "      <th>Open</th>\n",
       "      <th>High</th>\n",
       "      <th>Low</th>\n",
       "      <th>Close</th>\n",
       "      <th>volume_btc</th>\n",
       "      <th>volume_usd</th>\n",
       "      <th>Weighted_Price</th>\n",
       "    </tr>\n",
       "  </thead>\n",
       "  <tbody>\n",
       "    <tr>\n",
       "      <th>count</th>\n",
       "      <td>1.861200e+06</td>\n",
       "      <td>1.861200e+06</td>\n",
       "      <td>1.861200e+06</td>\n",
       "      <td>1.861200e+06</td>\n",
       "      <td>1.861200e+06</td>\n",
       "      <td>1.861200e+06</td>\n",
       "      <td>1.861200e+06</td>\n",
       "    </tr>\n",
       "    <tr>\n",
       "      <th>mean</th>\n",
       "      <td>6.730654e+03</td>\n",
       "      <td>6.735335e+03</td>\n",
       "      <td>6.725636e+03</td>\n",
       "      <td>6.730566e+03</td>\n",
       "      <td>7.263599e+00</td>\n",
       "      <td>4.951652e+04</td>\n",
       "      <td>6.730555e+03</td>\n",
       "    </tr>\n",
       "    <tr>\n",
       "      <th>std</th>\n",
       "      <td>3.301799e+03</td>\n",
       "      <td>3.305258e+03</td>\n",
       "      <td>3.297908e+03</td>\n",
       "      <td>3.301715e+03</td>\n",
       "      <td>1.824072e+01</td>\n",
       "      <td>1.362401e+05</td>\n",
       "      <td>3.301680e+03</td>\n",
       "    </tr>\n",
       "    <tr>\n",
       "      <th>min</th>\n",
       "      <td>8.520000e+02</td>\n",
       "      <td>8.529800e+02</td>\n",
       "      <td>8.517400e+02</td>\n",
       "      <td>8.520000e+02</td>\n",
       "      <td>0.000000e+00</td>\n",
       "      <td>0.000000e+00</td>\n",
       "      <td>8.520526e+02</td>\n",
       "    </tr>\n",
       "    <tr>\n",
       "      <th>25%</th>\n",
       "      <td>3.963340e+03</td>\n",
       "      <td>3.964870e+03</td>\n",
       "      <td>3.961767e+03</td>\n",
       "      <td>3.963370e+03</td>\n",
       "      <td>3.453121e-01</td>\n",
       "      <td>1.835208e+03</td>\n",
       "      <td>3.963225e+03</td>\n",
       "    </tr>\n",
       "    <tr>\n",
       "      <th>50%</th>\n",
       "      <td>6.955890e+03</td>\n",
       "      <td>6.960000e+03</td>\n",
       "      <td>6.951000e+03</td>\n",
       "      <td>6.955630e+03</td>\n",
       "      <td>1.917232e+00</td>\n",
       "      <td>1.073066e+04</td>\n",
       "      <td>6.955558e+03</td>\n",
       "    </tr>\n",
       "    <tr>\n",
       "      <th>75%</th>\n",
       "      <td>9.113042e+03</td>\n",
       "      <td>9.117650e+03</td>\n",
       "      <td>9.108413e+03</td>\n",
       "      <td>9.113110e+03</td>\n",
       "      <td>6.835743e+00</td>\n",
       "      <td>4.162546e+04</td>\n",
       "      <td>9.113360e+03</td>\n",
       "    </tr>\n",
       "    <tr>\n",
       "      <th>max</th>\n",
       "      <td>1.966576e+04</td>\n",
       "      <td>1.966600e+04</td>\n",
       "      <td>1.964996e+04</td>\n",
       "      <td>1.966575e+04</td>\n",
       "      <td>1.616060e+03</td>\n",
       "      <td>1.044599e+07</td>\n",
       "      <td>1.966330e+04</td>\n",
       "    </tr>\n",
       "  </tbody>\n",
       "</table>\n",
       "</div>"
      ],
      "text/plain": [
       "               Open          High           Low         Close    volume_btc  \\\n",
       "count  1.861200e+06  1.861200e+06  1.861200e+06  1.861200e+06  1.861200e+06   \n",
       "mean   6.730654e+03  6.735335e+03  6.725636e+03  6.730566e+03  7.263599e+00   \n",
       "std    3.301799e+03  3.305258e+03  3.297908e+03  3.301715e+03  1.824072e+01   \n",
       "min    8.520000e+02  8.529800e+02  8.517400e+02  8.520000e+02  0.000000e+00   \n",
       "25%    3.963340e+03  3.964870e+03  3.961767e+03  3.963370e+03  3.453121e-01   \n",
       "50%    6.955890e+03  6.960000e+03  6.951000e+03  6.955630e+03  1.917232e+00   \n",
       "75%    9.113042e+03  9.117650e+03  9.108413e+03  9.113110e+03  6.835743e+00   \n",
       "max    1.966576e+04  1.966600e+04  1.964996e+04  1.966575e+04  1.616060e+03   \n",
       "\n",
       "         volume_usd  Weighted_Price  \n",
       "count  1.861200e+06    1.861200e+06  \n",
       "mean   4.951652e+04    6.730555e+03  \n",
       "std    1.362401e+05    3.301680e+03  \n",
       "min    0.000000e+00    8.520526e+02  \n",
       "25%    1.835208e+03    3.963225e+03  \n",
       "50%    1.073066e+04    6.955558e+03  \n",
       "75%    4.162546e+04    9.113360e+03  \n",
       "max    1.044599e+07    1.966330e+04  "
      ]
     },
     "execution_count": 46,
     "metadata": {},
     "output_type": "execute_result"
    }
   ],
   "source": [
    "btc_cur.describe()"
   ]
  },
  {
   "cell_type": "markdown",
   "metadata": {},
   "source": [
    "It is unlikely that the volume of bitcoin being traded has ever actually been 0. Let's see if this is a common event with this data or a singular error."
   ]
  },
  {
   "cell_type": "code",
   "execution_count": 47,
   "metadata": {},
   "outputs": [
    {
     "data": {
      "text/html": [
       "<div>\n",
       "<style scoped>\n",
       "    .dataframe tbody tr th:only-of-type {\n",
       "        vertical-align: middle;\n",
       "    }\n",
       "\n",
       "    .dataframe tbody tr th {\n",
       "        vertical-align: top;\n",
       "    }\n",
       "\n",
       "    .dataframe thead th {\n",
       "        text-align: right;\n",
       "    }\n",
       "</style>\n",
       "<table border=\"1\" class=\"dataframe\">\n",
       "  <thead>\n",
       "    <tr style=\"text-align: right;\">\n",
       "      <th></th>\n",
       "      <th>Open</th>\n",
       "      <th>High</th>\n",
       "      <th>Low</th>\n",
       "      <th>Close</th>\n",
       "      <th>volume_btc</th>\n",
       "      <th>volume_usd</th>\n",
       "      <th>Weighted_Price</th>\n",
       "    </tr>\n",
       "    <tr>\n",
       "      <th>date</th>\n",
       "      <th></th>\n",
       "      <th></th>\n",
       "      <th></th>\n",
       "      <th></th>\n",
       "      <th></th>\n",
       "      <th></th>\n",
       "      <th></th>\n",
       "    </tr>\n",
       "  </thead>\n",
       "  <tbody>\n",
       "    <tr>\n",
       "      <th>2017-08-14 01:08:00+00:00</th>\n",
       "      <td>4068.49</td>\n",
       "      <td>4068.49</td>\n",
       "      <td>4068.49</td>\n",
       "      <td>4068.49</td>\n",
       "      <td>0.0</td>\n",
       "      <td>0.0</td>\n",
       "      <td>4068.49</td>\n",
       "    </tr>\n",
       "  </tbody>\n",
       "</table>\n",
       "</div>"
      ],
      "text/plain": [
       "                              Open     High      Low    Close  volume_btc  \\\n",
       "date                                                                        \n",
       "2017-08-14 01:08:00+00:00  4068.49  4068.49  4068.49  4068.49         0.0   \n",
       "\n",
       "                           volume_usd  Weighted_Price  \n",
       "date                                                   \n",
       "2017-08-14 01:08:00+00:00         0.0         4068.49  "
      ]
     },
     "execution_count": 47,
     "metadata": {},
     "output_type": "execute_result"
    }
   ],
   "source": [
    "btc_cur[btc_cur.volume_btc == 0]"
   ]
  },
  {
   "cell_type": "markdown",
   "metadata": {},
   "source": [
    "It looks like an error. Let's fill forward fill those 0's."
   ]
  },
  {
   "cell_type": "code",
   "execution_count": 48,
   "metadata": {},
   "outputs": [
    {
     "data": {
      "text/plain": [
       "Open              None\n",
       "High              None\n",
       "Low               None\n",
       "Close             None\n",
       "volume_btc        None\n",
       "volume_usd        None\n",
       "Weighted_Price    None\n",
       "dtype: object"
      ]
     },
     "execution_count": 48,
     "metadata": {},
     "output_type": "execute_result"
    }
   ],
   "source": [
    "btc_cur.replace(to_replace=0, method='ffill', inplace=True)"
   ]
  },
  {
   "cell_type": "code",
   "execution_count": 49,
   "metadata": {},
   "outputs": [
    {
     "data": {
      "text/html": [
       "<div>\n",
       "<style scoped>\n",
       "    .dataframe tbody tr th:only-of-type {\n",
       "        vertical-align: middle;\n",
       "    }\n",
       "\n",
       "    .dataframe tbody tr th {\n",
       "        vertical-align: top;\n",
       "    }\n",
       "\n",
       "    .dataframe thead th {\n",
       "        text-align: right;\n",
       "    }\n",
       "</style>\n",
       "<table border=\"1\" class=\"dataframe\">\n",
       "  <thead>\n",
       "    <tr style=\"text-align: right;\">\n",
       "      <th></th>\n",
       "      <th>Open</th>\n",
       "      <th>High</th>\n",
       "      <th>Low</th>\n",
       "      <th>Close</th>\n",
       "      <th>volume_btc</th>\n",
       "      <th>volume_usd</th>\n",
       "      <th>Weighted_Price</th>\n",
       "    </tr>\n",
       "  </thead>\n",
       "  <tbody>\n",
       "    <tr>\n",
       "      <th>count</th>\n",
       "      <td>1.861200e+06</td>\n",
       "      <td>1.861200e+06</td>\n",
       "      <td>1.861200e+06</td>\n",
       "      <td>1.861200e+06</td>\n",
       "      <td>1.861200e+06</td>\n",
       "      <td>1.861200e+06</td>\n",
       "      <td>1.861200e+06</td>\n",
       "    </tr>\n",
       "    <tr>\n",
       "      <th>mean</th>\n",
       "      <td>6.730654e+03</td>\n",
       "      <td>6.735335e+03</td>\n",
       "      <td>6.725636e+03</td>\n",
       "      <td>6.730566e+03</td>\n",
       "      <td>7.263599e+00</td>\n",
       "      <td>4.951652e+04</td>\n",
       "      <td>6.730555e+03</td>\n",
       "    </tr>\n",
       "    <tr>\n",
       "      <th>std</th>\n",
       "      <td>3.301799e+03</td>\n",
       "      <td>3.305258e+03</td>\n",
       "      <td>3.297908e+03</td>\n",
       "      <td>3.301715e+03</td>\n",
       "      <td>1.824072e+01</td>\n",
       "      <td>1.362401e+05</td>\n",
       "      <td>3.301680e+03</td>\n",
       "    </tr>\n",
       "    <tr>\n",
       "      <th>min</th>\n",
       "      <td>8.520000e+02</td>\n",
       "      <td>8.529800e+02</td>\n",
       "      <td>8.517400e+02</td>\n",
       "      <td>8.520000e+02</td>\n",
       "      <td>1.000000e-08</td>\n",
       "      <td>9.741900e-06</td>\n",
       "      <td>8.520526e+02</td>\n",
       "    </tr>\n",
       "    <tr>\n",
       "      <th>25%</th>\n",
       "      <td>3.963340e+03</td>\n",
       "      <td>3.964870e+03</td>\n",
       "      <td>3.961767e+03</td>\n",
       "      <td>3.963370e+03</td>\n",
       "      <td>3.453121e-01</td>\n",
       "      <td>1.835208e+03</td>\n",
       "      <td>3.963225e+03</td>\n",
       "    </tr>\n",
       "    <tr>\n",
       "      <th>50%</th>\n",
       "      <td>6.955890e+03</td>\n",
       "      <td>6.960000e+03</td>\n",
       "      <td>6.951000e+03</td>\n",
       "      <td>6.955630e+03</td>\n",
       "      <td>1.917232e+00</td>\n",
       "      <td>1.073066e+04</td>\n",
       "      <td>6.955558e+03</td>\n",
       "    </tr>\n",
       "    <tr>\n",
       "      <th>75%</th>\n",
       "      <td>9.113042e+03</td>\n",
       "      <td>9.117650e+03</td>\n",
       "      <td>9.108413e+03</td>\n",
       "      <td>9.113110e+03</td>\n",
       "      <td>6.835743e+00</td>\n",
       "      <td>4.162546e+04</td>\n",
       "      <td>9.113360e+03</td>\n",
       "    </tr>\n",
       "    <tr>\n",
       "      <th>max</th>\n",
       "      <td>1.966576e+04</td>\n",
       "      <td>1.966600e+04</td>\n",
       "      <td>1.964996e+04</td>\n",
       "      <td>1.966575e+04</td>\n",
       "      <td>1.616060e+03</td>\n",
       "      <td>1.044599e+07</td>\n",
       "      <td>1.966330e+04</td>\n",
       "    </tr>\n",
       "  </tbody>\n",
       "</table>\n",
       "</div>"
      ],
      "text/plain": [
       "               Open          High           Low         Close    volume_btc  \\\n",
       "count  1.861200e+06  1.861200e+06  1.861200e+06  1.861200e+06  1.861200e+06   \n",
       "mean   6.730654e+03  6.735335e+03  6.725636e+03  6.730566e+03  7.263599e+00   \n",
       "std    3.301799e+03  3.305258e+03  3.297908e+03  3.301715e+03  1.824072e+01   \n",
       "min    8.520000e+02  8.529800e+02  8.517400e+02  8.520000e+02  1.000000e-08   \n",
       "25%    3.963340e+03  3.964870e+03  3.961767e+03  3.963370e+03  3.453121e-01   \n",
       "50%    6.955890e+03  6.960000e+03  6.951000e+03  6.955630e+03  1.917232e+00   \n",
       "75%    9.113042e+03  9.117650e+03  9.108413e+03  9.113110e+03  6.835743e+00   \n",
       "max    1.966576e+04  1.966600e+04  1.964996e+04  1.966575e+04  1.616060e+03   \n",
       "\n",
       "         volume_usd  Weighted_Price  \n",
       "count  1.861200e+06    1.861200e+06  \n",
       "mean   4.951652e+04    6.730555e+03  \n",
       "std    1.362401e+05    3.301680e+03  \n",
       "min    9.741900e-06    8.520526e+02  \n",
       "25%    1.835208e+03    3.963225e+03  \n",
       "50%    1.073066e+04    6.955558e+03  \n",
       "75%    4.162546e+04    9.113360e+03  \n",
       "max    1.044599e+07    1.966330e+04  "
      ]
     },
     "execution_count": 49,
     "metadata": {},
     "output_type": "execute_result"
    }
   ],
   "source": [
    "btc_cur.describe()"
   ]
  },
  {
   "cell_type": "code",
   "execution_count": 50,
   "metadata": {},
   "outputs": [
    {
     "data": {
      "text/plain": [
       "<AxesSubplot:xlabel='date'>"
      ]
     },
     "execution_count": 50,
     "metadata": {},
     "output_type": "execute_result"
    },
    {
     "data": {
      "image/png": "[encoded data removed]",
      "text/plain": [
       "<Figure size 432x288 with 1 Axes>"
      ]
     },
     "metadata": {
      "needs_background": "light"
     },
     "output_type": "display_data"
    }
   ],
   "source": [
    "btc_cur.Open.plot()"
   ]
  },
  {
   "cell_type": "code",
   "execution_count": 51,
   "metadata": {
    "scrolled": true
   },
   "outputs": [
    {
     "data": {
      "text/plain": [
       "<AxesSubplot:xlabel='date'>"
      ]
     },
     "execution_count": 51,
     "metadata": {},
     "output_type": "execute_result"
    },
    {
     "data": {
      "image/png": "[encoded data removed]",
      "text/plain": [
       "<Figure size 432x288 with 1 Axes>"
      ]
     },
     "metadata": {
      "needs_background": "light"
     },
     "output_type": "display_data"
    }
   ],
   "source": [
    "btc_cur.volume_usd.plot()"
   ]
  },
  {
   "cell_type": "code",
   "execution_count": 52,
   "metadata": {},
   "outputs": [
    {
     "data": {
      "text/plain": [
       "<AxesSubplot:xlabel='date'>"
      ]
     },
     "execution_count": 52,
     "metadata": {},
     "output_type": "execute_result"
    },
    {
     "data": {
      "image/png": "[encoded data removed]",
      "text/plain": [
       "<Figure size 432x288 with 1 Axes>"
      ]
     },
     "metadata": {
      "needs_background": "light"
     },
     "output_type": "display_data"
    }
   ],
   "source": [
    "btc_cur.volume_btc.plot()"
   ]
  },
  {
   "cell_type": "code",
   "execution_count": 53,
   "metadata": {},
   "outputs": [
    {
     "data": {
      "text/plain": [
       "<AxesSubplot:>"
      ]
     },
     "execution_count": 53,
     "metadata": {},
     "output_type": "execute_result"
    },
    {
     "data": {
      "image/png": "[encoded data removed]",
      "text/plain": [
       "<Figure size 432x288 with 1 Axes>"
      ]
     },
     "metadata": {
      "needs_background": "light"
     },
     "output_type": "display_data"
    }
   ],
   "source": [
    "btc_cur.volume_btc.clip(upper=75).hist(bins=50)"
   ]
  },
  {
   "cell_type": "code",
   "execution_count": 54,
   "metadata": {},
   "outputs": [
    {
     "data": {
      "text/plain": [
       "<AxesSubplot:>"
      ]
     },
     "execution_count": 54,
     "metadata": {},
     "output_type": "execute_result"
    },
    {
     "data": {
      "image/png": "[encoded data removed]",
      "text/plain": [
       "<Figure size 432x288 with 1 Axes>"
      ]
     },
     "metadata": {
      "needs_background": "light"
     },
     "output_type": "display_data"
    }
   ],
   "source": [
    "btc_cur.volume_btc.pct_change().clip(upper=80).hist(bins=80)"
   ]
  },
  {
   "cell_type": "code",
   "execution_count": 55,
   "metadata": {},
   "outputs": [
    {
     "data": {
      "text/plain": [
       "<AxesSubplot:>"
      ]
     },
     "execution_count": 55,
     "metadata": {},
     "output_type": "execute_result"
    },
    {
     "data": {
      "image/png": "[encoded data removed]",
      "text/plain": [
       "<Figure size 432x288 with 1 Axes>"
      ]
     },
     "metadata": {
      "needs_background": "light"
     },
     "output_type": "display_data"
    }
   ],
   "source": [
    "btc_cur.volume_btc.pct_change().clip(upper=1).hist(bins=80)"
   ]
  },
  {
   "cell_type": "code",
   "execution_count": 56,
   "metadata": {},
   "outputs": [
    {
     "data": {
      "text/plain": [
       "<AxesSubplot:>"
      ]
     },
     "execution_count": 56,
     "metadata": {},
     "output_type": "execute_result"
    },
    {
     "data": {
      "image/png": "[encoded data removed]",
      "text/plain": [
       "<Figure size 432x288 with 1 Axes>"
      ]
     },
     "metadata": {
      "needs_background": "light"
     },
     "output_type": "display_data"
    }
   ],
   "source": [
    "btc_cur.volume_usd.hist(bins=50)"
   ]
  },
  {
   "cell_type": "markdown",
   "metadata": {},
   "source": [
    "As we can see, there are occasional massive changes in volume over time. This makes sense as we measuring in minutes. Let's try to write a function in order to change the time-frame."
   ]
  },
  {
   "cell_type": "code",
   "execution_count": 57,
   "metadata": {},
   "outputs": [],
   "source": [
    "btc_min_pct = btc_cur.pct_change()"
   ]
  },
  {
   "cell_type": "code",
   "execution_count": 58,
   "metadata": {},
   "outputs": [],
   "source": [
    "def resample_to(data, time):\n",
    "    btc_temp = pd.DataFrame()\n",
    "    btc_time = pd.DataFrame()\n",
    "    #Open\n",
    "    btc_temp = pd.concat([btc_temp, data.Open], axis=1)\n",
    "    btc_temp.set_index(btc_cur.index, inplace=True)\n",
    "    btc_temp = btc_temp[['Open']].resample(time).mean()\n",
    "    btc_time = pd.concat([btc_time, btc_temp], axis=1)\n",
    "    btc_time.set_index(btc_temp.index, inplace=True)\n",
    "    \n",
    "    btc_temp = pd.DataFrame()\n",
    "    #High\n",
    "    btc_temp = pd.concat([btc_temp, data.High], axis=1)\n",
    "    btc_temp.set_index(btc_cur.index, inplace=True)\n",
    "    btc_temp = btc_temp[['High']].resample(time).max()\n",
    "    btc_time = pd.concat([btc_time, btc_temp], axis=1)\n",
    "    btc_time.set_index(btc_temp.index, inplace=True)\n",
    "    \n",
    "    btc_temp = pd.DataFrame()\n",
    "    #Low\n",
    "    btc_temp = pd.concat([btc_temp, data.Low], axis=1)\n",
    "    btc_temp.set_index(btc_cur.index, inplace=True)\n",
    "    btc_temp = btc_temp[['Low']].resample(time).min()\n",
    "    btc_time = pd.concat([btc_time, btc_temp], axis=1)\n",
    "    btc_time.set_index(btc_temp.index, inplace=True)\n",
    "    \n",
    "    btc_temp = pd.DataFrame()\n",
    "    #Volume_btc\n",
    "    btc_temp = pd.concat([btc_temp, data.volume_btc], axis=1)\n",
    "    btc_temp.set_index(btc_cur.index, inplace=True)\n",
    "    btc_temp = btc_temp[['volume_btc']].resample(time).sum()\n",
    "    btc_time = pd.concat([btc_time, btc_temp], axis=1)\n",
    "    btc_time.set_index(btc_temp.index, inplace=True)\n",
    "    \n",
    "    btc_temp = pd.DataFrame()\n",
    "    #Volume_usd\n",
    "    btc_temp = pd.concat([btc_temp, data.volume_usd], axis=1)\n",
    "    btc_temp.set_index(btc_cur.index, inplace=True)\n",
    "    btc_temp = btc_temp[['volume_usd']].resample(time).sum()\n",
    "    btc_time = pd.concat([btc_time, btc_temp], axis=1)\n",
    "    btc_time.set_index(btc_temp.index, inplace=True)\n",
    "    \n",
    "    btc_temp = pd.DataFrame()\n",
    "    #Weighted_Price\n",
    "    btc_temp = pd.concat([btc_temp, data.Weighted_Price], axis=1)\n",
    "    btc_temp.set_index(btc_cur.index, inplace=True)\n",
    "    btc_temp = btc_temp[['Weighted_Price']].resample(time).mean()\n",
    "    btc_time = pd.concat([btc_time, btc_temp], axis=1)\n",
    "    btc_time.set_index(btc_temp.index, inplace=True)\n",
    "    \n",
    "    return btc_time"
   ]
  },
  {
   "cell_type": "code",
   "execution_count": 59,
   "metadata": {},
   "outputs": [],
   "source": [
    "btc_hours = resample_to(btc_cur, '1h')"
   ]
  },
  {
   "cell_type": "code",
   "execution_count": 60,
   "metadata": {},
   "outputs": [],
   "source": [
    "btc_days = resample_to(btc_cur, '1d')"
   ]
  },
  {
   "cell_type": "code",
   "execution_count": 61,
   "metadata": {},
   "outputs": [
    {
     "data": {
      "text/html": [
       "<div>\n",
       "<style scoped>\n",
       "    .dataframe tbody tr th:only-of-type {\n",
       "        vertical-align: middle;\n",
       "    }\n",
       "\n",
       "    .dataframe tbody tr th {\n",
       "        vertical-align: top;\n",
       "    }\n",
       "\n",
       "    .dataframe thead th {\n",
       "        text-align: right;\n",
       "    }\n",
       "</style>\n",
       "<table border=\"1\" class=\"dataframe\">\n",
       "  <thead>\n",
       "    <tr style=\"text-align: right;\">\n",
       "      <th></th>\n",
       "      <th>Open</th>\n",
       "      <th>High</th>\n",
       "      <th>Low</th>\n",
       "      <th>volume_btc</th>\n",
       "      <th>volume_usd</th>\n",
       "      <th>Weighted_Price</th>\n",
       "    </tr>\n",
       "    <tr>\n",
       "      <th>date</th>\n",
       "      <th></th>\n",
       "      <th></th>\n",
       "      <th></th>\n",
       "      <th></th>\n",
       "      <th></th>\n",
       "      <th></th>\n",
       "    </tr>\n",
       "  </thead>\n",
       "  <tbody>\n",
       "    <tr>\n",
       "      <th>2017-01-17 06:00:00+00:00</th>\n",
       "      <td>858.296111</td>\n",
       "      <td>860.98</td>\n",
       "      <td>853.38</td>\n",
       "      <td>223.284030</td>\n",
       "      <td>1.915783e+05</td>\n",
       "      <td>858.183802</td>\n",
       "    </tr>\n",
       "    <tr>\n",
       "      <th>2017-01-17 07:00:00+00:00</th>\n",
       "      <td>872.410500</td>\n",
       "      <td>887.00</td>\n",
       "      <td>859.15</td>\n",
       "      <td>1405.439766</td>\n",
       "      <td>1.228326e+06</td>\n",
       "      <td>872.614791</td>\n",
       "    </tr>\n",
       "    <tr>\n",
       "      <th>2017-01-17 08:00:00+00:00</th>\n",
       "      <td>886.275833</td>\n",
       "      <td>896.23</td>\n",
       "      <td>875.96</td>\n",
       "      <td>1453.218840</td>\n",
       "      <td>1.287693e+06</td>\n",
       "      <td>886.358051</td>\n",
       "    </tr>\n",
       "    <tr>\n",
       "      <th>2017-01-17 09:00:00+00:00</th>\n",
       "      <td>881.240667</td>\n",
       "      <td>884.00</td>\n",
       "      <td>875.26</td>\n",
       "      <td>332.430980</td>\n",
       "      <td>2.929261e+05</td>\n",
       "      <td>881.249922</td>\n",
       "    </tr>\n",
       "    <tr>\n",
       "      <th>2017-01-17 10:00:00+00:00</th>\n",
       "      <td>884.869667</td>\n",
       "      <td>889.49</td>\n",
       "      <td>879.99</td>\n",
       "      <td>410.612440</td>\n",
       "      <td>3.635314e+05</td>\n",
       "      <td>884.945117</td>\n",
       "    </tr>\n",
       "  </tbody>\n",
       "</table>\n",
       "</div>"
      ],
      "text/plain": [
       "                                 Open    High     Low   volume_btc  \\\n",
       "date                                                                 \n",
       "2017-01-17 06:00:00+00:00  858.296111  860.98  853.38   223.284030   \n",
       "2017-01-17 07:00:00+00:00  872.410500  887.00  859.15  1405.439766   \n",
       "2017-01-17 08:00:00+00:00  886.275833  896.23  875.96  1453.218840   \n",
       "2017-01-17 09:00:00+00:00  881.240667  884.00  875.26   332.430980   \n",
       "2017-01-17 10:00:00+00:00  884.869667  889.49  879.99   410.612440   \n",
       "\n",
       "                             volume_usd  Weighted_Price  \n",
       "date                                                     \n",
       "2017-01-17 06:00:00+00:00  1.915783e+05      858.183802  \n",
       "2017-01-17 07:00:00+00:00  1.228326e+06      872.614791  \n",
       "2017-01-17 08:00:00+00:00  1.287693e+06      886.358051  \n",
       "2017-01-17 09:00:00+00:00  2.929261e+05      881.249922  \n",
       "2017-01-17 10:00:00+00:00  3.635314e+05      884.945117  "
      ]
     },
     "execution_count": 61,
     "metadata": {},
     "output_type": "execute_result"
    }
   ],
   "source": [
    "btc_hours.head()"
   ]
  },
  {
   "cell_type": "code",
   "execution_count": 62,
   "metadata": {},
   "outputs": [
    {
     "data": {
      "text/html": [
       "<div>\n",
       "<style scoped>\n",
       "    .dataframe tbody tr th:only-of-type {\n",
       "        vertical-align: middle;\n",
       "    }\n",
       "\n",
       "    .dataframe tbody tr th {\n",
       "        vertical-align: top;\n",
       "    }\n",
       "\n",
       "    .dataframe thead th {\n",
       "        text-align: right;\n",
       "    }\n",
       "</style>\n",
       "<table border=\"1\" class=\"dataframe\">\n",
       "  <thead>\n",
       "    <tr style=\"text-align: right;\">\n",
       "      <th></th>\n",
       "      <th>Open</th>\n",
       "      <th>High</th>\n",
       "      <th>Low</th>\n",
       "      <th>volume_btc</th>\n",
       "      <th>volume_usd</th>\n",
       "      <th>Weighted_Price</th>\n",
       "    </tr>\n",
       "    <tr>\n",
       "      <th>date</th>\n",
       "      <th></th>\n",
       "      <th></th>\n",
       "      <th></th>\n",
       "      <th></th>\n",
       "      <th></th>\n",
       "      <th></th>\n",
       "    </tr>\n",
       "  </thead>\n",
       "  <tbody>\n",
       "    <tr>\n",
       "      <th>2017-01-17 00:00:00+00:00</th>\n",
       "      <td>888.633703</td>\n",
       "      <td>908.50</td>\n",
       "      <td>853.38</td>\n",
       "      <td>10220.891834</td>\n",
       "      <td>9.075514e+06</td>\n",
       "      <td>888.634149</td>\n",
       "    </tr>\n",
       "    <tr>\n",
       "      <th>2017-01-18 00:00:00+00:00</th>\n",
       "      <td>885.385021</td>\n",
       "      <td>915.99</td>\n",
       "      <td>851.74</td>\n",
       "      <td>11851.890217</td>\n",
       "      <td>1.042392e+07</td>\n",
       "      <td>885.349045</td>\n",
       "    </tr>\n",
       "    <tr>\n",
       "      <th>2017-01-19 00:00:00+00:00</th>\n",
       "      <td>893.327590</td>\n",
       "      <td>910.00</td>\n",
       "      <td>878.89</td>\n",
       "      <td>12223.859187</td>\n",
       "      <td>1.093867e+07</td>\n",
       "      <td>893.333493</td>\n",
       "    </tr>\n",
       "    <tr>\n",
       "      <th>2017-01-20 00:00:00+00:00</th>\n",
       "      <td>895.570271</td>\n",
       "      <td>902.43</td>\n",
       "      <td>880.00</td>\n",
       "      <td>8471.489363</td>\n",
       "      <td>7.573545e+06</td>\n",
       "      <td>895.545172</td>\n",
       "    </tr>\n",
       "    <tr>\n",
       "      <th>2017-01-21 00:00:00+00:00</th>\n",
       "      <td>917.651562</td>\n",
       "      <td>928.00</td>\n",
       "      <td>895.00</td>\n",
       "      <td>6623.683965</td>\n",
       "      <td>6.069531e+06</td>\n",
       "      <td>917.660690</td>\n",
       "    </tr>\n",
       "  </tbody>\n",
       "</table>\n",
       "</div>"
      ],
      "text/plain": [
       "                                 Open    High     Low    volume_btc  \\\n",
       "date                                                                  \n",
       "2017-01-17 00:00:00+00:00  888.633703  908.50  853.38  10220.891834   \n",
       "2017-01-18 00:00:00+00:00  885.385021  915.99  851.74  11851.890217   \n",
       "2017-01-19 00:00:00+00:00  893.327590  910.00  878.89  12223.859187   \n",
       "2017-01-20 00:00:00+00:00  895.570271  902.43  880.00   8471.489363   \n",
       "2017-01-21 00:00:00+00:00  917.651562  928.00  895.00   6623.683965   \n",
       "\n",
       "                             volume_usd  Weighted_Price  \n",
       "date                                                     \n",
       "2017-01-17 00:00:00+00:00  9.075514e+06      888.634149  \n",
       "2017-01-18 00:00:00+00:00  1.042392e+07      885.349045  \n",
       "2017-01-19 00:00:00+00:00  1.093867e+07      893.333493  \n",
       "2017-01-20 00:00:00+00:00  7.573545e+06      895.545172  \n",
       "2017-01-21 00:00:00+00:00  6.069531e+06      917.660690  "
      ]
     },
     "execution_count": 62,
     "metadata": {},
     "output_type": "execute_result"
    }
   ],
   "source": [
    "btc_days.head()"
   ]
  },
  {
   "cell_type": "markdown",
   "metadata": {},
   "source": [
    "These look great! Let's regraph with our new time-tables."
   ]
  },
  {
   "cell_type": "code",
   "execution_count": 63,
   "metadata": {},
   "outputs": [],
   "source": [
    "btc_hours_pct = btc_hours.pct_change()"
   ]
  },
  {
   "cell_type": "code",
   "execution_count": 64,
   "metadata": {},
   "outputs": [
    {
     "data": {
      "text/plain": [
       "<AxesSubplot:xlabel='date'>"
      ]
     },
     "execution_count": 64,
     "metadata": {},
     "output_type": "execute_result"
    },
    {
     "data": {
      "image/png": "[encoded data removed]",
      "text/plain": [
       "<Figure size 1080x216 with 1 Axes>"
      ]
     },
     "metadata": {
      "needs_background": "light"
     },
     "output_type": "display_data"
    }
   ],
   "source": [
    "fig, ax = plt.subplots(figsize=(15, 3))  \n",
    "btc_hours_pct.volume_btc.plot(ax=ax)"
   ]
  },
  {
   "cell_type": "code",
   "execution_count": 65,
   "metadata": {},
   "outputs": [
    {
     "data": {
      "text/plain": [
       "<AxesSubplot:xlabel='date'>"
      ]
     },
     "execution_count": 65,
     "metadata": {},
     "output_type": "execute_result"
    },
    {
     "data": {
      "image/png": "[encoded data removed]",
      "text/plain": [
       "<Figure size 1080x216 with 1 Axes>"
      ]
     },
     "metadata": {
      "needs_background": "light"
     },
     "output_type": "display_data"
    }
   ],
   "source": [
    "fig, ax = plt.subplots(figsize=(15, 3))\n",
    "btc_hours_pct.volume_usd.plot(ax=ax)"
   ]
  },
  {
   "cell_type": "markdown",
   "metadata": {},
   "source": [
    "This is a great sanity check. The graphs look almost identical with any slight differences possibly being explained by rounding."
   ]
  },
  {
   "cell_type": "code",
   "execution_count": 66,
   "metadata": {},
   "outputs": [],
   "source": [
    "btc_days_pct = btc_days.pct_change()"
   ]
  },
  {
   "cell_type": "code",
   "execution_count": 67,
   "metadata": {},
   "outputs": [
    {
     "data": {
      "text/plain": [
       "<AxesSubplot:xlabel='date'>"
      ]
     },
     "execution_count": 67,
     "metadata": {},
     "output_type": "execute_result"
    },
    {
     "data": {
      "image/png": "[encoded data removed]",
      "text/plain": [
       "<Figure size 1080x216 with 1 Axes>"
      ]
     },
     "metadata": {
      "needs_background": "light"
     },
     "output_type": "display_data"
    }
   ],
   "source": [
    "fig, ax = plt.subplots(figsize=(15, 3))  \n",
    "btc_days_pct.volume_btc.plot(ax=ax)"
   ]
  },
  {
   "cell_type": "code",
   "execution_count": 68,
   "metadata": {},
   "outputs": [
    {
     "data": {
      "text/plain": [
       "<AxesSubplot:xlabel='date', ylabel='volume_btc'>"
      ]
     },
     "execution_count": 68,
     "metadata": {},
     "output_type": "execute_result"
    },
    {
     "data": {
      "image/png": "[encoded data removed]",
      "text/plain": [
       "<Figure size 1080x216 with 1 Axes>"
      ]
     },
     "metadata": {
      "needs_background": "light"
     },
     "output_type": "display_data"
    }
   ],
   "source": [
    "fig, ax = plt.subplots(figsize=(15, 3))  \n",
    "sns.lineplot(data=btc_days_pct.volume_btc.clip(upper=0), ax=ax)"
   ]
  },
  {
   "cell_type": "markdown",
   "metadata": {},
   "source": [
    "This is all looking pretty good. We've normalized our graphs and even found the negative growth stats. Let's see what it looks like in weeks."
   ]
  },
  {
   "cell_type": "code",
   "execution_count": 69,
   "metadata": {},
   "outputs": [],
   "source": [
    "btc_weeks = resample_to(btc_cur, '7d')"
   ]
  },
  {
   "cell_type": "code",
   "execution_count": 70,
   "metadata": {},
   "outputs": [],
   "source": [
    "btc_weeks_pct = btc_weeks.pct_change()"
   ]
  },
  {
   "cell_type": "code",
   "execution_count": 71,
   "metadata": {},
   "outputs": [
    {
     "data": {
      "text/plain": [
       "<AxesSubplot:xlabel='date'>"
      ]
     },
     "execution_count": 71,
     "metadata": {},
     "output_type": "execute_result"
    },
    {
     "data": {
      "image/png": "[encoded data removed]",
      "text/plain": [
       "<Figure size 1080x216 with 1 Axes>"
      ]
     },
     "metadata": {
      "needs_background": "light"
     },
     "output_type": "display_data"
    }
   ],
   "source": [
    "fig, ax = plt.subplots(figsize=(15, 3))  \n",
    "btc_weeks_pct.volume_btc.plot(ax=ax)"
   ]
  },
  {
   "cell_type": "code",
   "execution_count": 72,
   "metadata": {},
   "outputs": [
    {
     "data": {
      "text/plain": [
       "<AxesSubplot:xlabel='date', ylabel='volume_btc'>"
      ]
     },
     "execution_count": 72,
     "metadata": {},
     "output_type": "execute_result"
    },
    {
     "data": {
      "image/png": "[encoded data removed]",
      "text/plain": [
       "<Figure size 1080x216 with 1 Axes>"
      ]
     },
     "metadata": {
      "needs_background": "light"
     },
     "output_type": "display_data"
    }
   ],
   "source": [
    "fig, ax = plt.subplots(figsize=(15, 3))  \n",
    "sns.lineplot(data=btc_weeks_pct.volume_btc.clip(upper=0), ax=ax)"
   ]
  },
  {
   "cell_type": "code",
   "execution_count": 73,
   "metadata": {},
   "outputs": [
    {
     "data": {
      "text/plain": [
       "<AxesSubplot:xlabel='date'>"
      ]
     },
     "execution_count": 73,
     "metadata": {},
     "output_type": "execute_result"
    },
    {
     "data": {
      "image/png": "[encoded data removed]",
      "text/plain": [
       "<Figure size 1080x216 with 1 Axes>"
      ]
     },
     "metadata": {
      "needs_background": "light"
     },
     "output_type": "display_data"
    }
   ],
   "source": [
    "fig, ax = plt.subplots(figsize=(15, 3))  \n",
    "btc_days_pct.Open.plot(ax=ax)"
   ]
  },
  {
   "cell_type": "code",
   "execution_count": 74,
   "metadata": {},
   "outputs": [
    {
     "data": {
      "text/plain": [
       "<AxesSubplot:xlabel='date'>"
      ]
     },
     "execution_count": 74,
     "metadata": {},
     "output_type": "execute_result"
    },
    {
     "data": {
      "image/png": "[encoded data removed]",
      "text/plain": [
       "<Figure size 1080x216 with 1 Axes>"
      ]
     },
     "metadata": {
      "needs_background": "light"
     },
     "output_type": "display_data"
    }
   ],
   "source": [
    "fig, ax = plt.subplots(figsize=(15, 3))  \n",
    "btc_weeks_pct.Open.plot(ax=ax)"
   ]
  },
  {
   "cell_type": "code",
   "execution_count": 75,
   "metadata": {},
   "outputs": [
    {
     "data": {
      "text/plain": [
       "<AxesSubplot:>"
      ]
     },
     "execution_count": 75,
     "metadata": {},
     "output_type": "execute_result"
    },
    {
     "data": {
      "image/png": "[encoded data removed]",
      "text/plain": [
       "<Figure size 432x288 with 2 Axes>"
      ]
     },
     "metadata": {
      "needs_background": "light"
     },
     "output_type": "display_data"
    }
   ],
   "source": [
    "sns.heatmap(btc_min_pct.corr())"
   ]
  },
  {
   "cell_type": "code",
   "execution_count": 76,
   "metadata": {},
   "outputs": [
    {
     "data": {
      "text/plain": [
       "<AxesSubplot:>"
      ]
     },
     "execution_count": 76,
     "metadata": {},
     "output_type": "execute_result"
    },
    {
     "data": {
      "image/png": "[encoded data removed]",
      "text/plain": [
       "<Figure size 432x288 with 2 Axes>"
      ]
     },
     "metadata": {
      "needs_background": "light"
     },
     "output_type": "display_data"
    }
   ],
   "source": [
    "sns.heatmap(btc_hours_pct.corr())"
   ]
  },
  {
   "cell_type": "code",
   "execution_count": 77,
   "metadata": {},
   "outputs": [
    {
     "data": {
      "text/plain": [
       "<AxesSubplot:>"
      ]
     },
     "execution_count": 77,
     "metadata": {},
     "output_type": "execute_result"
    },
    {
     "data": {
      "image/png": "[encoded data removed]",
      "text/plain": [
       "<Figure size 432x288 with 2 Axes>"
      ]
     },
     "metadata": {
      "needs_background": "light"
     },
     "output_type": "display_data"
    }
   ],
   "source": [
    "sns.heatmap(btc_days_pct.corr())"
   ]
  },
  {
   "cell_type": "code",
   "execution_count": 78,
   "metadata": {},
   "outputs": [
    {
     "data": {
      "text/plain": [
       "<AxesSubplot:>"
      ]
     },
     "execution_count": 78,
     "metadata": {},
     "output_type": "execute_result"
    },
    {
     "data": {
      "image/png": "[encoded data removed]",
      "text/plain": [
       "<Figure size 432x288 with 2 Axes>"
      ]
     },
     "metadata": {
      "needs_background": "light"
     },
     "output_type": "display_data"
    }
   ],
   "source": [
    "sns.heatmap(btc_weeks_pct.corr())"
   ]
  },
  {
   "cell_type": "markdown",
   "metadata": {},
   "source": [
    "Let's combine this market data with the number of bitcoin notes. First we'll have to seperate out the notes only associated with bitcoin."
   ]
  },
  {
   "cell_type": "code",
   "execution_count": 79,
   "metadata": {},
   "outputs": [
    {
     "data": {
      "text/html": [
       "<div>\n",
       "<style scoped>\n",
       "    .dataframe tbody tr th:only-of-type {\n",
       "        vertical-align: middle;\n",
       "    }\n",
       "\n",
       "    .dataframe tbody tr th {\n",
       "        vertical-align: top;\n",
       "    }\n",
       "\n",
       "    .dataframe thead th {\n",
       "        text-align: right;\n",
       "    }\n",
       "</style>\n",
       "<table border=\"1\" class=\"dataframe\">\n",
       "  <thead>\n",
       "    <tr style=\"text-align: right;\">\n",
       "      <th></th>\n",
       "      <th>id</th>\n",
       "      <th>user_id</th>\n",
       "      <th>type</th>\n",
       "      <th>market</th>\n",
       "      <th>currency</th>\n",
       "      <th>is_active</th>\n",
       "      <th>is_deleted</th>\n",
       "      <th>max_notifications</th>\n",
       "      <th>notifications</th>\n",
       "      <th>snooze</th>\n",
       "      <th>...</th>\n",
       "      <th>updated_at</th>\n",
       "      <th>deleted_at</th>\n",
       "      <th>last_checked</th>\n",
       "      <th>comparison</th>\n",
       "      <th>value</th>\n",
       "      <th>operator</th>\n",
       "      <th>time_period</th>\n",
       "      <th>cur_from</th>\n",
       "      <th>cur_into</th>\n",
       "      <th>type_as_num</th>\n",
       "    </tr>\n",
       "  </thead>\n",
       "  <tbody>\n",
       "    <tr>\n",
       "      <th>0</th>\n",
       "      <td>6</td>\n",
       "      <td>1345</td>\n",
       "      <td>regular_update</td>\n",
       "      <td>BITSTAMP</td>\n",
       "      <td>BTC_EUR</td>\n",
       "      <td>0</td>\n",
       "      <td>0</td>\n",
       "      <td>NaN</td>\n",
       "      <td>2</td>\n",
       "      <td>5min</td>\n",
       "      <td>...</td>\n",
       "      <td>3/31/2017 23:00</td>\n",
       "      <td>NaN</td>\n",
       "      <td>NaN</td>\n",
       "      <td>buy_price</td>\n",
       "      <td>\"1day\"</td>\n",
       "      <td>NaN</td>\n",
       "      <td>NaN</td>\n",
       "      <td>BTC</td>\n",
       "      <td>EUR</td>\n",
       "      <td>0</td>\n",
       "    </tr>\n",
       "    <tr>\n",
       "      <th>1</th>\n",
       "      <td>53</td>\n",
       "      <td>1040</td>\n",
       "      <td>regular_update</td>\n",
       "      <td>BTCE</td>\n",
       "      <td>BTC_EUR</td>\n",
       "      <td>0</td>\n",
       "      <td>0</td>\n",
       "      <td>NaN</td>\n",
       "      <td>249</td>\n",
       "      <td>5min</td>\n",
       "      <td>...</td>\n",
       "      <td>5/16/2017 1:55</td>\n",
       "      <td>NaN</td>\n",
       "      <td>NaN</td>\n",
       "      <td>buy_price</td>\n",
       "      <td>\"12h\"</td>\n",
       "      <td>NaN</td>\n",
       "      <td>NaN</td>\n",
       "      <td>BTC</td>\n",
       "      <td>EUR</td>\n",
       "      <td>0</td>\n",
       "    </tr>\n",
       "    <tr>\n",
       "      <th>2</th>\n",
       "      <td>56</td>\n",
       "      <td>1327</td>\n",
       "      <td>regular_update</td>\n",
       "      <td>COINBASE</td>\n",
       "      <td>BTC_USD</td>\n",
       "      <td>1</td>\n",
       "      <td>0</td>\n",
       "      <td>NaN</td>\n",
       "      <td>1143</td>\n",
       "      <td>5min</td>\n",
       "      <td>...</td>\n",
       "      <td>7/30/2020 23:00</td>\n",
       "      <td>NaN</td>\n",
       "      <td>7/30/2020 23:00</td>\n",
       "      <td>sell_price</td>\n",
       "      <td>\"1day\"</td>\n",
       "      <td>NaN</td>\n",
       "      <td>NaN</td>\n",
       "      <td>BTC</td>\n",
       "      <td>USD</td>\n",
       "      <td>0</td>\n",
       "    </tr>\n",
       "    <tr>\n",
       "      <th>3</th>\n",
       "      <td>57</td>\n",
       "      <td>1375</td>\n",
       "      <td>regular_update</td>\n",
       "      <td>KRAKEN</td>\n",
       "      <td>XBT_EUR</td>\n",
       "      <td>0</td>\n",
       "      <td>0</td>\n",
       "      <td>NaN</td>\n",
       "      <td>46</td>\n",
       "      <td>5min</td>\n",
       "      <td>...</td>\n",
       "      <td>5/16/2017 1:55</td>\n",
       "      <td>NaN</td>\n",
       "      <td>NaN</td>\n",
       "      <td>buy_price</td>\n",
       "      <td>\"1day\"</td>\n",
       "      <td>NaN</td>\n",
       "      <td>NaN</td>\n",
       "      <td>XBT</td>\n",
       "      <td>EUR</td>\n",
       "      <td>0</td>\n",
       "    </tr>\n",
       "    <tr>\n",
       "      <th>4</th>\n",
       "      <td>93</td>\n",
       "      <td>1385</td>\n",
       "      <td>regular_update</td>\n",
       "      <td>BTCE</td>\n",
       "      <td>BTC_USD</td>\n",
       "      <td>0</td>\n",
       "      <td>0</td>\n",
       "      <td>NaN</td>\n",
       "      <td>1690</td>\n",
       "      <td>5min</td>\n",
       "      <td>...</td>\n",
       "      <td>2/25/2017 8:00</td>\n",
       "      <td>NaN</td>\n",
       "      <td>NaN</td>\n",
       "      <td>buy_price</td>\n",
       "      <td>\"30min\"</td>\n",
       "      <td>NaN</td>\n",
       "      <td>NaN</td>\n",
       "      <td>BTC</td>\n",
       "      <td>USD</td>\n",
       "      <td>0</td>\n",
       "    </tr>\n",
       "  </tbody>\n",
       "</table>\n",
       "<p>5 rows × 21 columns</p>\n",
       "</div>"
      ],
      "text/plain": [
       "   id  user_id            type    market currency  is_active  is_deleted  \\\n",
       "0   6     1345  regular_update  BITSTAMP  BTC_EUR          0           0   \n",
       "1  53     1040  regular_update      BTCE  BTC_EUR          0           0   \n",
       "2  56     1327  regular_update  COINBASE  BTC_USD          1           0   \n",
       "3  57     1375  regular_update    KRAKEN  XBT_EUR          0           0   \n",
       "4  93     1385  regular_update      BTCE  BTC_USD          0           0   \n",
       "\n",
       "   max_notifications  notifications snooze  ...       updated_at deleted_at  \\\n",
       "0                NaN              2   5min  ...  3/31/2017 23:00        NaN   \n",
       "1                NaN            249   5min  ...   5/16/2017 1:55        NaN   \n",
       "2                NaN           1143   5min  ...  7/30/2020 23:00        NaN   \n",
       "3                NaN             46   5min  ...   5/16/2017 1:55        NaN   \n",
       "4                NaN           1690   5min  ...   2/25/2017 8:00        NaN   \n",
       "\n",
       "      last_checked  comparison     value operator  time_period  cur_from  \\\n",
       "0              NaN   buy_price    \"1day\"      NaN          NaN       BTC   \n",
       "1              NaN   buy_price     \"12h\"      NaN          NaN       BTC   \n",
       "2  7/30/2020 23:00  sell_price    \"1day\"      NaN          NaN       BTC   \n",
       "3              NaN   buy_price    \"1day\"      NaN          NaN       XBT   \n",
       "4              NaN   buy_price   \"30min\"      NaN          NaN       BTC   \n",
       "\n",
       "  cur_into type_as_num  \n",
       "0      EUR           0  \n",
       "1      EUR           0  \n",
       "2      USD           0  \n",
       "3      EUR           0  \n",
       "4      USD           0  \n",
       "\n",
       "[5 rows x 21 columns]"
      ]
     },
     "execution_count": 79,
     "metadata": {},
     "output_type": "execute_result"
    }
   ],
   "source": [
    "alerts.head()"
   ]
  },
  {
   "cell_type": "markdown",
   "metadata": {},
   "source": []
  },
  {
   "cell_type": "code",
   "execution_count": 80,
   "metadata": {},
   "outputs": [
    {
     "data": {
      "text/html": [
       "<div>\n",
       "<style scoped>\n",
       "    .dataframe tbody tr th:only-of-type {\n",
       "        vertical-align: middle;\n",
       "    }\n",
       "\n",
       "    .dataframe tbody tr th {\n",
       "        vertical-align: top;\n",
       "    }\n",
       "\n",
       "    .dataframe thead th {\n",
       "        text-align: right;\n",
       "    }\n",
       "</style>\n",
       "<table border=\"1\" class=\"dataframe\">\n",
       "  <thead>\n",
       "    <tr style=\"text-align: right;\">\n",
       "      <th></th>\n",
       "      <th>id</th>\n",
       "      <th>user_id</th>\n",
       "      <th>type</th>\n",
       "      <th>market</th>\n",
       "      <th>currency</th>\n",
       "      <th>is_active</th>\n",
       "      <th>is_deleted</th>\n",
       "      <th>max_notifications</th>\n",
       "      <th>notifications</th>\n",
       "      <th>snooze</th>\n",
       "      <th>...</th>\n",
       "      <th>updated_at</th>\n",
       "      <th>deleted_at</th>\n",
       "      <th>last_checked</th>\n",
       "      <th>comparison</th>\n",
       "      <th>value</th>\n",
       "      <th>operator</th>\n",
       "      <th>time_period</th>\n",
       "      <th>cur_from</th>\n",
       "      <th>cur_into</th>\n",
       "      <th>type_as_num</th>\n",
       "    </tr>\n",
       "  </thead>\n",
       "  <tbody>\n",
       "    <tr>\n",
       "      <th>0</th>\n",
       "      <td>6</td>\n",
       "      <td>1345</td>\n",
       "      <td>regular_update</td>\n",
       "      <td>BITSTAMP</td>\n",
       "      <td>BTC_EUR</td>\n",
       "      <td>0</td>\n",
       "      <td>0</td>\n",
       "      <td>NaN</td>\n",
       "      <td>2</td>\n",
       "      <td>5min</td>\n",
       "      <td>...</td>\n",
       "      <td>3/31/2017 23:00</td>\n",
       "      <td>NaN</td>\n",
       "      <td>NaN</td>\n",
       "      <td>buy_price</td>\n",
       "      <td>\"1day\"</td>\n",
       "      <td>NaN</td>\n",
       "      <td>NaN</td>\n",
       "      <td>BTC</td>\n",
       "      <td>EUR</td>\n",
       "      <td>0</td>\n",
       "    </tr>\n",
       "    <tr>\n",
       "      <th>1</th>\n",
       "      <td>53</td>\n",
       "      <td>1040</td>\n",
       "      <td>regular_update</td>\n",
       "      <td>BTCE</td>\n",
       "      <td>BTC_EUR</td>\n",
       "      <td>0</td>\n",
       "      <td>0</td>\n",
       "      <td>NaN</td>\n",
       "      <td>249</td>\n",
       "      <td>5min</td>\n",
       "      <td>...</td>\n",
       "      <td>5/16/2017 1:55</td>\n",
       "      <td>NaN</td>\n",
       "      <td>NaN</td>\n",
       "      <td>buy_price</td>\n",
       "      <td>\"12h\"</td>\n",
       "      <td>NaN</td>\n",
       "      <td>NaN</td>\n",
       "      <td>BTC</td>\n",
       "      <td>EUR</td>\n",
       "      <td>0</td>\n",
       "    </tr>\n",
       "    <tr>\n",
       "      <th>2</th>\n",
       "      <td>56</td>\n",
       "      <td>1327</td>\n",
       "      <td>regular_update</td>\n",
       "      <td>COINBASE</td>\n",
       "      <td>BTC_USD</td>\n",
       "      <td>1</td>\n",
       "      <td>0</td>\n",
       "      <td>NaN</td>\n",
       "      <td>1143</td>\n",
       "      <td>5min</td>\n",
       "      <td>...</td>\n",
       "      <td>7/30/2020 23:00</td>\n",
       "      <td>NaN</td>\n",
       "      <td>7/30/2020 23:00</td>\n",
       "      <td>sell_price</td>\n",
       "      <td>\"1day\"</td>\n",
       "      <td>NaN</td>\n",
       "      <td>NaN</td>\n",
       "      <td>BTC</td>\n",
       "      <td>USD</td>\n",
       "      <td>0</td>\n",
       "    </tr>\n",
       "    <tr>\n",
       "      <th>4</th>\n",
       "      <td>93</td>\n",
       "      <td>1385</td>\n",
       "      <td>regular_update</td>\n",
       "      <td>BTCE</td>\n",
       "      <td>BTC_USD</td>\n",
       "      <td>0</td>\n",
       "      <td>0</td>\n",
       "      <td>NaN</td>\n",
       "      <td>1690</td>\n",
       "      <td>5min</td>\n",
       "      <td>...</td>\n",
       "      <td>2/25/2017 8:00</td>\n",
       "      <td>NaN</td>\n",
       "      <td>NaN</td>\n",
       "      <td>buy_price</td>\n",
       "      <td>\"30min\"</td>\n",
       "      <td>NaN</td>\n",
       "      <td>NaN</td>\n",
       "      <td>BTC</td>\n",
       "      <td>USD</td>\n",
       "      <td>0</td>\n",
       "    </tr>\n",
       "    <tr>\n",
       "      <th>5</th>\n",
       "      <td>97</td>\n",
       "      <td>1336</td>\n",
       "      <td>regular_update</td>\n",
       "      <td>BITSTAMP</td>\n",
       "      <td>BTC_USD</td>\n",
       "      <td>0</td>\n",
       "      <td>0</td>\n",
       "      <td>NaN</td>\n",
       "      <td>202</td>\n",
       "      <td>5min</td>\n",
       "      <td>...</td>\n",
       "      <td>5/16/2017 1:55</td>\n",
       "      <td>NaN</td>\n",
       "      <td>NaN</td>\n",
       "      <td>buy_price</td>\n",
       "      <td>\"12h\"</td>\n",
       "      <td>NaN</td>\n",
       "      <td>NaN</td>\n",
       "      <td>BTC</td>\n",
       "      <td>USD</td>\n",
       "      <td>0</td>\n",
       "    </tr>\n",
       "    <tr>\n",
       "      <th>...</th>\n",
       "      <td>...</td>\n",
       "      <td>...</td>\n",
       "      <td>...</td>\n",
       "      <td>...</td>\n",
       "      <td>...</td>\n",
       "      <td>...</td>\n",
       "      <td>...</td>\n",
       "      <td>...</td>\n",
       "      <td>...</td>\n",
       "      <td>...</td>\n",
       "      <td>...</td>\n",
       "      <td>...</td>\n",
       "      <td>...</td>\n",
       "      <td>...</td>\n",
       "      <td>...</td>\n",
       "      <td>...</td>\n",
       "      <td>...</td>\n",
       "      <td>...</td>\n",
       "      <td>...</td>\n",
       "      <td>...</td>\n",
       "      <td>...</td>\n",
       "    </tr>\n",
       "    <tr>\n",
       "      <th>102212</th>\n",
       "      <td>176503</td>\n",
       "      <td>76181</td>\n",
       "      <td>price_point</td>\n",
       "      <td>COINBASE</td>\n",
       "      <td>BTC_USD</td>\n",
       "      <td>1</td>\n",
       "      <td>0</td>\n",
       "      <td>1.0</td>\n",
       "      <td>0</td>\n",
       "      <td>5min</td>\n",
       "      <td>...</td>\n",
       "      <td>7/31/2020 8:38</td>\n",
       "      <td>NaN</td>\n",
       "      <td>NaN</td>\n",
       "      <td>buy_price</td>\n",
       "      <td>\"5.5\"</td>\n",
       "      <td>1.0</td>\n",
       "      <td>NaN</td>\n",
       "      <td>BTC</td>\n",
       "      <td>USD</td>\n",
       "      <td>2</td>\n",
       "    </tr>\n",
       "    <tr>\n",
       "      <th>102215</th>\n",
       "      <td>176506</td>\n",
       "      <td>20314</td>\n",
       "      <td>price_point</td>\n",
       "      <td>BITSTAMP</td>\n",
       "      <td>BTC_USD</td>\n",
       "      <td>0</td>\n",
       "      <td>1</td>\n",
       "      <td>1.0</td>\n",
       "      <td>0</td>\n",
       "      <td>5min</td>\n",
       "      <td>...</td>\n",
       "      <td>7/31/2020 11:25</td>\n",
       "      <td>7/31/2020 11:25</td>\n",
       "      <td>NaN</td>\n",
       "      <td>buy_price</td>\n",
       "      <td>\"0.012\"</td>\n",
       "      <td>0.0</td>\n",
       "      <td>NaN</td>\n",
       "      <td>BTC</td>\n",
       "      <td>USD</td>\n",
       "      <td>2</td>\n",
       "    </tr>\n",
       "    <tr>\n",
       "      <th>102218</th>\n",
       "      <td>176509</td>\n",
       "      <td>11987</td>\n",
       "      <td>price_point</td>\n",
       "      <td>BINANCE</td>\n",
       "      <td>NKN_BTC</td>\n",
       "      <td>1</td>\n",
       "      <td>0</td>\n",
       "      <td>1.0</td>\n",
       "      <td>0</td>\n",
       "      <td>5min</td>\n",
       "      <td>...</td>\n",
       "      <td>NaN</td>\n",
       "      <td>NaN</td>\n",
       "      <td>NaN</td>\n",
       "      <td>buy_price</td>\n",
       "      <td>\"5\"</td>\n",
       "      <td>0.0</td>\n",
       "      <td>NaN</td>\n",
       "      <td>NKN</td>\n",
       "      <td>BTC</td>\n",
       "      <td>2</td>\n",
       "    </tr>\n",
       "    <tr>\n",
       "      <th>102221</th>\n",
       "      <td>176512</td>\n",
       "      <td>45591</td>\n",
       "      <td>price_point</td>\n",
       "      <td>GDAX</td>\n",
       "      <td>BTC_USD</td>\n",
       "      <td>0</td>\n",
       "      <td>1</td>\n",
       "      <td>5.0</td>\n",
       "      <td>0</td>\n",
       "      <td>5min</td>\n",
       "      <td>...</td>\n",
       "      <td>7/31/2020 13:39</td>\n",
       "      <td>7/31/2020 13:39</td>\n",
       "      <td>NaN</td>\n",
       "      <td>buy_price</td>\n",
       "      <td>\"0.15\"</td>\n",
       "      <td>1.0</td>\n",
       "      <td>NaN</td>\n",
       "      <td>BTC</td>\n",
       "      <td>USD</td>\n",
       "      <td>2</td>\n",
       "    </tr>\n",
       "    <tr>\n",
       "      <th>102222</th>\n",
       "      <td>176513</td>\n",
       "      <td>45591</td>\n",
       "      <td>price_point</td>\n",
       "      <td>GDAX</td>\n",
       "      <td>BTC_USD</td>\n",
       "      <td>0</td>\n",
       "      <td>1</td>\n",
       "      <td>5.0</td>\n",
       "      <td>0</td>\n",
       "      <td>5min</td>\n",
       "      <td>...</td>\n",
       "      <td>7/31/2020 13:40</td>\n",
       "      <td>7/31/2020 13:40</td>\n",
       "      <td>NaN</td>\n",
       "      <td>sell_price</td>\n",
       "      <td>\"9980\"</td>\n",
       "      <td>1.0</td>\n",
       "      <td>NaN</td>\n",
       "      <td>BTC</td>\n",
       "      <td>USD</td>\n",
       "      <td>2</td>\n",
       "    </tr>\n",
       "  </tbody>\n",
       "</table>\n",
       "<p>64824 rows × 21 columns</p>\n",
       "</div>"
      ],
      "text/plain": [
       "            id  user_id            type    market currency  is_active  \\\n",
       "0            6     1345  regular_update  BITSTAMP  BTC_EUR          0   \n",
       "1           53     1040  regular_update      BTCE  BTC_EUR          0   \n",
       "2           56     1327  regular_update  COINBASE  BTC_USD          1   \n",
       "4           93     1385  regular_update      BTCE  BTC_USD          0   \n",
       "5           97     1336  regular_update  BITSTAMP  BTC_USD          0   \n",
       "...        ...      ...             ...       ...      ...        ...   \n",
       "102212  176503    76181     price_point  COINBASE  BTC_USD          1   \n",
       "102215  176506    20314     price_point  BITSTAMP  BTC_USD          0   \n",
       "102218  176509    11987     price_point   BINANCE  NKN_BTC          1   \n",
       "102221  176512    45591     price_point      GDAX  BTC_USD          0   \n",
       "102222  176513    45591     price_point      GDAX  BTC_USD          0   \n",
       "\n",
       "        is_deleted  max_notifications  notifications snooze  ...  \\\n",
       "0                0                NaN              2   5min  ...   \n",
       "1                0                NaN            249   5min  ...   \n",
       "2                0                NaN           1143   5min  ...   \n",
       "4                0                NaN           1690   5min  ...   \n",
       "5                0                NaN            202   5min  ...   \n",
       "...            ...                ...            ...    ...  ...   \n",
       "102212           0                1.0              0   5min  ...   \n",
       "102215           1                1.0              0   5min  ...   \n",
       "102218           0                1.0              0   5min  ...   \n",
       "102221           1                5.0              0   5min  ...   \n",
       "102222           1                5.0              0   5min  ...   \n",
       "\n",
       "             updated_at       deleted_at     last_checked  comparison  \\\n",
       "0       3/31/2017 23:00              NaN              NaN   buy_price   \n",
       "1        5/16/2017 1:55              NaN              NaN   buy_price   \n",
       "2       7/30/2020 23:00              NaN  7/30/2020 23:00  sell_price   \n",
       "4        2/25/2017 8:00              NaN              NaN   buy_price   \n",
       "5        5/16/2017 1:55              NaN              NaN   buy_price   \n",
       "...                 ...              ...              ...         ...   \n",
       "102212   7/31/2020 8:38              NaN              NaN   buy_price   \n",
       "102215  7/31/2020 11:25  7/31/2020 11:25              NaN   buy_price   \n",
       "102218              NaN              NaN              NaN   buy_price   \n",
       "102221  7/31/2020 13:39  7/31/2020 13:39              NaN   buy_price   \n",
       "102222  7/31/2020 13:40  7/31/2020 13:40              NaN  sell_price   \n",
       "\n",
       "           value operator  time_period  cur_from cur_into type_as_num  \n",
       "0         \"1day\"      NaN          NaN       BTC      EUR           0  \n",
       "1          \"12h\"      NaN          NaN       BTC      EUR           0  \n",
       "2         \"1day\"      NaN          NaN       BTC      USD           0  \n",
       "4        \"30min\"      NaN          NaN       BTC      USD           0  \n",
       "5          \"12h\"      NaN          NaN       BTC      USD           0  \n",
       "...          ...      ...          ...       ...      ...         ...  \n",
       "102212     \"5.5\"      1.0          NaN       BTC      USD           2  \n",
       "102215   \"0.012\"      0.0          NaN       BTC      USD           2  \n",
       "102218       \"5\"      0.0          NaN       NKN      BTC           2  \n",
       "102221    \"0.15\"      1.0          NaN       BTC      USD           2  \n",
       "102222    \"9980\"      1.0          NaN       BTC      USD           2  \n",
       "\n",
       "[64824 rows x 21 columns]"
      ]
     },
     "execution_count": 80,
     "metadata": {},
     "output_type": "execute_result"
    }
   ],
   "source": [
    "alerts_btc = alerts[(alerts.cur_from == 'BTC') | (alerts.cur_into == 'BTC')]\n",
    "alerts_btc"
   ]
  },
  {
   "cell_type": "code",
   "execution_count": 81,
   "metadata": {},
   "outputs": [],
   "source": [
    "notes.rename({'id':'note_id', 'created_at':'note_created_at'}, axis=1, inplace=True)\n",
    "alerts.rename({'id':'alert_id', 'created_at':'alert_created_at'}, axis=1, inplace=True)"
   ]
  },
  {
   "cell_type": "code",
   "execution_count": 82,
   "metadata": {},
   "outputs": [
    {
     "data": {
      "text/html": [
       "<div>\n",
       "<style scoped>\n",
       "    .dataframe tbody tr th:only-of-type {\n",
       "        vertical-align: middle;\n",
       "    }\n",
       "\n",
       "    .dataframe tbody tr th {\n",
       "        vertical-align: top;\n",
       "    }\n",
       "\n",
       "    .dataframe thead th {\n",
       "        text-align: right;\n",
       "    }\n",
       "</style>\n",
       "<table border=\"1\" class=\"dataframe\">\n",
       "  <thead>\n",
       "    <tr style=\"text-align: right;\">\n",
       "      <th></th>\n",
       "      <th>note_id</th>\n",
       "      <th>alert_id</th>\n",
       "      <th>user_id</th>\n",
       "      <th>user_channels</th>\n",
       "      <th>message</th>\n",
       "      <th>note_created_at</th>\n",
       "    </tr>\n",
       "    <tr>\n",
       "      <th>created_at</th>\n",
       "      <th></th>\n",
       "      <th></th>\n",
       "      <th></th>\n",
       "      <th></th>\n",
       "      <th></th>\n",
       "      <th></th>\n",
       "    </tr>\n",
       "  </thead>\n",
       "  <tbody>\n",
       "    <tr>\n",
       "      <th>2017-01-17 07:55:05</th>\n",
       "      <td>1</td>\n",
       "      <td>4</td>\n",
       "      <td>2</td>\n",
       "      <td>1</td>\n",
       "      <td>Your GDAX - BTC_USD alert has been triggered. ...</td>\n",
       "      <td>2017-01-17 07:55:05</td>\n",
       "    </tr>\n",
       "    <tr>\n",
       "      <th>2017-01-17 07:55:05</th>\n",
       "      <td>2</td>\n",
       "      <td>4</td>\n",
       "      <td>2</td>\n",
       "      <td>2</td>\n",
       "      <td>Coindera Alert: GDAX - BTC_USD.  The buy price...</td>\n",
       "      <td>2017-01-17 07:55:05</td>\n",
       "    </tr>\n",
       "    <tr>\n",
       "      <th>2017-01-17 07:55:05</th>\n",
       "      <td>3</td>\n",
       "      <td>4</td>\n",
       "      <td>2</td>\n",
       "      <td>3</td>\n",
       "      <td>Your GDAX - BTC_USD alert has been triggered. ...</td>\n",
       "      <td>2017-01-17 07:55:05</td>\n",
       "    </tr>\n",
       "    <tr>\n",
       "      <th>2017-01-17 08:00:09</th>\n",
       "      <td>4</td>\n",
       "      <td>4</td>\n",
       "      <td>2</td>\n",
       "      <td>1</td>\n",
       "      <td>Your GDAX - BTC_USD alert has been triggered. ...</td>\n",
       "      <td>2017-01-17 08:00:09</td>\n",
       "    </tr>\n",
       "    <tr>\n",
       "      <th>2017-01-17 08:00:10</th>\n",
       "      <td>5</td>\n",
       "      <td>4</td>\n",
       "      <td>2</td>\n",
       "      <td>3</td>\n",
       "      <td>Your GDAX - BTC_USD alert has been triggered. ...</td>\n",
       "      <td>2017-01-17 08:00:10</td>\n",
       "    </tr>\n",
       "  </tbody>\n",
       "</table>\n",
       "</div>"
      ],
      "text/plain": [
       "                     note_id  alert_id  user_id  user_channels  \\\n",
       "created_at                                                       \n",
       "2017-01-17 07:55:05        1         4        2              1   \n",
       "2017-01-17 07:55:05        2         4        2              2   \n",
       "2017-01-17 07:55:05        3         4        2              3   \n",
       "2017-01-17 08:00:09        4         4        2              1   \n",
       "2017-01-17 08:00:10        5         4        2              3   \n",
       "\n",
       "                                                               message  \\\n",
       "created_at                                                               \n",
       "2017-01-17 07:55:05  Your GDAX - BTC_USD alert has been triggered. ...   \n",
       "2017-01-17 07:55:05  Coindera Alert: GDAX - BTC_USD.  The buy price...   \n",
       "2017-01-17 07:55:05  Your GDAX - BTC_USD alert has been triggered. ...   \n",
       "2017-01-17 08:00:09  Your GDAX - BTC_USD alert has been triggered. ...   \n",
       "2017-01-17 08:00:10  Your GDAX - BTC_USD alert has been triggered. ...   \n",
       "\n",
       "                        note_created_at  \n",
       "created_at                               \n",
       "2017-01-17 07:55:05 2017-01-17 07:55:05  \n",
       "2017-01-17 07:55:05 2017-01-17 07:55:05  \n",
       "2017-01-17 07:55:05 2017-01-17 07:55:05  \n",
       "2017-01-17 08:00:09 2017-01-17 08:00:09  \n",
       "2017-01-17 08:00:10 2017-01-17 08:00:10  "
      ]
     },
     "execution_count": 82,
     "metadata": {},
     "output_type": "execute_result"
    }
   ],
   "source": [
    "notes.head()"
   ]
  },
  {
   "cell_type": "code",
   "execution_count": 83,
   "metadata": {},
   "outputs": [],
   "source": [
    "notes_full = notes.merge(alerts, on=['alert_id', 'user_id'], how='left')"
   ]
  },
  {
   "cell_type": "code",
   "execution_count": 84,
   "metadata": {},
   "outputs": [
    {
     "data": {
      "text/plain": [
       "0"
      ]
     },
     "execution_count": 84,
     "metadata": {},
     "output_type": "execute_result"
    }
   ],
   "source": [
    "notes_full.alert_id.isnull().sum()"
   ]
  },
  {
   "cell_type": "code",
   "execution_count": 85,
   "metadata": {},
   "outputs": [
    {
     "data": {
      "text/html": [
       "<div>\n",
       "<style scoped>\n",
       "    .dataframe tbody tr th:only-of-type {\n",
       "        vertical-align: middle;\n",
       "    }\n",
       "\n",
       "    .dataframe tbody tr th {\n",
       "        vertical-align: top;\n",
       "    }\n",
       "\n",
       "    .dataframe thead th {\n",
       "        text-align: right;\n",
       "    }\n",
       "</style>\n",
       "<table border=\"1\" class=\"dataframe\">\n",
       "  <thead>\n",
       "    <tr style=\"text-align: right;\">\n",
       "      <th></th>\n",
       "      <th>note_id</th>\n",
       "      <th>alert_id</th>\n",
       "      <th>user_id</th>\n",
       "      <th>user_channels</th>\n",
       "      <th>message</th>\n",
       "      <th>note_created_at</th>\n",
       "      <th>type</th>\n",
       "      <th>market</th>\n",
       "      <th>currency</th>\n",
       "      <th>is_active</th>\n",
       "      <th>...</th>\n",
       "      <th>updated_at</th>\n",
       "      <th>deleted_at</th>\n",
       "      <th>last_checked</th>\n",
       "      <th>comparison</th>\n",
       "      <th>value</th>\n",
       "      <th>operator</th>\n",
       "      <th>time_period</th>\n",
       "      <th>cur_from</th>\n",
       "      <th>cur_into</th>\n",
       "      <th>type_as_num</th>\n",
       "    </tr>\n",
       "  </thead>\n",
       "  <tbody>\n",
       "    <tr>\n",
       "      <th>0</th>\n",
       "      <td>1</td>\n",
       "      <td>4</td>\n",
       "      <td>2</td>\n",
       "      <td>1</td>\n",
       "      <td>Your GDAX - BTC_USD alert has been triggered. ...</td>\n",
       "      <td>2017-01-17 07:55:05</td>\n",
       "      <td>NaN</td>\n",
       "      <td>NaN</td>\n",
       "      <td>NaN</td>\n",
       "      <td>NaN</td>\n",
       "      <td>...</td>\n",
       "      <td>NaN</td>\n",
       "      <td>NaN</td>\n",
       "      <td>NaN</td>\n",
       "      <td>NaN</td>\n",
       "      <td>NaN</td>\n",
       "      <td>NaN</td>\n",
       "      <td>NaN</td>\n",
       "      <td>NaN</td>\n",
       "      <td>NaN</td>\n",
       "      <td>NaN</td>\n",
       "    </tr>\n",
       "    <tr>\n",
       "      <th>1</th>\n",
       "      <td>2</td>\n",
       "      <td>4</td>\n",
       "      <td>2</td>\n",
       "      <td>2</td>\n",
       "      <td>Coindera Alert: GDAX - BTC_USD.  The buy price...</td>\n",
       "      <td>2017-01-17 07:55:05</td>\n",
       "      <td>NaN</td>\n",
       "      <td>NaN</td>\n",
       "      <td>NaN</td>\n",
       "      <td>NaN</td>\n",
       "      <td>...</td>\n",
       "      <td>NaN</td>\n",
       "      <td>NaN</td>\n",
       "      <td>NaN</td>\n",
       "      <td>NaN</td>\n",
       "      <td>NaN</td>\n",
       "      <td>NaN</td>\n",
       "      <td>NaN</td>\n",
       "      <td>NaN</td>\n",
       "      <td>NaN</td>\n",
       "      <td>NaN</td>\n",
       "    </tr>\n",
       "    <tr>\n",
       "      <th>2</th>\n",
       "      <td>3</td>\n",
       "      <td>4</td>\n",
       "      <td>2</td>\n",
       "      <td>3</td>\n",
       "      <td>Your GDAX - BTC_USD alert has been triggered. ...</td>\n",
       "      <td>2017-01-17 07:55:05</td>\n",
       "      <td>NaN</td>\n",
       "      <td>NaN</td>\n",
       "      <td>NaN</td>\n",
       "      <td>NaN</td>\n",
       "      <td>...</td>\n",
       "      <td>NaN</td>\n",
       "      <td>NaN</td>\n",
       "      <td>NaN</td>\n",
       "      <td>NaN</td>\n",
       "      <td>NaN</td>\n",
       "      <td>NaN</td>\n",
       "      <td>NaN</td>\n",
       "      <td>NaN</td>\n",
       "      <td>NaN</td>\n",
       "      <td>NaN</td>\n",
       "    </tr>\n",
       "    <tr>\n",
       "      <th>3</th>\n",
       "      <td>4</td>\n",
       "      <td>4</td>\n",
       "      <td>2</td>\n",
       "      <td>1</td>\n",
       "      <td>Your GDAX - BTC_USD alert has been triggered. ...</td>\n",
       "      <td>2017-01-17 08:00:09</td>\n",
       "      <td>NaN</td>\n",
       "      <td>NaN</td>\n",
       "      <td>NaN</td>\n",
       "      <td>NaN</td>\n",
       "      <td>...</td>\n",
       "      <td>NaN</td>\n",
       "      <td>NaN</td>\n",
       "      <td>NaN</td>\n",
       "      <td>NaN</td>\n",
       "      <td>NaN</td>\n",
       "      <td>NaN</td>\n",
       "      <td>NaN</td>\n",
       "      <td>NaN</td>\n",
       "      <td>NaN</td>\n",
       "      <td>NaN</td>\n",
       "    </tr>\n",
       "    <tr>\n",
       "      <th>4</th>\n",
       "      <td>5</td>\n",
       "      <td>4</td>\n",
       "      <td>2</td>\n",
       "      <td>3</td>\n",
       "      <td>Your GDAX - BTC_USD alert has been triggered. ...</td>\n",
       "      <td>2017-01-17 08:00:10</td>\n",
       "      <td>NaN</td>\n",
       "      <td>NaN</td>\n",
       "      <td>NaN</td>\n",
       "      <td>NaN</td>\n",
       "      <td>...</td>\n",
       "      <td>NaN</td>\n",
       "      <td>NaN</td>\n",
       "      <td>NaN</td>\n",
       "      <td>NaN</td>\n",
       "      <td>NaN</td>\n",
       "      <td>NaN</td>\n",
       "      <td>NaN</td>\n",
       "      <td>NaN</td>\n",
       "      <td>NaN</td>\n",
       "      <td>NaN</td>\n",
       "    </tr>\n",
       "  </tbody>\n",
       "</table>\n",
       "<p>5 rows × 25 columns</p>\n",
       "</div>"
      ],
      "text/plain": [
       "   note_id  alert_id  user_id  user_channels  \\\n",
       "0        1         4        2              1   \n",
       "1        2         4        2              2   \n",
       "2        3         4        2              3   \n",
       "3        4         4        2              1   \n",
       "4        5         4        2              3   \n",
       "\n",
       "                                             message     note_created_at type  \\\n",
       "0  Your GDAX - BTC_USD alert has been triggered. ... 2017-01-17 07:55:05  NaN   \n",
       "1  Coindera Alert: GDAX - BTC_USD.  The buy price... 2017-01-17 07:55:05  NaN   \n",
       "2  Your GDAX - BTC_USD alert has been triggered. ... 2017-01-17 07:55:05  NaN   \n",
       "3  Your GDAX - BTC_USD alert has been triggered. ... 2017-01-17 08:00:09  NaN   \n",
       "4  Your GDAX - BTC_USD alert has been triggered. ... 2017-01-17 08:00:10  NaN   \n",
       "\n",
       "  market currency  is_active  ...  updated_at  deleted_at  last_checked  \\\n",
       "0    NaN      NaN        NaN  ...         NaN         NaN           NaN   \n",
       "1    NaN      NaN        NaN  ...         NaN         NaN           NaN   \n",
       "2    NaN      NaN        NaN  ...         NaN         NaN           NaN   \n",
       "3    NaN      NaN        NaN  ...         NaN         NaN           NaN   \n",
       "4    NaN      NaN        NaN  ...         NaN         NaN           NaN   \n",
       "\n",
       "  comparison value operator time_period cur_from cur_into type_as_num  \n",
       "0        NaN   NaN      NaN         NaN      NaN      NaN         NaN  \n",
       "1        NaN   NaN      NaN         NaN      NaN      NaN         NaN  \n",
       "2        NaN   NaN      NaN         NaN      NaN      NaN         NaN  \n",
       "3        NaN   NaN      NaN         NaN      NaN      NaN         NaN  \n",
       "4        NaN   NaN      NaN         NaN      NaN      NaN         NaN  \n",
       "\n",
       "[5 rows x 25 columns]"
      ]
     },
     "execution_count": 85,
     "metadata": {},
     "output_type": "execute_result"
    }
   ],
   "source": [
    "notes_full.head()"
   ]
  },
  {
   "cell_type": "code",
   "execution_count": 86,
   "metadata": {},
   "outputs": [
    {
     "name": "stdout",
     "output_type": "stream",
     "text": [
      "created_at\n",
      "2017-01-17 21:00:05    Your GDAX - BTC_USD alert has been triggered. ...\n",
      "Name: message, dtype: object\n"
     ]
    }
   ],
   "source": [
    "print(notes.message[22:23])"
   ]
  },
  {
   "cell_type": "code",
   "execution_count": 97,
   "metadata": {},
   "outputs": [
    {
     "data": {
      "text/plain": [
       "3082057"
      ]
     },
     "execution_count": 97,
     "metadata": {},
     "output_type": "execute_result"
    }
   ],
   "source": [
    "notes_full.deleted_at.isnull().sum()"
   ]
  },
  {
   "cell_type": "code",
   "execution_count": 87,
   "metadata": {},
   "outputs": [
    {
     "data": {
      "text/html": [
       "<div>\n",
       "<style scoped>\n",
       "    .dataframe tbody tr th:only-of-type {\n",
       "        vertical-align: middle;\n",
       "    }\n",
       "\n",
       "    .dataframe tbody tr th {\n",
       "        vertical-align: top;\n",
       "    }\n",
       "\n",
       "    .dataframe thead th {\n",
       "        text-align: right;\n",
       "    }\n",
       "</style>\n",
       "<table border=\"1\" class=\"dataframe\">\n",
       "  <thead>\n",
       "    <tr style=\"text-align: right;\">\n",
       "      <th></th>\n",
       "      <th>alert_id</th>\n",
       "      <th>user_id</th>\n",
       "      <th>type</th>\n",
       "      <th>market</th>\n",
       "      <th>currency</th>\n",
       "      <th>is_active</th>\n",
       "      <th>is_deleted</th>\n",
       "      <th>max_notifications</th>\n",
       "      <th>notifications</th>\n",
       "      <th>snooze</th>\n",
       "      <th>...</th>\n",
       "      <th>updated_at</th>\n",
       "      <th>deleted_at</th>\n",
       "      <th>last_checked</th>\n",
       "      <th>comparison</th>\n",
       "      <th>value</th>\n",
       "      <th>operator</th>\n",
       "      <th>time_period</th>\n",
       "      <th>cur_from</th>\n",
       "      <th>cur_into</th>\n",
       "      <th>type_as_num</th>\n",
       "    </tr>\n",
       "  </thead>\n",
       "  <tbody>\n",
       "    <tr>\n",
       "      <th>17</th>\n",
       "      <td>314</td>\n",
       "      <td>1464</td>\n",
       "      <td>regular_update</td>\n",
       "      <td>BITSTAMP</td>\n",
       "      <td>BTC_USD</td>\n",
       "      <td>0</td>\n",
       "      <td>0</td>\n",
       "      <td>NaN</td>\n",
       "      <td>0</td>\n",
       "      <td>5min</td>\n",
       "      <td>...</td>\n",
       "      <td>4/9/2017 3:58</td>\n",
       "      <td>NaN</td>\n",
       "      <td>NaN</td>\n",
       "      <td>buy_price</td>\n",
       "      <td>\"1week\"</td>\n",
       "      <td>NaN</td>\n",
       "      <td>NaN</td>\n",
       "      <td>BTC</td>\n",
       "      <td>USD</td>\n",
       "      <td>0</td>\n",
       "    </tr>\n",
       "    <tr>\n",
       "      <th>35</th>\n",
       "      <td>760</td>\n",
       "      <td>1650</td>\n",
       "      <td>regular_update</td>\n",
       "      <td>POLONIEX</td>\n",
       "      <td>ETC_USD</td>\n",
       "      <td>1</td>\n",
       "      <td>0</td>\n",
       "      <td>NaN</td>\n",
       "      <td>0</td>\n",
       "      <td>5min</td>\n",
       "      <td>...</td>\n",
       "      <td>5/24/2017 6:03</td>\n",
       "      <td>NaN</td>\n",
       "      <td>NaN</td>\n",
       "      <td>buy_price</td>\n",
       "      <td>\"3day\"</td>\n",
       "      <td>NaN</td>\n",
       "      <td>NaN</td>\n",
       "      <td>ETC</td>\n",
       "      <td>USD</td>\n",
       "      <td>0</td>\n",
       "    </tr>\n",
       "    <tr>\n",
       "      <th>60</th>\n",
       "      <td>1078</td>\n",
       "      <td>1766</td>\n",
       "      <td>regular_update</td>\n",
       "      <td>GEMINI</td>\n",
       "      <td>BTC_USD</td>\n",
       "      <td>0</td>\n",
       "      <td>0</td>\n",
       "      <td>NaN</td>\n",
       "      <td>0</td>\n",
       "      <td>5min</td>\n",
       "      <td>...</td>\n",
       "      <td>5/16/2017 1:56</td>\n",
       "      <td>NaN</td>\n",
       "      <td>NaN</td>\n",
       "      <td>buy_price</td>\n",
       "      <td>\"1week\"</td>\n",
       "      <td>NaN</td>\n",
       "      <td>NaN</td>\n",
       "      <td>BTC</td>\n",
       "      <td>USD</td>\n",
       "      <td>0</td>\n",
       "    </tr>\n",
       "    <tr>\n",
       "      <th>71</th>\n",
       "      <td>1166</td>\n",
       "      <td>1802</td>\n",
       "      <td>regular_update</td>\n",
       "      <td>BITTREX</td>\n",
       "      <td>DAS_H7D</td>\n",
       "      <td>0</td>\n",
       "      <td>0</td>\n",
       "      <td>NaN</td>\n",
       "      <td>0</td>\n",
       "      <td>5min</td>\n",
       "      <td>...</td>\n",
       "      <td>5/16/2017 1:56</td>\n",
       "      <td>NaN</td>\n",
       "      <td>NaN</td>\n",
       "      <td>buy_price</td>\n",
       "      <td>\"30min\"</td>\n",
       "      <td>NaN</td>\n",
       "      <td>NaN</td>\n",
       "      <td>DAS</td>\n",
       "      <td>H7D</td>\n",
       "      <td>0</td>\n",
       "    </tr>\n",
       "    <tr>\n",
       "      <th>86</th>\n",
       "      <td>1365</td>\n",
       "      <td>1897</td>\n",
       "      <td>regular_update</td>\n",
       "      <td>COINBASE</td>\n",
       "      <td>BTC_USD</td>\n",
       "      <td>0</td>\n",
       "      <td>0</td>\n",
       "      <td>NaN</td>\n",
       "      <td>0</td>\n",
       "      <td>5min</td>\n",
       "      <td>...</td>\n",
       "      <td>5/16/2017 1:56</td>\n",
       "      <td>NaN</td>\n",
       "      <td>NaN</td>\n",
       "      <td>buy_price</td>\n",
       "      <td>\"1week\"</td>\n",
       "      <td>NaN</td>\n",
       "      <td>NaN</td>\n",
       "      <td>BTC</td>\n",
       "      <td>USD</td>\n",
       "      <td>0</td>\n",
       "    </tr>\n",
       "    <tr>\n",
       "      <th>...</th>\n",
       "      <td>...</td>\n",
       "      <td>...</td>\n",
       "      <td>...</td>\n",
       "      <td>...</td>\n",
       "      <td>...</td>\n",
       "      <td>...</td>\n",
       "      <td>...</td>\n",
       "      <td>...</td>\n",
       "      <td>...</td>\n",
       "      <td>...</td>\n",
       "      <td>...</td>\n",
       "      <td>...</td>\n",
       "      <td>...</td>\n",
       "      <td>...</td>\n",
       "      <td>...</td>\n",
       "      <td>...</td>\n",
       "      <td>...</td>\n",
       "      <td>...</td>\n",
       "      <td>...</td>\n",
       "      <td>...</td>\n",
       "      <td>...</td>\n",
       "    </tr>\n",
       "    <tr>\n",
       "      <th>102219</th>\n",
       "      <td>176510</td>\n",
       "      <td>76183</td>\n",
       "      <td>price_point</td>\n",
       "      <td>BINANCE</td>\n",
       "      <td>XLM_USDT</td>\n",
       "      <td>1</td>\n",
       "      <td>0</td>\n",
       "      <td>100.0</td>\n",
       "      <td>0</td>\n",
       "      <td>5min</td>\n",
       "      <td>...</td>\n",
       "      <td>7/31/2020 13:01</td>\n",
       "      <td>NaN</td>\n",
       "      <td>7/31/2020 13:00</td>\n",
       "      <td>buy_price</td>\n",
       "      <td>\"0.00000217\"</td>\n",
       "      <td>1.0</td>\n",
       "      <td>NaN</td>\n",
       "      <td>XLM</td>\n",
       "      <td>USDT</td>\n",
       "      <td>2</td>\n",
       "    </tr>\n",
       "    <tr>\n",
       "      <th>102220</th>\n",
       "      <td>176511</td>\n",
       "      <td>76183</td>\n",
       "      <td>price_point</td>\n",
       "      <td>BINANCE</td>\n",
       "      <td>ADA_USDT</td>\n",
       "      <td>1</td>\n",
       "      <td>0</td>\n",
       "      <td>10.0</td>\n",
       "      <td>0</td>\n",
       "      <td>5min</td>\n",
       "      <td>...</td>\n",
       "      <td>NaN</td>\n",
       "      <td>NaN</td>\n",
       "      <td>NaN</td>\n",
       "      <td>buy_price</td>\n",
       "      <td>\"0.1\"</td>\n",
       "      <td>1.0</td>\n",
       "      <td>NaN</td>\n",
       "      <td>ADA</td>\n",
       "      <td>USDT</td>\n",
       "      <td>2</td>\n",
       "    </tr>\n",
       "    <tr>\n",
       "      <th>102221</th>\n",
       "      <td>176512</td>\n",
       "      <td>45591</td>\n",
       "      <td>price_point</td>\n",
       "      <td>GDAX</td>\n",
       "      <td>BTC_USD</td>\n",
       "      <td>0</td>\n",
       "      <td>1</td>\n",
       "      <td>5.0</td>\n",
       "      <td>0</td>\n",
       "      <td>5min</td>\n",
       "      <td>...</td>\n",
       "      <td>7/31/2020 13:39</td>\n",
       "      <td>7/31/2020 13:39</td>\n",
       "      <td>NaN</td>\n",
       "      <td>buy_price</td>\n",
       "      <td>\"0.15\"</td>\n",
       "      <td>1.0</td>\n",
       "      <td>NaN</td>\n",
       "      <td>BTC</td>\n",
       "      <td>USD</td>\n",
       "      <td>2</td>\n",
       "    </tr>\n",
       "    <tr>\n",
       "      <th>102222</th>\n",
       "      <td>176513</td>\n",
       "      <td>45591</td>\n",
       "      <td>price_point</td>\n",
       "      <td>GDAX</td>\n",
       "      <td>BTC_USD</td>\n",
       "      <td>0</td>\n",
       "      <td>1</td>\n",
       "      <td>5.0</td>\n",
       "      <td>0</td>\n",
       "      <td>5min</td>\n",
       "      <td>...</td>\n",
       "      <td>7/31/2020 13:40</td>\n",
       "      <td>7/31/2020 13:40</td>\n",
       "      <td>NaN</td>\n",
       "      <td>sell_price</td>\n",
       "      <td>\"9980\"</td>\n",
       "      <td>1.0</td>\n",
       "      <td>NaN</td>\n",
       "      <td>BTC</td>\n",
       "      <td>USD</td>\n",
       "      <td>2</td>\n",
       "    </tr>\n",
       "    <tr>\n",
       "      <th>102223</th>\n",
       "      <td>176514</td>\n",
       "      <td>45591</td>\n",
       "      <td>price_point</td>\n",
       "      <td>BINANCE</td>\n",
       "      <td>XRP_USDT</td>\n",
       "      <td>1</td>\n",
       "      <td>0</td>\n",
       "      <td>5.0</td>\n",
       "      <td>0</td>\n",
       "      <td>5min</td>\n",
       "      <td>...</td>\n",
       "      <td>NaN</td>\n",
       "      <td>NaN</td>\n",
       "      <td>NaN</td>\n",
       "      <td>sell_price</td>\n",
       "      <td>\"9980\"</td>\n",
       "      <td>1.0</td>\n",
       "      <td>NaN</td>\n",
       "      <td>XRP</td>\n",
       "      <td>USDT</td>\n",
       "      <td>2</td>\n",
       "    </tr>\n",
       "  </tbody>\n",
       "</table>\n",
       "<p>24927 rows × 21 columns</p>\n",
       "</div>"
      ],
      "text/plain": [
       "        alert_id  user_id            type    market  currency  is_active  \\\n",
       "17           314     1464  regular_update  BITSTAMP   BTC_USD          0   \n",
       "35           760     1650  regular_update  POLONIEX   ETC_USD          1   \n",
       "60          1078     1766  regular_update    GEMINI   BTC_USD          0   \n",
       "71          1166     1802  regular_update   BITTREX   DAS_H7D          0   \n",
       "86          1365     1897  regular_update  COINBASE   BTC_USD          0   \n",
       "...          ...      ...             ...       ...       ...        ...   \n",
       "102219    176510    76183     price_point   BINANCE  XLM_USDT          1   \n",
       "102220    176511    76183     price_point   BINANCE  ADA_USDT          1   \n",
       "102221    176512    45591     price_point      GDAX   BTC_USD          0   \n",
       "102222    176513    45591     price_point      GDAX   BTC_USD          0   \n",
       "102223    176514    45591     price_point   BINANCE  XRP_USDT          1   \n",
       "\n",
       "        is_deleted  max_notifications  notifications snooze  ...  \\\n",
       "17               0                NaN              0   5min  ...   \n",
       "35               0                NaN              0   5min  ...   \n",
       "60               0                NaN              0   5min  ...   \n",
       "71               0                NaN              0   5min  ...   \n",
       "86               0                NaN              0   5min  ...   \n",
       "...            ...                ...            ...    ...  ...   \n",
       "102219           0              100.0              0   5min  ...   \n",
       "102220           0               10.0              0   5min  ...   \n",
       "102221           1                5.0              0   5min  ...   \n",
       "102222           1                5.0              0   5min  ...   \n",
       "102223           0                5.0              0   5min  ...   \n",
       "\n",
       "             updated_at       deleted_at     last_checked  comparison  \\\n",
       "17        4/9/2017 3:58              NaN              NaN   buy_price   \n",
       "35       5/24/2017 6:03              NaN              NaN   buy_price   \n",
       "60       5/16/2017 1:56              NaN              NaN   buy_price   \n",
       "71       5/16/2017 1:56              NaN              NaN   buy_price   \n",
       "86       5/16/2017 1:56              NaN              NaN   buy_price   \n",
       "...                 ...              ...              ...         ...   \n",
       "102219  7/31/2020 13:01              NaN  7/31/2020 13:00   buy_price   \n",
       "102220              NaN              NaN              NaN   buy_price   \n",
       "102221  7/31/2020 13:39  7/31/2020 13:39              NaN   buy_price   \n",
       "102222  7/31/2020 13:40  7/31/2020 13:40              NaN  sell_price   \n",
       "102223              NaN              NaN              NaN  sell_price   \n",
       "\n",
       "                value operator  time_period  cur_from cur_into type_as_num  \n",
       "17            \"1week\"      NaN          NaN       BTC      USD           0  \n",
       "35             \"3day\"      NaN          NaN       ETC      USD           0  \n",
       "60            \"1week\"      NaN          NaN       BTC      USD           0  \n",
       "71            \"30min\"      NaN          NaN       DAS      H7D           0  \n",
       "86            \"1week\"      NaN          NaN       BTC      USD           0  \n",
       "...               ...      ...          ...       ...      ...         ...  \n",
       "102219   \"0.00000217\"      1.0          NaN       XLM     USDT           2  \n",
       "102220          \"0.1\"      1.0          NaN       ADA     USDT           2  \n",
       "102221         \"0.15\"      1.0          NaN       BTC      USD           2  \n",
       "102222         \"9980\"      1.0          NaN       BTC      USD           2  \n",
       "102223         \"9980\"      1.0          NaN       XRP     USDT           2  \n",
       "\n",
       "[24927 rows x 21 columns]"
      ]
     },
     "execution_count": 87,
     "metadata": {},
     "output_type": "execute_result"
    }
   ],
   "source": [
    "alerts[alerts.notifications == 0]"
   ]
  },
  {
   "cell_type": "code",
   "execution_count": 88,
   "metadata": {},
   "outputs": [
    {
     "data": {
      "text/plain": [
       "(102224, 21)"
      ]
     },
     "execution_count": 88,
     "metadata": {},
     "output_type": "execute_result"
    }
   ],
   "source": [
    "alerts.shape"
   ]
  },
  {
   "cell_type": "code",
   "execution_count": 100,
   "metadata": {},
   "outputs": [],
   "source": [
    "notes_full.to_csv(r'C:\\Users\\agrae\\Documents\\AAA_Work\\Coding\\Springboard\\HW\\000_Capstone_3\\Data\\Modeling\\notes_full.csv')"
   ]
  },
  {
   "cell_type": "code",
   "execution_count": null,
   "metadata": {},
   "outputs": [],
   "source": []
  }
 ],
 "metadata": {
  "kernelspec": {
   "display_name": "Python 3",
   "language": "python",
   "name": "python3"
  },
  "language_info": {
   "codemirror_mode": {
    "name": "ipython",
    "version": 3
   },
   "file_extension": ".py",
   "mimetype": "text/x-python",
   "name": "python",
   "nbconvert_exporter": "python",
   "pygments_lexer": "ipython3",
   "version": "3.8.5"
  }
 },
 "nbformat": 4,
 "nbformat_minor": 4
}
