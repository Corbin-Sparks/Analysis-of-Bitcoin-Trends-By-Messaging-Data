{
 "cells": [
  {
   "cell_type": "code",
   "execution_count": 1,
   "metadata": {},
   "outputs": [],
   "source": [
    "import numpy as np \n",
    "import pandas as pd \n",
    "import matplotlib.pyplot as plt \n",
    "import seaborn as sns \n",
    "import datetime\n",
    "from sklearn.linear_model import LogisticRegression\n",
    "from sklearn.model_selection import train_test_split\n",
    "from sklearn.metrics import accuracy_score\n",
    "from sklearn.metrics import roc_curve\n",
    "from sklearn.metrics import roc_auc_score\n",
    "from sklearn.metrics import confusion_matrix\n",
    "from datetime import timedelta"
   ]
  },
  {
   "cell_type": "code",
   "execution_count": 2,
   "metadata": {},
   "outputs": [],
   "source": [
    "df = pd.read_csv(r'C:\\Users\\agrae\\Documents\\AAA_Work\\Coding\\Springboard\\HW\\000_Capstone_3\\Data\\Modeling\\notes_full.csv')\n",
    "btc_days = pd.read_csv(r'C:\\Users\\agrae\\Documents\\AAA_Work\\Coding\\Springboard\\HW\\000_Capstone_3\\Data\\Modeling\\btc_days_pct.csv')\n",
    "btc_weeks = pd.read_csv(r'C:\\Users\\agrae\\Documents\\AAA_Work\\Coding\\Springboard\\HW\\000_Capstone_3\\Data\\Modeling\\btc_weeks_pct.csv')\n",
    "btc_hours = pd.read_csv(r'C:\\Users\\agrae\\Documents\\AAA_Work\\Coding\\Springboard\\HW\\000_Capstone_3\\Data\\Modeling\\btc_hours_pct.csv')"
   ]
  },
  {
   "cell_type": "code",
   "execution_count": 3,
   "metadata": {},
   "outputs": [],
   "source": [
    "df = df.drop('Unnamed: 0', axis=1)\n",
    "btc_days = btc_days.drop(0)\n",
    "btc_weeks = btc_weeks.drop(0)\n",
    "btc_hours = btc_hours.drop(0)"
   ]
  },
  {
   "cell_type": "code",
   "execution_count": 4,
   "metadata": {},
   "outputs": [
    {
     "data": {
      "text/html": [
       "<div>\n",
       "<style scoped>\n",
       "    .dataframe tbody tr th:only-of-type {\n",
       "        vertical-align: middle;\n",
       "    }\n",
       "\n",
       "    .dataframe tbody tr th {\n",
       "        vertical-align: top;\n",
       "    }\n",
       "\n",
       "    .dataframe thead th {\n",
       "        text-align: right;\n",
       "    }\n",
       "</style>\n",
       "<table border=\"1\" class=\"dataframe\">\n",
       "  <thead>\n",
       "    <tr style=\"text-align: right;\">\n",
       "      <th></th>\n",
       "      <th>note_id</th>\n",
       "      <th>alert_id</th>\n",
       "      <th>user_id</th>\n",
       "      <th>user_channels</th>\n",
       "      <th>message</th>\n",
       "      <th>note_created_at</th>\n",
       "      <th>type</th>\n",
       "      <th>market</th>\n",
       "      <th>currency</th>\n",
       "      <th>is_active</th>\n",
       "      <th>...</th>\n",
       "      <th>updated_at</th>\n",
       "      <th>deleted_at</th>\n",
       "      <th>last_checked</th>\n",
       "      <th>comparison</th>\n",
       "      <th>value</th>\n",
       "      <th>operator</th>\n",
       "      <th>time_period</th>\n",
       "      <th>cur_from</th>\n",
       "      <th>cur_into</th>\n",
       "      <th>type_as_num</th>\n",
       "    </tr>\n",
       "  </thead>\n",
       "  <tbody>\n",
       "    <tr>\n",
       "      <th>0</th>\n",
       "      <td>1</td>\n",
       "      <td>4</td>\n",
       "      <td>2</td>\n",
       "      <td>1</td>\n",
       "      <td>Your GDAX - BTC_USD alert has been triggered. ...</td>\n",
       "      <td>2017-01-17 07:55:05</td>\n",
       "      <td>NaN</td>\n",
       "      <td>NaN</td>\n",
       "      <td>NaN</td>\n",
       "      <td>NaN</td>\n",
       "      <td>...</td>\n",
       "      <td>NaN</td>\n",
       "      <td>NaN</td>\n",
       "      <td>NaN</td>\n",
       "      <td>NaN</td>\n",
       "      <td>NaN</td>\n",
       "      <td>NaN</td>\n",
       "      <td>NaN</td>\n",
       "      <td>NaN</td>\n",
       "      <td>NaN</td>\n",
       "      <td>NaN</td>\n",
       "    </tr>\n",
       "    <tr>\n",
       "      <th>1</th>\n",
       "      <td>2</td>\n",
       "      <td>4</td>\n",
       "      <td>2</td>\n",
       "      <td>2</td>\n",
       "      <td>Coindera Alert: GDAX - BTC_USD.  The buy price...</td>\n",
       "      <td>2017-01-17 07:55:05</td>\n",
       "      <td>NaN</td>\n",
       "      <td>NaN</td>\n",
       "      <td>NaN</td>\n",
       "      <td>NaN</td>\n",
       "      <td>...</td>\n",
       "      <td>NaN</td>\n",
       "      <td>NaN</td>\n",
       "      <td>NaN</td>\n",
       "      <td>NaN</td>\n",
       "      <td>NaN</td>\n",
       "      <td>NaN</td>\n",
       "      <td>NaN</td>\n",
       "      <td>NaN</td>\n",
       "      <td>NaN</td>\n",
       "      <td>NaN</td>\n",
       "    </tr>\n",
       "    <tr>\n",
       "      <th>2</th>\n",
       "      <td>3</td>\n",
       "      <td>4</td>\n",
       "      <td>2</td>\n",
       "      <td>3</td>\n",
       "      <td>Your GDAX - BTC_USD alert has been triggered. ...</td>\n",
       "      <td>2017-01-17 07:55:05</td>\n",
       "      <td>NaN</td>\n",
       "      <td>NaN</td>\n",
       "      <td>NaN</td>\n",
       "      <td>NaN</td>\n",
       "      <td>...</td>\n",
       "      <td>NaN</td>\n",
       "      <td>NaN</td>\n",
       "      <td>NaN</td>\n",
       "      <td>NaN</td>\n",
       "      <td>NaN</td>\n",
       "      <td>NaN</td>\n",
       "      <td>NaN</td>\n",
       "      <td>NaN</td>\n",
       "      <td>NaN</td>\n",
       "      <td>NaN</td>\n",
       "    </tr>\n",
       "    <tr>\n",
       "      <th>3</th>\n",
       "      <td>4</td>\n",
       "      <td>4</td>\n",
       "      <td>2</td>\n",
       "      <td>1</td>\n",
       "      <td>Your GDAX - BTC_USD alert has been triggered. ...</td>\n",
       "      <td>2017-01-17 08:00:09</td>\n",
       "      <td>NaN</td>\n",
       "      <td>NaN</td>\n",
       "      <td>NaN</td>\n",
       "      <td>NaN</td>\n",
       "      <td>...</td>\n",
       "      <td>NaN</td>\n",
       "      <td>NaN</td>\n",
       "      <td>NaN</td>\n",
       "      <td>NaN</td>\n",
       "      <td>NaN</td>\n",
       "      <td>NaN</td>\n",
       "      <td>NaN</td>\n",
       "      <td>NaN</td>\n",
       "      <td>NaN</td>\n",
       "      <td>NaN</td>\n",
       "    </tr>\n",
       "    <tr>\n",
       "      <th>4</th>\n",
       "      <td>5</td>\n",
       "      <td>4</td>\n",
       "      <td>2</td>\n",
       "      <td>3</td>\n",
       "      <td>Your GDAX - BTC_USD alert has been triggered. ...</td>\n",
       "      <td>2017-01-17 08:00:10</td>\n",
       "      <td>NaN</td>\n",
       "      <td>NaN</td>\n",
       "      <td>NaN</td>\n",
       "      <td>NaN</td>\n",
       "      <td>...</td>\n",
       "      <td>NaN</td>\n",
       "      <td>NaN</td>\n",
       "      <td>NaN</td>\n",
       "      <td>NaN</td>\n",
       "      <td>NaN</td>\n",
       "      <td>NaN</td>\n",
       "      <td>NaN</td>\n",
       "      <td>NaN</td>\n",
       "      <td>NaN</td>\n",
       "      <td>NaN</td>\n",
       "    </tr>\n",
       "  </tbody>\n",
       "</table>\n",
       "<p>5 rows × 25 columns</p>\n",
       "</div>"
      ],
      "text/plain": [
       "   note_id  alert_id  user_id  user_channels  \\\n",
       "0        1         4        2              1   \n",
       "1        2         4        2              2   \n",
       "2        3         4        2              3   \n",
       "3        4         4        2              1   \n",
       "4        5         4        2              3   \n",
       "\n",
       "                                             message      note_created_at  \\\n",
       "0  Your GDAX - BTC_USD alert has been triggered. ...  2017-01-17 07:55:05   \n",
       "1  Coindera Alert: GDAX - BTC_USD.  The buy price...  2017-01-17 07:55:05   \n",
       "2  Your GDAX - BTC_USD alert has been triggered. ...  2017-01-17 07:55:05   \n",
       "3  Your GDAX - BTC_USD alert has been triggered. ...  2017-01-17 08:00:09   \n",
       "4  Your GDAX - BTC_USD alert has been triggered. ...  2017-01-17 08:00:10   \n",
       "\n",
       "  type market currency  is_active  ...  updated_at  deleted_at  last_checked  \\\n",
       "0  NaN    NaN      NaN        NaN  ...         NaN         NaN           NaN   \n",
       "1  NaN    NaN      NaN        NaN  ...         NaN         NaN           NaN   \n",
       "2  NaN    NaN      NaN        NaN  ...         NaN         NaN           NaN   \n",
       "3  NaN    NaN      NaN        NaN  ...         NaN         NaN           NaN   \n",
       "4  NaN    NaN      NaN        NaN  ...         NaN         NaN           NaN   \n",
       "\n",
       "  comparison value operator time_period cur_from cur_into type_as_num  \n",
       "0        NaN   NaN      NaN         NaN      NaN      NaN         NaN  \n",
       "1        NaN   NaN      NaN         NaN      NaN      NaN         NaN  \n",
       "2        NaN   NaN      NaN         NaN      NaN      NaN         NaN  \n",
       "3        NaN   NaN      NaN         NaN      NaN      NaN         NaN  \n",
       "4        NaN   NaN      NaN         NaN      NaN      NaN         NaN  \n",
       "\n",
       "[5 rows x 25 columns]"
      ]
     },
     "execution_count": 4,
     "metadata": {},
     "output_type": "execute_result"
    }
   ],
   "source": [
    "df.head()"
   ]
  },
  {
   "cell_type": "markdown",
   "metadata": {},
   "source": [
    "Let's make our y variable and convert our datetime objects."
   ]
  },
  {
   "cell_type": "code",
   "execution_count": 5,
   "metadata": {},
   "outputs": [],
   "source": [
    "btc_hours['bull'] = ((btc_hours.Open >= 0).astype(int)).shift(-1)"
   ]
  },
  {
   "cell_type": "code",
   "execution_count": 6,
   "metadata": {},
   "outputs": [],
   "source": [
    "btc_days['bull'] = ((btc_days.Open >= 0).astype(int)).shift(-1)"
   ]
  },
  {
   "cell_type": "code",
   "execution_count": 7,
   "metadata": {},
   "outputs": [],
   "source": [
    "btc_weeks['bull'] = ((btc_weeks.Open >= 0).astype(int)).shift(-1)"
   ]
  },
  {
   "cell_type": "code",
   "execution_count": 8,
   "metadata": {},
   "outputs": [],
   "source": [
    "btc_hours = btc_hours.dropna()\n",
    "btc_days = btc_days.dropna()\n",
    "btc_weeks = btc_weeks.dropna()"
   ]
  },
  {
   "cell_type": "code",
   "execution_count": 9,
   "metadata": {},
   "outputs": [],
   "source": [
    "btc_hours['date'] = pd.to_datetime(btc_hours.date)\n",
    "btc_days['date'] = pd.to_datetime(btc_days.date)\n",
    "btc_weeks['date'] = pd.to_datetime(btc_weeks.date)"
   ]
  },
  {
   "cell_type": "code",
   "execution_count": 10,
   "metadata": {},
   "outputs": [
    {
     "data": {
      "text/html": [
       "<div>\n",
       "<style scoped>\n",
       "    .dataframe tbody tr th:only-of-type {\n",
       "        vertical-align: middle;\n",
       "    }\n",
       "\n",
       "    .dataframe tbody tr th {\n",
       "        vertical-align: top;\n",
       "    }\n",
       "\n",
       "    .dataframe thead th {\n",
       "        text-align: right;\n",
       "    }\n",
       "</style>\n",
       "<table border=\"1\" class=\"dataframe\">\n",
       "  <thead>\n",
       "    <tr style=\"text-align: right;\">\n",
       "      <th></th>\n",
       "      <th>date</th>\n",
       "      <th>Open</th>\n",
       "      <th>High</th>\n",
       "      <th>Low</th>\n",
       "      <th>volume_btc</th>\n",
       "      <th>volume_usd</th>\n",
       "      <th>Weighted_Price</th>\n",
       "      <th>bull</th>\n",
       "    </tr>\n",
       "  </thead>\n",
       "  <tbody>\n",
       "    <tr>\n",
       "      <th>1</th>\n",
       "      <td>2017-01-17 07:00:00+00:00</td>\n",
       "      <td>0.016445</td>\n",
       "      <td>0.030221</td>\n",
       "      <td>0.006761</td>\n",
       "      <td>5.294403</td>\n",
       "      <td>5.411611</td>\n",
       "      <td>0.016816</td>\n",
       "      <td>1.0</td>\n",
       "    </tr>\n",
       "    <tr>\n",
       "      <th>2</th>\n",
       "      <td>2017-01-17 08:00:00+00:00</td>\n",
       "      <td>0.015893</td>\n",
       "      <td>0.010406</td>\n",
       "      <td>0.019566</td>\n",
       "      <td>0.033996</td>\n",
       "      <td>0.048332</td>\n",
       "      <td>0.015750</td>\n",
       "      <td>0.0</td>\n",
       "    </tr>\n",
       "    <tr>\n",
       "      <th>3</th>\n",
       "      <td>2017-01-17 09:00:00+00:00</td>\n",
       "      <td>-0.005681</td>\n",
       "      <td>-0.013646</td>\n",
       "      <td>-0.000799</td>\n",
       "      <td>-0.771245</td>\n",
       "      <td>-0.772519</td>\n",
       "      <td>-0.005763</td>\n",
       "      <td>1.0</td>\n",
       "    </tr>\n",
       "    <tr>\n",
       "      <th>4</th>\n",
       "      <td>2017-01-17 10:00:00+00:00</td>\n",
       "      <td>0.004118</td>\n",
       "      <td>0.006210</td>\n",
       "      <td>0.005404</td>\n",
       "      <td>0.235181</td>\n",
       "      <td>0.241035</td>\n",
       "      <td>0.004193</td>\n",
       "      <td>0.0</td>\n",
       "    </tr>\n",
       "    <tr>\n",
       "      <th>5</th>\n",
       "      <td>2017-01-17 11:00:00+00:00</td>\n",
       "      <td>-0.001672</td>\n",
       "      <td>-0.005048</td>\n",
       "      <td>-0.006773</td>\n",
       "      <td>0.381617</td>\n",
       "      <td>0.376177</td>\n",
       "      <td>-0.001902</td>\n",
       "      <td>0.0</td>\n",
       "    </tr>\n",
       "  </tbody>\n",
       "</table>\n",
       "</div>"
      ],
      "text/plain": [
       "                       date      Open      High       Low  volume_btc  \\\n",
       "1 2017-01-17 07:00:00+00:00  0.016445  0.030221  0.006761    5.294403   \n",
       "2 2017-01-17 08:00:00+00:00  0.015893  0.010406  0.019566    0.033996   \n",
       "3 2017-01-17 09:00:00+00:00 -0.005681 -0.013646 -0.000799   -0.771245   \n",
       "4 2017-01-17 10:00:00+00:00  0.004118  0.006210  0.005404    0.235181   \n",
       "5 2017-01-17 11:00:00+00:00 -0.001672 -0.005048 -0.006773    0.381617   \n",
       "\n",
       "   volume_usd  Weighted_Price  bull  \n",
       "1    5.411611        0.016816   1.0  \n",
       "2    0.048332        0.015750   0.0  \n",
       "3   -0.772519       -0.005763   1.0  \n",
       "4    0.241035        0.004193   0.0  \n",
       "5    0.376177       -0.001902   0.0  "
      ]
     },
     "execution_count": 10,
     "metadata": {},
     "output_type": "execute_result"
    }
   ],
   "source": [
    "btc_hours.head()"
   ]
  },
  {
   "cell_type": "code",
   "execution_count": 121,
   "metadata": {},
   "outputs": [
    {
     "data": {
      "text/plain": [
       "<AxesSubplot:>"
      ]
     },
     "execution_count": 121,
     "metadata": {},
     "output_type": "execute_result"
    },
    {
     "data": {
      "image/png": "[encoded data removed]",
      "text/plain": [
       "<Figure size 432x288 with 2 Axes>"
      ]
     },
     "metadata": {
      "needs_background": "light"
     },
     "output_type": "display_data"
    }
   ],
   "source": [
    "sns.heatmap(btc_hours.corr())"
   ]
  },
  {
   "cell_type": "markdown",
   "metadata": {},
   "source": [
    "Let's see how much money you would have if you invested $100 at the start of this time period and where that would put you at the end. This will be a good base metric to see how our model is predicting."
   ]
  },
  {
   "cell_type": "code",
   "execution_count": 11,
   "metadata": {},
   "outputs": [
    {
     "data": {
      "text/plain": [
       "1364.5266882123599"
      ]
     },
     "execution_count": 11,
     "metadata": {},
     "output_type": "execute_result"
    }
   ],
   "source": [
    "inv = 100\n",
    "for x in btc_hours.Open:\n",
    "    inv = inv + inv*x\n",
    "inv"
   ]
  },
  {
   "cell_type": "code",
   "execution_count": 12,
   "metadata": {},
   "outputs": [],
   "source": [
    "df['note_created_at'] = pd.to_datetime(df.note_created_at)"
   ]
  },
  {
   "cell_type": "markdown",
   "metadata": {},
   "source": [
    "We'll quickly set a baseline and see how the model predicts without any added features."
   ]
  },
  {
   "cell_type": "code",
   "execution_count": 13,
   "metadata": {},
   "outputs": [],
   "source": [
    "X = btc_hours.drop(['bull', 'date'], axis=1)\n",
    "y = btc_hours['bull']"
   ]
  },
  {
   "cell_type": "code",
   "execution_count": 14,
   "metadata": {},
   "outputs": [],
   "source": [
    "X_train, X_test, y_train, y_test = train_test_split(X, y, test_size=.2, random_state=200)"
   ]
  },
  {
   "cell_type": "code",
   "execution_count": 15,
   "metadata": {},
   "outputs": [],
   "source": [
    "model = LogisticRegression()\n",
    "model.fit(X_train, y_train)\n",
    "y_pred = model.predict(X_test)"
   ]
  },
  {
   "cell_type": "code",
   "execution_count": 16,
   "metadata": {},
   "outputs": [],
   "source": [
    "y_pred_all = model.predict(X_test)\n",
    "btc_hours_pred = X_test.copy()\n",
    "btc_hours_pred['pred'] = y_pred_all"
   ]
  },
  {
   "cell_type": "markdown",
   "metadata": {},
   "source": [
    "y_pred_all = model.predict(X)\n",
    "btc_hours_pred = btc_hours.copy()\n",
    "btc_hours_pred['pred'] = y_pred_all\n",
    "btc_hours_pred = btc_hours_pred[btc_hours_pred.pred == 1]"
   ]
  },
  {
   "cell_type": "code",
   "execution_count": 17,
   "metadata": {},
   "outputs": [],
   "source": [
    "new_index = []\n",
    "for x in btc_hours_pred.index.to_list():\n",
    "    new_index.append(x+1)\n",
    "    \n",
    "new_index = new_index[:-1]"
   ]
  },
  {
   "cell_type": "code",
   "execution_count": 18,
   "metadata": {},
   "outputs": [],
   "source": [
    "next_open = btc_hours.loc[new_index,:]"
   ]
  },
  {
   "cell_type": "code",
   "execution_count": 19,
   "metadata": {},
   "outputs": [],
   "source": [
    "btc_hours_pred['next_open'] = next_open.Open.shift(-1)"
   ]
  },
  {
   "cell_type": "code",
   "execution_count": 20,
   "metadata": {},
   "outputs": [],
   "source": [
    "btc_hours_pred = btc_hours_pred.dropna()"
   ]
  },
  {
   "cell_type": "code",
   "execution_count": 21,
   "metadata": {},
   "outputs": [
    {
     "data": {
      "text/plain": [
       "123.75571454693485"
      ]
     },
     "execution_count": 21,
     "metadata": {},
     "output_type": "execute_result"
    }
   ],
   "source": [
    "inv = 100\n",
    "for x in btc_hours_pred.next_open:\n",
    "    inv = inv + inv*x\n",
    "inv"
   ]
  },
  {
   "cell_type": "markdown",
   "metadata": {},
   "source": [
    "Taking just our test data, we would make 23 dollars from a 100 dollar investment without using our model."
   ]
  },
  {
   "cell_type": "code",
   "execution_count": 22,
   "metadata": {},
   "outputs": [],
   "source": [
    "btc_hours_pred = btc_hours_pred[btc_hours_pred.pred == 1]"
   ]
  },
  {
   "cell_type": "code",
   "execution_count": 23,
   "metadata": {},
   "outputs": [
    {
     "data": {
      "text/plain": [
       "111.11820514124669"
      ]
     },
     "execution_count": 23,
     "metadata": {},
     "output_type": "execute_result"
    }
   ],
   "source": [
    "inv = 100\n",
    "for x in btc_hours_pred.next_open:\n",
    "    inv = inv + inv*(x)\n",
    "inv"
   ]
  },
  {
   "cell_type": "markdown",
   "metadata": {},
   "source": [
    "Now we only make 11 dollars. We are actually making less money using our model then we would if we just bought and held."
   ]
  },
  {
   "cell_type": "code",
   "execution_count": 24,
   "metadata": {},
   "outputs": [
    {
     "data": {
      "text/plain": [
       "(-2.1761831396377582, 2.308469376222832)"
      ]
     },
     "execution_count": 24,
     "metadata": {},
     "output_type": "execute_result"
    }
   ],
   "source": [
    "btc_hours_pred[btc_hours_pred.next_open < 0].next_open.sum(), btc_hours_pred[btc_hours_pred.next_open > 0].next_open.sum()"
   ]
  },
  {
   "cell_type": "code",
   "execution_count": 25,
   "metadata": {},
   "outputs": [
    {
     "name": "stdout",
     "output_type": "stream",
     "text": [
      "Specificity: 0.2188679245283019\n",
      "Accuracy: 0.5585106382978723\n",
      "Sensitivity: 0.8595317725752508\n"
     ]
    }
   ],
   "source": [
    "base_score = model.score(X_test, y_test)\n",
    "tn, fp, fn, tp = confusion_matrix(y_test, y_pred).ravel()\n",
    "specificity_b_h = tn / (tn+fp)\n",
    "sensitivity_b_h = tp / (tp+fn)\n",
    "print('Specificity:', specificity_b_h), print('Accuracy:', base_score),\n",
    "print('Sensitivity:', sensitivity_b_h)"
   ]
  },
  {
   "cell_type": "code",
   "execution_count": 26,
   "metadata": {},
   "outputs": [
    {
     "data": {
      "text/plain": [
       "('No Skill: ROC AUC=0.500', 'Logistic: ROC AUC=0.593')"
      ]
     },
     "execution_count": 26,
     "metadata": {},
     "output_type": "execute_result"
    }
   ],
   "source": [
    "#Get no skill prediction\n",
    "ns_probs = [0 for _ in range(len(y_test))]\n",
    "\n",
    "#We predict probabilities and keep probabilities for the positive outcome only\n",
    "lr_probs = model.predict_proba(X_test)\n",
    "lr_probs = lr_probs[:, 1]\n",
    "\n",
    "#Now we calculate scores\n",
    "ns_auc = roc_auc_score(y_test, ns_probs)\n",
    "lr_auc = roc_auc_score(y_test, lr_probs)\n",
    "\n",
    "#Summarize scores\n",
    "('No Skill: ROC AUC=%.3f' % (ns_auc)), ('Logistic: ROC AUC=%.3f' % (lr_auc))"
   ]
  },
  {
   "cell_type": "code",
   "execution_count": 27,
   "metadata": {},
   "outputs": [],
   "source": [
    "ns_fpr, ns_tpr, _ = roc_curve(y_test, ns_probs)\n",
    "lr_fpr, lr_tpr, _ = roc_curve(y_test, lr_probs)"
   ]
  },
  {
   "cell_type": "code",
   "execution_count": 28,
   "metadata": {},
   "outputs": [
    {
     "data": {
      "image/png": "[encoded data removed]",
      "text/plain": [
       "<Figure size 432x288 with 1 Axes>"
      ]
     },
     "metadata": {
      "needs_background": "light"
     },
     "output_type": "display_data"
    }
   ],
   "source": [
    "# plot the roc curve for the model\n",
    "plt.plot(ns_fpr, ns_tpr, linestyle='--', label='No Skill')\n",
    "plt.plot(lr_fpr, lr_tpr, marker='.', label='Logistic')\n",
    "#labels\n",
    "plt.xlabel('False Positive Rate')\n",
    "plt.ylabel('True Positive Rate')\n",
    "plt.title('Hourly Base ROC')\n",
    "plt.legend()\n",
    "plt.show()"
   ]
  },
  {
   "cell_type": "markdown",
   "metadata": {},
   "source": [
    "This preliminary model looks pretty good. It's predicting better than the baseline."
   ]
  },
  {
   "cell_type": "code",
   "execution_count": 29,
   "metadata": {},
   "outputs": [
    {
     "data": {
      "text/plain": [
       "Index(['note_id', 'alert_id', 'user_id', 'user_channels', 'message',\n",
       "       'note_created_at', 'type', 'market', 'currency', 'is_active',\n",
       "       'is_deleted', 'max_notifications', 'notifications', 'snooze',\n",
       "       'alert_created_at', 'updated_at', 'deleted_at', 'last_checked',\n",
       "       'comparison', 'value', 'operator', 'time_period', 'cur_from',\n",
       "       'cur_into', 'type_as_num'],\n",
       "      dtype='object')"
      ]
     },
     "execution_count": 29,
     "metadata": {},
     "output_type": "execute_result"
    }
   ],
   "source": [
    "df.columns"
   ]
  },
  {
   "cell_type": "code",
   "execution_count": 30,
   "metadata": {},
   "outputs": [],
   "source": [
    "df_x = df[['note_created_at', 'alert_id', 'user_id', 'user_channels', 'is_active', 'cur_from', 'cur_into', 'type_as_num', 'comparison', 'value']]"
   ]
  },
  {
   "cell_type": "code",
   "execution_count": 31,
   "metadata": {},
   "outputs": [
    {
     "data": {
      "text/plain": [
       "3582507"
      ]
     },
     "execution_count": 31,
     "metadata": {},
     "output_type": "execute_result"
    }
   ],
   "source": [
    "len(df_x.index)"
   ]
  },
  {
   "cell_type": "code",
   "execution_count": 32,
   "metadata": {},
   "outputs": [],
   "source": [
    "df_x = df_x[df_x.type_as_num == 0]"
   ]
  },
  {
   "cell_type": "code",
   "execution_count": 33,
   "metadata": {},
   "outputs": [
    {
     "data": {
      "text/plain": [
       "2276794"
      ]
     },
     "execution_count": 33,
     "metadata": {},
     "output_type": "execute_result"
    }
   ],
   "source": [
    "len(df_x.index)"
   ]
  },
  {
   "cell_type": "code",
   "execution_count": 34,
   "metadata": {},
   "outputs": [
    {
     "data": {
      "text/html": [
       "<div>\n",
       "<style scoped>\n",
       "    .dataframe tbody tr th:only-of-type {\n",
       "        vertical-align: middle;\n",
       "    }\n",
       "\n",
       "    .dataframe tbody tr th {\n",
       "        vertical-align: top;\n",
       "    }\n",
       "\n",
       "    .dataframe thead th {\n",
       "        text-align: right;\n",
       "    }\n",
       "</style>\n",
       "<table border=\"1\" class=\"dataframe\">\n",
       "  <thead>\n",
       "    <tr style=\"text-align: right;\">\n",
       "      <th></th>\n",
       "      <th>note_created_at</th>\n",
       "      <th>alert_id</th>\n",
       "      <th>user_id</th>\n",
       "      <th>user_channels</th>\n",
       "      <th>is_active</th>\n",
       "      <th>cur_from</th>\n",
       "      <th>cur_into</th>\n",
       "      <th>type_as_num</th>\n",
       "      <th>comparison</th>\n",
       "      <th>value</th>\n",
       "    </tr>\n",
       "  </thead>\n",
       "  <tbody>\n",
       "    <tr>\n",
       "      <th>88</th>\n",
       "      <td>2017-01-19 01:00:03</td>\n",
       "      <td>93</td>\n",
       "      <td>1385</td>\n",
       "      <td>103</td>\n",
       "      <td>0.0</td>\n",
       "      <td>BTC</td>\n",
       "      <td>USD</td>\n",
       "      <td>0.0</td>\n",
       "      <td>buy_price</td>\n",
       "      <td>\"30min\"</td>\n",
       "    </tr>\n",
       "    <tr>\n",
       "      <th>89</th>\n",
       "      <td>2017-01-19 01:00:03</td>\n",
       "      <td>93</td>\n",
       "      <td>1385</td>\n",
       "      <td>113</td>\n",
       "      <td>0.0</td>\n",
       "      <td>BTC</td>\n",
       "      <td>USD</td>\n",
       "      <td>0.0</td>\n",
       "      <td>buy_price</td>\n",
       "      <td>\"30min\"</td>\n",
       "    </tr>\n",
       "    <tr>\n",
       "      <th>97</th>\n",
       "      <td>2017-01-19 02:00:02</td>\n",
       "      <td>93</td>\n",
       "      <td>1385</td>\n",
       "      <td>103</td>\n",
       "      <td>0.0</td>\n",
       "      <td>BTC</td>\n",
       "      <td>USD</td>\n",
       "      <td>0.0</td>\n",
       "      <td>buy_price</td>\n",
       "      <td>\"30min\"</td>\n",
       "    </tr>\n",
       "    <tr>\n",
       "      <th>98</th>\n",
       "      <td>2017-01-19 02:00:03</td>\n",
       "      <td>93</td>\n",
       "      <td>1385</td>\n",
       "      <td>113</td>\n",
       "      <td>0.0</td>\n",
       "      <td>BTC</td>\n",
       "      <td>USD</td>\n",
       "      <td>0.0</td>\n",
       "      <td>buy_price</td>\n",
       "      <td>\"30min\"</td>\n",
       "    </tr>\n",
       "    <tr>\n",
       "      <th>103</th>\n",
       "      <td>2017-01-19 03:00:07</td>\n",
       "      <td>93</td>\n",
       "      <td>1385</td>\n",
       "      <td>103</td>\n",
       "      <td>0.0</td>\n",
       "      <td>BTC</td>\n",
       "      <td>USD</td>\n",
       "      <td>0.0</td>\n",
       "      <td>buy_price</td>\n",
       "      <td>\"30min\"</td>\n",
       "    </tr>\n",
       "  </tbody>\n",
       "</table>\n",
       "</div>"
      ],
      "text/plain": [
       "        note_created_at  alert_id  user_id  user_channels  is_active cur_from  \\\n",
       "88  2017-01-19 01:00:03        93     1385            103        0.0      BTC   \n",
       "89  2017-01-19 01:00:03        93     1385            113        0.0      BTC   \n",
       "97  2017-01-19 02:00:02        93     1385            103        0.0      BTC   \n",
       "98  2017-01-19 02:00:03        93     1385            113        0.0      BTC   \n",
       "103 2017-01-19 03:00:07        93     1385            103        0.0      BTC   \n",
       "\n",
       "    cur_into  type_as_num comparison     value  \n",
       "88       USD          0.0  buy_price   \"30min\"  \n",
       "89       USD          0.0  buy_price   \"30min\"  \n",
       "97       USD          0.0  buy_price   \"30min\"  \n",
       "98       USD          0.0  buy_price   \"30min\"  \n",
       "103      USD          0.0  buy_price   \"30min\"  "
      ]
     },
     "execution_count": 34,
     "metadata": {},
     "output_type": "execute_result"
    }
   ],
   "source": [
    "df_x.head()"
   ]
  },
  {
   "cell_type": "code",
   "execution_count": 35,
   "metadata": {},
   "outputs": [],
   "source": [
    "df_x = df_x[(df_x.cur_from == 'BTC') | (df_x.cur_into == 'BTC')]"
   ]
  },
  {
   "cell_type": "code",
   "execution_count": 36,
   "metadata": {},
   "outputs": [
    {
     "data": {
      "text/plain": [
       "1288704"
      ]
     },
     "execution_count": 36,
     "metadata": {},
     "output_type": "execute_result"
    }
   ],
   "source": [
    "len(df_x.index)"
   ]
  },
  {
   "cell_type": "code",
   "execution_count": 37,
   "metadata": {},
   "outputs": [],
   "source": [
    "df_x = df_x.dropna()"
   ]
  },
  {
   "cell_type": "code",
   "execution_count": 38,
   "metadata": {},
   "outputs": [
    {
     "data": {
      "text/plain": [
       "288289"
      ]
     },
     "execution_count": 38,
     "metadata": {},
     "output_type": "execute_result"
    }
   ],
   "source": [
    "len(df_x.index)"
   ]
  },
  {
   "cell_type": "markdown",
   "metadata": {},
   "source": [
    "Time to try to merge dataframes!"
   ]
  },
  {
   "cell_type": "code",
   "execution_count": 39,
   "metadata": {},
   "outputs": [],
   "source": [
    "df_x = df_x.rename(columns={'note_created_at':'date'})"
   ]
  },
  {
   "cell_type": "code",
   "execution_count": 40,
   "metadata": {},
   "outputs": [],
   "source": [
    "df_x.set_index('date', inplace=True)\n",
    "btc_hours.set_index('date', inplace=True)"
   ]
  },
  {
   "cell_type": "code",
   "execution_count": 41,
   "metadata": {},
   "outputs": [],
   "source": [
    "btc_days.set_index('date', inplace=True)\n",
    "btc_weeks.set_index('date', inplace=True)"
   ]
  },
  {
   "cell_type": "code",
   "execution_count": 42,
   "metadata": {},
   "outputs": [],
   "source": [
    "df_x = df_x.tz_localize(None)"
   ]
  },
  {
   "cell_type": "code",
   "execution_count": 43,
   "metadata": {},
   "outputs": [],
   "source": [
    "btc_hours = btc_hours.tz_localize(None)"
   ]
  },
  {
   "cell_type": "code",
   "execution_count": 44,
   "metadata": {},
   "outputs": [],
   "source": [
    "final = df_x.merge(btc_hours, left_index=True, right_index=True, how='outer')"
   ]
  },
  {
   "cell_type": "code",
   "execution_count": 45,
   "metadata": {},
   "outputs": [
    {
     "data": {
      "text/html": [
       "<div>\n",
       "<style scoped>\n",
       "    .dataframe tbody tr th:only-of-type {\n",
       "        vertical-align: middle;\n",
       "    }\n",
       "\n",
       "    .dataframe tbody tr th {\n",
       "        vertical-align: top;\n",
       "    }\n",
       "\n",
       "    .dataframe thead th {\n",
       "        text-align: right;\n",
       "    }\n",
       "</style>\n",
       "<table border=\"1\" class=\"dataframe\">\n",
       "  <thead>\n",
       "    <tr style=\"text-align: right;\">\n",
       "      <th></th>\n",
       "      <th>alert_id</th>\n",
       "      <th>user_id</th>\n",
       "      <th>user_channels</th>\n",
       "      <th>is_active</th>\n",
       "      <th>cur_from</th>\n",
       "      <th>cur_into</th>\n",
       "      <th>type_as_num</th>\n",
       "      <th>comparison</th>\n",
       "      <th>value</th>\n",
       "      <th>Open</th>\n",
       "      <th>High</th>\n",
       "      <th>Low</th>\n",
       "      <th>volume_btc</th>\n",
       "      <th>volume_usd</th>\n",
       "      <th>Weighted_Price</th>\n",
       "      <th>bull</th>\n",
       "    </tr>\n",
       "    <tr>\n",
       "      <th>date</th>\n",
       "      <th></th>\n",
       "      <th></th>\n",
       "      <th></th>\n",
       "      <th></th>\n",
       "      <th></th>\n",
       "      <th></th>\n",
       "      <th></th>\n",
       "      <th></th>\n",
       "      <th></th>\n",
       "      <th></th>\n",
       "      <th></th>\n",
       "      <th></th>\n",
       "      <th></th>\n",
       "      <th></th>\n",
       "      <th></th>\n",
       "      <th></th>\n",
       "    </tr>\n",
       "  </thead>\n",
       "  <tbody>\n",
       "    <tr>\n",
       "      <th>2017-01-17 07:00:00</th>\n",
       "      <td>NaN</td>\n",
       "      <td>NaN</td>\n",
       "      <td>NaN</td>\n",
       "      <td>NaN</td>\n",
       "      <td>NaN</td>\n",
       "      <td>NaN</td>\n",
       "      <td>NaN</td>\n",
       "      <td>NaN</td>\n",
       "      <td>NaN</td>\n",
       "      <td>0.016445</td>\n",
       "      <td>0.030221</td>\n",
       "      <td>0.006761</td>\n",
       "      <td>5.294403</td>\n",
       "      <td>5.411611</td>\n",
       "      <td>0.016816</td>\n",
       "      <td>1.0</td>\n",
       "    </tr>\n",
       "    <tr>\n",
       "      <th>2017-01-17 08:00:00</th>\n",
       "      <td>NaN</td>\n",
       "      <td>NaN</td>\n",
       "      <td>NaN</td>\n",
       "      <td>NaN</td>\n",
       "      <td>NaN</td>\n",
       "      <td>NaN</td>\n",
       "      <td>NaN</td>\n",
       "      <td>NaN</td>\n",
       "      <td>NaN</td>\n",
       "      <td>0.015893</td>\n",
       "      <td>0.010406</td>\n",
       "      <td>0.019566</td>\n",
       "      <td>0.033996</td>\n",
       "      <td>0.048332</td>\n",
       "      <td>0.015750</td>\n",
       "      <td>0.0</td>\n",
       "    </tr>\n",
       "    <tr>\n",
       "      <th>2017-01-17 09:00:00</th>\n",
       "      <td>NaN</td>\n",
       "      <td>NaN</td>\n",
       "      <td>NaN</td>\n",
       "      <td>NaN</td>\n",
       "      <td>NaN</td>\n",
       "      <td>NaN</td>\n",
       "      <td>NaN</td>\n",
       "      <td>NaN</td>\n",
       "      <td>NaN</td>\n",
       "      <td>-0.005681</td>\n",
       "      <td>-0.013646</td>\n",
       "      <td>-0.000799</td>\n",
       "      <td>-0.771245</td>\n",
       "      <td>-0.772519</td>\n",
       "      <td>-0.005763</td>\n",
       "      <td>1.0</td>\n",
       "    </tr>\n",
       "    <tr>\n",
       "      <th>2017-01-17 10:00:00</th>\n",
       "      <td>NaN</td>\n",
       "      <td>NaN</td>\n",
       "      <td>NaN</td>\n",
       "      <td>NaN</td>\n",
       "      <td>NaN</td>\n",
       "      <td>NaN</td>\n",
       "      <td>NaN</td>\n",
       "      <td>NaN</td>\n",
       "      <td>NaN</td>\n",
       "      <td>0.004118</td>\n",
       "      <td>0.006210</td>\n",
       "      <td>0.005404</td>\n",
       "      <td>0.235181</td>\n",
       "      <td>0.241035</td>\n",
       "      <td>0.004193</td>\n",
       "      <td>0.0</td>\n",
       "    </tr>\n",
       "    <tr>\n",
       "      <th>2017-01-17 11:00:00</th>\n",
       "      <td>NaN</td>\n",
       "      <td>NaN</td>\n",
       "      <td>NaN</td>\n",
       "      <td>NaN</td>\n",
       "      <td>NaN</td>\n",
       "      <td>NaN</td>\n",
       "      <td>NaN</td>\n",
       "      <td>NaN</td>\n",
       "      <td>NaN</td>\n",
       "      <td>-0.001672</td>\n",
       "      <td>-0.005048</td>\n",
       "      <td>-0.006773</td>\n",
       "      <td>0.381617</td>\n",
       "      <td>0.376177</td>\n",
       "      <td>-0.001902</td>\n",
       "      <td>0.0</td>\n",
       "    </tr>\n",
       "  </tbody>\n",
       "</table>\n",
       "</div>"
      ],
      "text/plain": [
       "                     alert_id  user_id  user_channels  is_active cur_from  \\\n",
       "date                                                                        \n",
       "2017-01-17 07:00:00       NaN      NaN            NaN        NaN      NaN   \n",
       "2017-01-17 08:00:00       NaN      NaN            NaN        NaN      NaN   \n",
       "2017-01-17 09:00:00       NaN      NaN            NaN        NaN      NaN   \n",
       "2017-01-17 10:00:00       NaN      NaN            NaN        NaN      NaN   \n",
       "2017-01-17 11:00:00       NaN      NaN            NaN        NaN      NaN   \n",
       "\n",
       "                    cur_into  type_as_num comparison value      Open  \\\n",
       "date                                                                   \n",
       "2017-01-17 07:00:00      NaN          NaN        NaN   NaN  0.016445   \n",
       "2017-01-17 08:00:00      NaN          NaN        NaN   NaN  0.015893   \n",
       "2017-01-17 09:00:00      NaN          NaN        NaN   NaN -0.005681   \n",
       "2017-01-17 10:00:00      NaN          NaN        NaN   NaN  0.004118   \n",
       "2017-01-17 11:00:00      NaN          NaN        NaN   NaN -0.001672   \n",
       "\n",
       "                         High       Low  volume_btc  volume_usd  \\\n",
       "date                                                              \n",
       "2017-01-17 07:00:00  0.030221  0.006761    5.294403    5.411611   \n",
       "2017-01-17 08:00:00  0.010406  0.019566    0.033996    0.048332   \n",
       "2017-01-17 09:00:00 -0.013646 -0.000799   -0.771245   -0.772519   \n",
       "2017-01-17 10:00:00  0.006210  0.005404    0.235181    0.241035   \n",
       "2017-01-17 11:00:00 -0.005048 -0.006773    0.381617    0.376177   \n",
       "\n",
       "                     Weighted_Price  bull  \n",
       "date                                       \n",
       "2017-01-17 07:00:00        0.016816   1.0  \n",
       "2017-01-17 08:00:00        0.015750   0.0  \n",
       "2017-01-17 09:00:00       -0.005763   1.0  \n",
       "2017-01-17 10:00:00        0.004193   0.0  \n",
       "2017-01-17 11:00:00       -0.001902   0.0  "
      ]
     },
     "execution_count": 45,
     "metadata": {},
     "output_type": "execute_result"
    }
   ],
   "source": [
    "final.head()"
   ]
  },
  {
   "cell_type": "code",
   "execution_count": 46,
   "metadata": {},
   "outputs": [],
   "source": [
    "cols = ['Open', 'High', 'Low', 'volume_btc', 'volume_usd', 'Weighted_Price', 'bull']\n",
    "final.loc[:,cols] = final.loc[:,cols].ffill()"
   ]
  },
  {
   "cell_type": "code",
   "execution_count": 47,
   "metadata": {},
   "outputs": [],
   "source": [
    "final = final.dropna()"
   ]
  },
  {
   "cell_type": "code",
   "execution_count": 48,
   "metadata": {},
   "outputs": [
    {
     "data": {
      "text/html": [
       "<div>\n",
       "<style scoped>\n",
       "    .dataframe tbody tr th:only-of-type {\n",
       "        vertical-align: middle;\n",
       "    }\n",
       "\n",
       "    .dataframe tbody tr th {\n",
       "        vertical-align: top;\n",
       "    }\n",
       "\n",
       "    .dataframe thead th {\n",
       "        text-align: right;\n",
       "    }\n",
       "</style>\n",
       "<table border=\"1\" class=\"dataframe\">\n",
       "  <thead>\n",
       "    <tr style=\"text-align: right;\">\n",
       "      <th></th>\n",
       "      <th>alert_id</th>\n",
       "      <th>user_id</th>\n",
       "      <th>user_channels</th>\n",
       "      <th>is_active</th>\n",
       "      <th>cur_from</th>\n",
       "      <th>cur_into</th>\n",
       "      <th>type_as_num</th>\n",
       "      <th>comparison</th>\n",
       "      <th>value</th>\n",
       "      <th>Open</th>\n",
       "      <th>High</th>\n",
       "      <th>Low</th>\n",
       "      <th>volume_btc</th>\n",
       "      <th>volume_usd</th>\n",
       "      <th>Weighted_Price</th>\n",
       "      <th>bull</th>\n",
       "    </tr>\n",
       "    <tr>\n",
       "      <th>date</th>\n",
       "      <th></th>\n",
       "      <th></th>\n",
       "      <th></th>\n",
       "      <th></th>\n",
       "      <th></th>\n",
       "      <th></th>\n",
       "      <th></th>\n",
       "      <th></th>\n",
       "      <th></th>\n",
       "      <th></th>\n",
       "      <th></th>\n",
       "      <th></th>\n",
       "      <th></th>\n",
       "      <th></th>\n",
       "      <th></th>\n",
       "      <th></th>\n",
       "    </tr>\n",
       "  </thead>\n",
       "  <tbody>\n",
       "    <tr>\n",
       "      <th>2017-01-19 01:00:03</th>\n",
       "      <td>93.0</td>\n",
       "      <td>1385.0</td>\n",
       "      <td>103.0</td>\n",
       "      <td>0.0</td>\n",
       "      <td>BTC</td>\n",
       "      <td>USD</td>\n",
       "      <td>0.0</td>\n",
       "      <td>buy_price</td>\n",
       "      <td>\"30min\"</td>\n",
       "      <td>-0.000886</td>\n",
       "      <td>-0.004565</td>\n",
       "      <td>-0.003271</td>\n",
       "      <td>-0.630507</td>\n",
       "      <td>-0.631206</td>\n",
       "      <td>-0.000914</td>\n",
       "      <td>0.0</td>\n",
       "    </tr>\n",
       "    <tr>\n",
       "      <th>2017-01-19 01:00:03</th>\n",
       "      <td>93.0</td>\n",
       "      <td>1385.0</td>\n",
       "      <td>113.0</td>\n",
       "      <td>0.0</td>\n",
       "      <td>BTC</td>\n",
       "      <td>USD</td>\n",
       "      <td>0.0</td>\n",
       "      <td>buy_price</td>\n",
       "      <td>\"30min\"</td>\n",
       "      <td>-0.000886</td>\n",
       "      <td>-0.004565</td>\n",
       "      <td>-0.003271</td>\n",
       "      <td>-0.630507</td>\n",
       "      <td>-0.631206</td>\n",
       "      <td>-0.000914</td>\n",
       "      <td>0.0</td>\n",
       "    </tr>\n",
       "    <tr>\n",
       "      <th>2017-01-19 02:00:02</th>\n",
       "      <td>93.0</td>\n",
       "      <td>1385.0</td>\n",
       "      <td>103.0</td>\n",
       "      <td>0.0</td>\n",
       "      <td>BTC</td>\n",
       "      <td>USD</td>\n",
       "      <td>0.0</td>\n",
       "      <td>buy_price</td>\n",
       "      <td>\"30min\"</td>\n",
       "      <td>-0.007214</td>\n",
       "      <td>-0.005595</td>\n",
       "      <td>-0.005533</td>\n",
       "      <td>-0.445836</td>\n",
       "      <td>-0.449387</td>\n",
       "      <td>-0.007117</td>\n",
       "      <td>1.0</td>\n",
       "    </tr>\n",
       "    <tr>\n",
       "      <th>2017-01-19 02:00:03</th>\n",
       "      <td>93.0</td>\n",
       "      <td>1385.0</td>\n",
       "      <td>113.0</td>\n",
       "      <td>0.0</td>\n",
       "      <td>BTC</td>\n",
       "      <td>USD</td>\n",
       "      <td>0.0</td>\n",
       "      <td>buy_price</td>\n",
       "      <td>\"30min\"</td>\n",
       "      <td>-0.007214</td>\n",
       "      <td>-0.005595</td>\n",
       "      <td>-0.005533</td>\n",
       "      <td>-0.445836</td>\n",
       "      <td>-0.449387</td>\n",
       "      <td>-0.007117</td>\n",
       "      <td>1.0</td>\n",
       "    </tr>\n",
       "    <tr>\n",
       "      <th>2017-01-19 03:00:07</th>\n",
       "      <td>93.0</td>\n",
       "      <td>1385.0</td>\n",
       "      <td>103.0</td>\n",
       "      <td>0.0</td>\n",
       "      <td>BTC</td>\n",
       "      <td>USD</td>\n",
       "      <td>0.0</td>\n",
       "      <td>buy_price</td>\n",
       "      <td>\"30min\"</td>\n",
       "      <td>0.003640</td>\n",
       "      <td>0.002785</td>\n",
       "      <td>0.005552</td>\n",
       "      <td>-0.048507</td>\n",
       "      <td>-0.044435</td>\n",
       "      <td>0.003639</td>\n",
       "      <td>0.0</td>\n",
       "    </tr>\n",
       "  </tbody>\n",
       "</table>\n",
       "</div>"
      ],
      "text/plain": [
       "                     alert_id  user_id  user_channels  is_active cur_from  \\\n",
       "date                                                                        \n",
       "2017-01-19 01:00:03      93.0   1385.0          103.0        0.0      BTC   \n",
       "2017-01-19 01:00:03      93.0   1385.0          113.0        0.0      BTC   \n",
       "2017-01-19 02:00:02      93.0   1385.0          103.0        0.0      BTC   \n",
       "2017-01-19 02:00:03      93.0   1385.0          113.0        0.0      BTC   \n",
       "2017-01-19 03:00:07      93.0   1385.0          103.0        0.0      BTC   \n",
       "\n",
       "                    cur_into  type_as_num comparison     value      Open  \\\n",
       "date                                                                       \n",
       "2017-01-19 01:00:03      USD          0.0  buy_price   \"30min\" -0.000886   \n",
       "2017-01-19 01:00:03      USD          0.0  buy_price   \"30min\" -0.000886   \n",
       "2017-01-19 02:00:02      USD          0.0  buy_price   \"30min\" -0.007214   \n",
       "2017-01-19 02:00:03      USD          0.0  buy_price   \"30min\" -0.007214   \n",
       "2017-01-19 03:00:07      USD          0.0  buy_price   \"30min\"  0.003640   \n",
       "\n",
       "                         High       Low  volume_btc  volume_usd  \\\n",
       "date                                                              \n",
       "2017-01-19 01:00:03 -0.004565 -0.003271   -0.630507   -0.631206   \n",
       "2017-01-19 01:00:03 -0.004565 -0.003271   -0.630507   -0.631206   \n",
       "2017-01-19 02:00:02 -0.005595 -0.005533   -0.445836   -0.449387   \n",
       "2017-01-19 02:00:03 -0.005595 -0.005533   -0.445836   -0.449387   \n",
       "2017-01-19 03:00:07  0.002785  0.005552   -0.048507   -0.044435   \n",
       "\n",
       "                     Weighted_Price  bull  \n",
       "date                                       \n",
       "2017-01-19 01:00:03       -0.000914   0.0  \n",
       "2017-01-19 01:00:03       -0.000914   0.0  \n",
       "2017-01-19 02:00:02       -0.007117   1.0  \n",
       "2017-01-19 02:00:03       -0.007117   1.0  \n",
       "2017-01-19 03:00:07        0.003639   0.0  "
      ]
     },
     "execution_count": 48,
     "metadata": {},
     "output_type": "execute_result"
    }
   ],
   "source": [
    "final.head()"
   ]
  },
  {
   "cell_type": "code",
   "execution_count": 49,
   "metadata": {},
   "outputs": [
    {
     "data": {
      "text/plain": [
       "array(['buy_price', 'sell_price', 'low_price', 'high_price', 'volume'],\n",
       "      dtype=object)"
      ]
     },
     "execution_count": 49,
     "metadata": {},
     "output_type": "execute_result"
    }
   ],
   "source": [
    "final.comparison.unique()"
   ]
  },
  {
   "cell_type": "code",
   "execution_count": 50,
   "metadata": {},
   "outputs": [],
   "source": [
    "final['value'] = final.value.replace({' \"30min\"':0, ' \"1h\"':1, ' \"1day\"':6, ' \"2h\"':2, ' \"6h\"':4, ' \"12h\"':5,\n",
    "       ' \"3h\"':3, ' \"3day\"':7, ' \"1week\"':8}, regex=True)"
   ]
  },
  {
   "cell_type": "code",
   "execution_count": 51,
   "metadata": {},
   "outputs": [],
   "source": [
    "final['comparison'] = final.comparison.replace({'buy_price':0, 'sell_price':1, 'low_price':2, 'high_price':3, 'volume':4}, regex=True)"
   ]
  },
  {
   "cell_type": "code",
   "execution_count": 52,
   "metadata": {},
   "outputs": [
    {
     "data": {
      "text/html": [
       "<div>\n",
       "<style scoped>\n",
       "    .dataframe tbody tr th:only-of-type {\n",
       "        vertical-align: middle;\n",
       "    }\n",
       "\n",
       "    .dataframe tbody tr th {\n",
       "        vertical-align: top;\n",
       "    }\n",
       "\n",
       "    .dataframe thead th {\n",
       "        text-align: right;\n",
       "    }\n",
       "</style>\n",
       "<table border=\"1\" class=\"dataframe\">\n",
       "  <thead>\n",
       "    <tr style=\"text-align: right;\">\n",
       "      <th></th>\n",
       "      <th>alert_id</th>\n",
       "      <th>user_id</th>\n",
       "      <th>user_channels</th>\n",
       "      <th>is_active</th>\n",
       "      <th>cur_from</th>\n",
       "      <th>cur_into</th>\n",
       "      <th>type_as_num</th>\n",
       "      <th>comparison</th>\n",
       "      <th>value</th>\n",
       "      <th>Open</th>\n",
       "      <th>High</th>\n",
       "      <th>Low</th>\n",
       "      <th>volume_btc</th>\n",
       "      <th>volume_usd</th>\n",
       "      <th>Weighted_Price</th>\n",
       "      <th>bull</th>\n",
       "    </tr>\n",
       "    <tr>\n",
       "      <th>date</th>\n",
       "      <th></th>\n",
       "      <th></th>\n",
       "      <th></th>\n",
       "      <th></th>\n",
       "      <th></th>\n",
       "      <th></th>\n",
       "      <th></th>\n",
       "      <th></th>\n",
       "      <th></th>\n",
       "      <th></th>\n",
       "      <th></th>\n",
       "      <th></th>\n",
       "      <th></th>\n",
       "      <th></th>\n",
       "      <th></th>\n",
       "      <th></th>\n",
       "    </tr>\n",
       "  </thead>\n",
       "  <tbody>\n",
       "    <tr>\n",
       "      <th>2017-01-19 01:00:03</th>\n",
       "      <td>93.0</td>\n",
       "      <td>1385.0</td>\n",
       "      <td>103.0</td>\n",
       "      <td>0.0</td>\n",
       "      <td>BTC</td>\n",
       "      <td>USD</td>\n",
       "      <td>0.0</td>\n",
       "      <td>0</td>\n",
       "      <td>0</td>\n",
       "      <td>-0.000886</td>\n",
       "      <td>-0.004565</td>\n",
       "      <td>-0.003271</td>\n",
       "      <td>-0.630507</td>\n",
       "      <td>-0.631206</td>\n",
       "      <td>-0.000914</td>\n",
       "      <td>0.0</td>\n",
       "    </tr>\n",
       "    <tr>\n",
       "      <th>2017-01-19 01:00:03</th>\n",
       "      <td>93.0</td>\n",
       "      <td>1385.0</td>\n",
       "      <td>113.0</td>\n",
       "      <td>0.0</td>\n",
       "      <td>BTC</td>\n",
       "      <td>USD</td>\n",
       "      <td>0.0</td>\n",
       "      <td>0</td>\n",
       "      <td>0</td>\n",
       "      <td>-0.000886</td>\n",
       "      <td>-0.004565</td>\n",
       "      <td>-0.003271</td>\n",
       "      <td>-0.630507</td>\n",
       "      <td>-0.631206</td>\n",
       "      <td>-0.000914</td>\n",
       "      <td>0.0</td>\n",
       "    </tr>\n",
       "    <tr>\n",
       "      <th>2017-01-19 02:00:02</th>\n",
       "      <td>93.0</td>\n",
       "      <td>1385.0</td>\n",
       "      <td>103.0</td>\n",
       "      <td>0.0</td>\n",
       "      <td>BTC</td>\n",
       "      <td>USD</td>\n",
       "      <td>0.0</td>\n",
       "      <td>0</td>\n",
       "      <td>0</td>\n",
       "      <td>-0.007214</td>\n",
       "      <td>-0.005595</td>\n",
       "      <td>-0.005533</td>\n",
       "      <td>-0.445836</td>\n",
       "      <td>-0.449387</td>\n",
       "      <td>-0.007117</td>\n",
       "      <td>1.0</td>\n",
       "    </tr>\n",
       "    <tr>\n",
       "      <th>2017-01-19 02:00:03</th>\n",
       "      <td>93.0</td>\n",
       "      <td>1385.0</td>\n",
       "      <td>113.0</td>\n",
       "      <td>0.0</td>\n",
       "      <td>BTC</td>\n",
       "      <td>USD</td>\n",
       "      <td>0.0</td>\n",
       "      <td>0</td>\n",
       "      <td>0</td>\n",
       "      <td>-0.007214</td>\n",
       "      <td>-0.005595</td>\n",
       "      <td>-0.005533</td>\n",
       "      <td>-0.445836</td>\n",
       "      <td>-0.449387</td>\n",
       "      <td>-0.007117</td>\n",
       "      <td>1.0</td>\n",
       "    </tr>\n",
       "    <tr>\n",
       "      <th>2017-01-19 03:00:07</th>\n",
       "      <td>93.0</td>\n",
       "      <td>1385.0</td>\n",
       "      <td>103.0</td>\n",
       "      <td>0.0</td>\n",
       "      <td>BTC</td>\n",
       "      <td>USD</td>\n",
       "      <td>0.0</td>\n",
       "      <td>0</td>\n",
       "      <td>0</td>\n",
       "      <td>0.003640</td>\n",
       "      <td>0.002785</td>\n",
       "      <td>0.005552</td>\n",
       "      <td>-0.048507</td>\n",
       "      <td>-0.044435</td>\n",
       "      <td>0.003639</td>\n",
       "      <td>0.0</td>\n",
       "    </tr>\n",
       "  </tbody>\n",
       "</table>\n",
       "</div>"
      ],
      "text/plain": [
       "                     alert_id  user_id  user_channels  is_active cur_from  \\\n",
       "date                                                                        \n",
       "2017-01-19 01:00:03      93.0   1385.0          103.0        0.0      BTC   \n",
       "2017-01-19 01:00:03      93.0   1385.0          113.0        0.0      BTC   \n",
       "2017-01-19 02:00:02      93.0   1385.0          103.0        0.0      BTC   \n",
       "2017-01-19 02:00:03      93.0   1385.0          113.0        0.0      BTC   \n",
       "2017-01-19 03:00:07      93.0   1385.0          103.0        0.0      BTC   \n",
       "\n",
       "                    cur_into  type_as_num  comparison  value      Open  \\\n",
       "date                                                                     \n",
       "2017-01-19 01:00:03      USD          0.0           0      0 -0.000886   \n",
       "2017-01-19 01:00:03      USD          0.0           0      0 -0.000886   \n",
       "2017-01-19 02:00:02      USD          0.0           0      0 -0.007214   \n",
       "2017-01-19 02:00:03      USD          0.0           0      0 -0.007214   \n",
       "2017-01-19 03:00:07      USD          0.0           0      0  0.003640   \n",
       "\n",
       "                         High       Low  volume_btc  volume_usd  \\\n",
       "date                                                              \n",
       "2017-01-19 01:00:03 -0.004565 -0.003271   -0.630507   -0.631206   \n",
       "2017-01-19 01:00:03 -0.004565 -0.003271   -0.630507   -0.631206   \n",
       "2017-01-19 02:00:02 -0.005595 -0.005533   -0.445836   -0.449387   \n",
       "2017-01-19 02:00:03 -0.005595 -0.005533   -0.445836   -0.449387   \n",
       "2017-01-19 03:00:07  0.002785  0.005552   -0.048507   -0.044435   \n",
       "\n",
       "                     Weighted_Price  bull  \n",
       "date                                       \n",
       "2017-01-19 01:00:03       -0.000914   0.0  \n",
       "2017-01-19 01:00:03       -0.000914   0.0  \n",
       "2017-01-19 02:00:02       -0.007117   1.0  \n",
       "2017-01-19 02:00:03       -0.007117   1.0  \n",
       "2017-01-19 03:00:07        0.003639   0.0  "
      ]
     },
     "execution_count": 52,
     "metadata": {},
     "output_type": "execute_result"
    }
   ],
   "source": [
    "final.head()"
   ]
  },
  {
   "cell_type": "code",
   "execution_count": 53,
   "metadata": {},
   "outputs": [
    {
     "data": {
      "text/plain": [
       "Index(['alert_id', 'user_id', 'user_channels', 'is_active', 'cur_from',\n",
       "       'cur_into', 'type_as_num', 'comparison', 'value', 'Open', 'High', 'Low',\n",
       "       'volume_btc', 'volume_usd', 'Weighted_Price', 'bull'],\n",
       "      dtype='object')"
      ]
     },
     "execution_count": 53,
     "metadata": {},
     "output_type": "execute_result"
    }
   ],
   "source": [
    "final.columns"
   ]
  },
  {
   "cell_type": "code",
   "execution_count": 54,
   "metadata": {},
   "outputs": [],
   "source": [
    "X = final[['user_id', 'user_channels', 'is_active', 'type_as_num', 'comparison', 'value', 'Open', 'High', 'Low',\n",
    "       'volume_btc', 'volume_usd', 'Weighted_Price']]\n",
    "y = final['bull']"
   ]
  },
  {
   "cell_type": "code",
   "execution_count": 55,
   "metadata": {},
   "outputs": [],
   "source": [
    "#We'll train test split this with a test size of 20%\n",
    "X_train, X_test, y_train, y_test = train_test_split(X, y, test_size=.2, random_state=200)"
   ]
  },
  {
   "cell_type": "code",
   "execution_count": 56,
   "metadata": {},
   "outputs": [],
   "source": [
    "model = LogisticRegression()\n",
    "model.fit(X_train, y_train)\n",
    "y_pred = model.predict(X_test)"
   ]
  },
  {
   "cell_type": "code",
   "execution_count": 57,
   "metadata": {},
   "outputs": [
    {
     "name": "stdout",
     "output_type": "stream",
     "text": [
      "Specificity: 0.2188679245283019 0.0\n",
      "Accuracy: 0.5585106382978723 0.5215928405425093\n",
      "Sensitivity: 0.8595317725752508 1.0\n"
     ]
    }
   ],
   "source": [
    "model_score = model.score(X_test, y_test)\n",
    "tn, fp, fn, tp = confusion_matrix(y_test, y_pred).ravel()\n",
    "specificity_c_h = tn / (tn+fp)\n",
    "sensitivity_c_h = tp / (tp+fn)\n",
    "print('Specificity:', specificity_b_h, specificity_c_h), print('Accuracy:', base_score, model_score),\n",
    "print('Sensitivity:', sensitivity_b_h, sensitivity_c_h)"
   ]
  },
  {
   "cell_type": "markdown",
   "metadata": {},
   "source": [
    "Alright so this model does not work well at all and is actually confounding the base model. Let's graph the Receiver Operating Characteristic (ROC) curve."
   ]
  },
  {
   "cell_type": "code",
   "execution_count": 58,
   "metadata": {},
   "outputs": [
    {
     "data": {
      "text/plain": [
       "('No Skill: ROC AUC=0.500', 'Logistic: ROC AUC=0.489')"
      ]
     },
     "execution_count": 58,
     "metadata": {},
     "output_type": "execute_result"
    }
   ],
   "source": [
    "#Get no skill prediction\n",
    "ns_probs = [0 for _ in range(len(y_test))]\n",
    "\n",
    "# We predict probabilities and keep probabilities for the positive outcome only\n",
    "lr_probs = model.predict_proba(X_test)\n",
    "lr_probs = lr_probs[:, 1]\n",
    "\n",
    "#Now we calculate scores\n",
    "ns_auc = roc_auc_score(y_test, ns_probs)\n",
    "lr_auc = roc_auc_score(y_test, lr_probs)\n",
    "\n",
    "#Summarize scores\n",
    "('No Skill: ROC AUC=%.3f' % (ns_auc)), ('Logistic: ROC AUC=%.3f' % (lr_auc))"
   ]
  },
  {
   "cell_type": "code",
   "execution_count": 59,
   "metadata": {},
   "outputs": [],
   "source": [
    "ns_fpr, ns_tpr, _ = roc_curve(y_test, ns_probs)\n",
    "lr_fpr, lr_tpr, _ = roc_curve(y_test, lr_probs)"
   ]
  },
  {
   "cell_type": "code",
   "execution_count": 60,
   "metadata": {},
   "outputs": [
    {
     "data": {
      "image/png": "[encoded data removed]",
      "text/plain": [
       "<Figure size 432x288 with 1 Axes>"
      ]
     },
     "metadata": {
      "needs_background": "light"
     },
     "output_type": "display_data"
    }
   ],
   "source": [
    "# plot the roc curve for the model\n",
    "plt.plot(ns_fpr, ns_tpr, linestyle='--', label='No Skill')\n",
    "plt.plot(lr_fpr, lr_tpr, marker='.', label='Logistic')\n",
    "#labels\n",
    "plt.xlabel('False Positive Rate')\n",
    "plt.ylabel('True Positive Rate')\n",
    "plt.title('Hourly Complex ROC')\n",
    "plt.legend()\n",
    "plt.show()"
   ]
  },
  {
   "cell_type": "markdown",
   "metadata": {},
   "source": [
    "This is actually worse than our baseline. Let's try a far more simple addition, using just the number of notes made during the time frames. We'll do this for hours, days, and possibly weeks which means most of our steps will be done in triplicate."
   ]
  },
  {
   "cell_type": "code",
   "execution_count": 61,
   "metadata": {},
   "outputs": [],
   "source": [
    "notes_count_per_H = pd.read_csv(r'C:\\Users\\agrae\\Documents\\AAA_Work\\Coding\\Springboard\\HW\\000_Capstone_3\\Data\\Modeling\\notes_count_per_H.csv')\n",
    "notes_count_per_D = pd.read_csv(r'C:\\Users\\agrae\\Documents\\AAA_Work\\Coding\\Springboard\\HW\\000_Capstone_3\\Data\\Modeling\\notes_count_per_D.csv')\n",
    "notes_count_per_W = pd.read_csv(r'C:\\Users\\agrae\\Documents\\AAA_Work\\Coding\\Springboard\\HW\\000_Capstone_3\\Data\\Modeling\\notes_count_per_W.csv')"
   ]
  },
  {
   "cell_type": "code",
   "execution_count": 62,
   "metadata": {},
   "outputs": [],
   "source": [
    "notes_count_per_H['created_at'] = pd.to_datetime(notes_count_per_H.created_at)\n",
    "notes_count_per_D['created_at'] = pd.to_datetime(notes_count_per_D.created_at)\n",
    "notes_count_per_W['created_at'] = pd.to_datetime(notes_count_per_W.created_at)"
   ]
  },
  {
   "cell_type": "code",
   "execution_count": 63,
   "metadata": {},
   "outputs": [],
   "source": [
    "notes_count_per_H.set_index('created_at', inplace=True)\n",
    "notes_count_per_D.set_index('created_at', inplace=True)\n",
    "notes_count_per_W.set_index('created_at', inplace=True)"
   ]
  },
  {
   "cell_type": "code",
   "execution_count": 64,
   "metadata": {},
   "outputs": [],
   "source": [
    "notes_count_per_H['message_zscore'] = (notes_count_per_H.message - notes_count_per_H.message.mean())/notes_count_per_H.message.std(ddof=0)\n",
    "notes_count_per_D['message_zscore'] = (notes_count_per_D.message - notes_count_per_D.message.mean())/notes_count_per_D.message.std(ddof=0)\n",
    "notes_count_per_W['message_zscore'] = (notes_count_per_W.message - notes_count_per_W.message.mean())/notes_count_per_W.message.std(ddof=0)"
   ]
  },
  {
   "cell_type": "code",
   "execution_count": 65,
   "metadata": {},
   "outputs": [
    {
     "data": {
      "text/html": [
       "<div>\n",
       "<style scoped>\n",
       "    .dataframe tbody tr th:only-of-type {\n",
       "        vertical-align: middle;\n",
       "    }\n",
       "\n",
       "    .dataframe tbody tr th {\n",
       "        vertical-align: top;\n",
       "    }\n",
       "\n",
       "    .dataframe thead th {\n",
       "        text-align: right;\n",
       "    }\n",
       "</style>\n",
       "<table border=\"1\" class=\"dataframe\">\n",
       "  <thead>\n",
       "    <tr style=\"text-align: right;\">\n",
       "      <th></th>\n",
       "      <th>message</th>\n",
       "      <th>message_zscore</th>\n",
       "    </tr>\n",
       "    <tr>\n",
       "      <th>created_at</th>\n",
       "      <th></th>\n",
       "      <th></th>\n",
       "    </tr>\n",
       "  </thead>\n",
       "  <tbody>\n",
       "    <tr>\n",
       "      <th>2017-01-17 07:00:00</th>\n",
       "      <td>3</td>\n",
       "      <td>-0.609815</td>\n",
       "    </tr>\n",
       "    <tr>\n",
       "      <th>2017-01-17 08:00:00</th>\n",
       "      <td>4</td>\n",
       "      <td>-0.604399</td>\n",
       "    </tr>\n",
       "    <tr>\n",
       "      <th>2017-01-17 09:00:00</th>\n",
       "      <td>1</td>\n",
       "      <td>-0.620648</td>\n",
       "    </tr>\n",
       "    <tr>\n",
       "      <th>2017-01-17 10:00:00</th>\n",
       "      <td>1</td>\n",
       "      <td>-0.620648</td>\n",
       "    </tr>\n",
       "    <tr>\n",
       "      <th>2017-01-17 11:00:00</th>\n",
       "      <td>1</td>\n",
       "      <td>-0.620648</td>\n",
       "    </tr>\n",
       "  </tbody>\n",
       "</table>\n",
       "</div>"
      ],
      "text/plain": [
       "                     message  message_zscore\n",
       "created_at                                  \n",
       "2017-01-17 07:00:00        3       -0.609815\n",
       "2017-01-17 08:00:00        4       -0.604399\n",
       "2017-01-17 09:00:00        1       -0.620648\n",
       "2017-01-17 10:00:00        1       -0.620648\n",
       "2017-01-17 11:00:00        1       -0.620648"
      ]
     },
     "execution_count": 65,
     "metadata": {},
     "output_type": "execute_result"
    }
   ],
   "source": [
    "notes_count_per_H.head()"
   ]
  },
  {
   "cell_type": "code",
   "execution_count": 125,
   "metadata": {},
   "outputs": [
    {
     "data": {
      "text/plain": [
       "<AxesSubplot:xlabel='created_at'>"
      ]
     },
     "execution_count": 125,
     "metadata": {},
     "output_type": "execute_result"
    },
    {
     "data": {
      "image/png": "[encoded data removed]",
      "text/plain": [
       "<Figure size 432x288 with 1 Axes>"
      ]
     },
     "metadata": {
      "needs_background": "light"
     },
     "output_type": "display_data"
    }
   ],
   "source": [
    "notes_count_per_H.message_zscore.plot()"
   ]
  },
  {
   "cell_type": "code",
   "execution_count": 66,
   "metadata": {},
   "outputs": [],
   "source": [
    "notes_count_per_H = notes_count_per_H.tz_localize(None)\n",
    "notes_count_per_D = notes_count_per_D.tz_localize(None)\n",
    "notes_count_per_W = notes_count_per_W.tz_localize(None)\n",
    "btc_days = btc_days.tz_localize(None)\n",
    "btc_weeks = btc_weeks.tz_localize(None)"
   ]
  },
  {
   "cell_type": "code",
   "execution_count": 67,
   "metadata": {},
   "outputs": [],
   "source": [
    "df_simple_H = notes_count_per_H.merge(btc_hours, left_index=True, right_index=True, how='inner')\n",
    "df_simple_D = notes_count_per_D.merge(btc_days, left_index=True, right_index=True, how='inner')\n",
    "df_simple_W = notes_count_per_W.merge(btc_weeks, left_index=True, right_index=True, how='inner')"
   ]
  },
  {
   "cell_type": "code",
   "execution_count": 68,
   "metadata": {},
   "outputs": [
    {
     "data": {
      "text/html": [
       "<div>\n",
       "<style scoped>\n",
       "    .dataframe tbody tr th:only-of-type {\n",
       "        vertical-align: middle;\n",
       "    }\n",
       "\n",
       "    .dataframe tbody tr th {\n",
       "        vertical-align: top;\n",
       "    }\n",
       "\n",
       "    .dataframe thead th {\n",
       "        text-align: right;\n",
       "    }\n",
       "</style>\n",
       "<table border=\"1\" class=\"dataframe\">\n",
       "  <thead>\n",
       "    <tr style=\"text-align: right;\">\n",
       "      <th></th>\n",
       "      <th>message</th>\n",
       "      <th>message_zscore</th>\n",
       "      <th>Open</th>\n",
       "      <th>High</th>\n",
       "      <th>Low</th>\n",
       "      <th>volume_btc</th>\n",
       "      <th>volume_usd</th>\n",
       "      <th>Weighted_Price</th>\n",
       "      <th>bull</th>\n",
       "    </tr>\n",
       "  </thead>\n",
       "  <tbody>\n",
       "    <tr>\n",
       "      <th>2017-01-17 07:00:00</th>\n",
       "      <td>3</td>\n",
       "      <td>-0.609815</td>\n",
       "      <td>0.016445</td>\n",
       "      <td>0.030221</td>\n",
       "      <td>0.006761</td>\n",
       "      <td>5.294403</td>\n",
       "      <td>5.411611</td>\n",
       "      <td>0.016816</td>\n",
       "      <td>1.0</td>\n",
       "    </tr>\n",
       "    <tr>\n",
       "      <th>2017-01-17 08:00:00</th>\n",
       "      <td>4</td>\n",
       "      <td>-0.604399</td>\n",
       "      <td>0.015893</td>\n",
       "      <td>0.010406</td>\n",
       "      <td>0.019566</td>\n",
       "      <td>0.033996</td>\n",
       "      <td>0.048332</td>\n",
       "      <td>0.015750</td>\n",
       "      <td>0.0</td>\n",
       "    </tr>\n",
       "    <tr>\n",
       "      <th>2017-01-17 09:00:00</th>\n",
       "      <td>1</td>\n",
       "      <td>-0.620648</td>\n",
       "      <td>-0.005681</td>\n",
       "      <td>-0.013646</td>\n",
       "      <td>-0.000799</td>\n",
       "      <td>-0.771245</td>\n",
       "      <td>-0.772519</td>\n",
       "      <td>-0.005763</td>\n",
       "      <td>1.0</td>\n",
       "    </tr>\n",
       "    <tr>\n",
       "      <th>2017-01-17 10:00:00</th>\n",
       "      <td>1</td>\n",
       "      <td>-0.620648</td>\n",
       "      <td>0.004118</td>\n",
       "      <td>0.006210</td>\n",
       "      <td>0.005404</td>\n",
       "      <td>0.235181</td>\n",
       "      <td>0.241035</td>\n",
       "      <td>0.004193</td>\n",
       "      <td>0.0</td>\n",
       "    </tr>\n",
       "    <tr>\n",
       "      <th>2017-01-17 11:00:00</th>\n",
       "      <td>1</td>\n",
       "      <td>-0.620648</td>\n",
       "      <td>-0.001672</td>\n",
       "      <td>-0.005048</td>\n",
       "      <td>-0.006773</td>\n",
       "      <td>0.381617</td>\n",
       "      <td>0.376177</td>\n",
       "      <td>-0.001902</td>\n",
       "      <td>0.0</td>\n",
       "    </tr>\n",
       "  </tbody>\n",
       "</table>\n",
       "</div>"
      ],
      "text/plain": [
       "                     message  message_zscore      Open      High       Low  \\\n",
       "2017-01-17 07:00:00        3       -0.609815  0.016445  0.030221  0.006761   \n",
       "2017-01-17 08:00:00        4       -0.604399  0.015893  0.010406  0.019566   \n",
       "2017-01-17 09:00:00        1       -0.620648 -0.005681 -0.013646 -0.000799   \n",
       "2017-01-17 10:00:00        1       -0.620648  0.004118  0.006210  0.005404   \n",
       "2017-01-17 11:00:00        1       -0.620648 -0.001672 -0.005048 -0.006773   \n",
       "\n",
       "                     volume_btc  volume_usd  Weighted_Price  bull  \n",
       "2017-01-17 07:00:00    5.294403    5.411611        0.016816   1.0  \n",
       "2017-01-17 08:00:00    0.033996    0.048332        0.015750   0.0  \n",
       "2017-01-17 09:00:00   -0.771245   -0.772519       -0.005763   1.0  \n",
       "2017-01-17 10:00:00    0.235181    0.241035        0.004193   0.0  \n",
       "2017-01-17 11:00:00    0.381617    0.376177       -0.001902   0.0  "
      ]
     },
     "execution_count": 68,
     "metadata": {},
     "output_type": "execute_result"
    }
   ],
   "source": [
    "df_simple_H.head()"
   ]
  },
  {
   "cell_type": "code",
   "execution_count": 69,
   "metadata": {},
   "outputs": [
    {
     "data": {
      "text/plain": [
       "Index(['message', 'message_zscore', 'Open', 'High', 'Low', 'volume_btc',\n",
       "       'volume_usd', 'Weighted_Price', 'bull'],\n",
       "      dtype='object')"
      ]
     },
     "execution_count": 69,
     "metadata": {},
     "output_type": "execute_result"
    }
   ],
   "source": [
    "df_simple_H.columns"
   ]
  },
  {
   "cell_type": "code",
   "execution_count": 70,
   "metadata": {},
   "outputs": [],
   "source": [
    "X_S_H = df_simple_H[['message_zscore', 'Open', 'High', 'Low', 'volume_btc', 'volume_usd',\n",
    "       'Weighted_Price']]\n",
    "y_S_H = df_simple_H['bull']"
   ]
  },
  {
   "cell_type": "code",
   "execution_count": 71,
   "metadata": {},
   "outputs": [],
   "source": [
    "X_train, X_test, y_train, y_test = train_test_split(X_S_H, y_S_H, test_size=.2, random_state=200)"
   ]
  },
  {
   "cell_type": "code",
   "execution_count": 72,
   "metadata": {},
   "outputs": [],
   "source": [
    "model = LogisticRegression()\n",
    "model.fit(X_train, y_train)\n",
    "y_pred = model.predict(X_test)"
   ]
  },
  {
   "cell_type": "code",
   "execution_count": 73,
   "metadata": {
    "scrolled": true
   },
   "outputs": [
    {
     "name": "stdout",
     "output_type": "stream",
     "text": [
      "Specificity: 0.2188679245283019 0.19838601210490922\n",
      "Accuracy: 0.5585106382978723 0.5555734795934828\n",
      "Sensitivity: 0.8595317725752508 0.8849612403100775\n"
     ]
    }
   ],
   "source": [
    "simple_score_h = model.score(X_test, y_test)\n",
    "tn, fp, fn, tp = confusion_matrix(y_test, y_pred).ravel()\n",
    "specificity_s_h = tn / (tn+fp)\n",
    "sensitivity_s_h = tp / (tp+fn)\n",
    "print('Specificity:', specificity_b_h, specificity_s_h), print('Accuracy:', base_score, simple_score_h),\n",
    "print('Sensitivity:', sensitivity_b_h, sensitivity_s_h)"
   ]
  },
  {
   "cell_type": "code",
   "execution_count": 122,
   "metadata": {},
   "outputs": [
    {
     "data": {
      "text/plain": [
       "<AxesSubplot:>"
      ]
     },
     "execution_count": 122,
     "metadata": {},
     "output_type": "execute_result"
    },
    {
     "data": {
      "image/png": "[encoded data removed]",
      "text/plain": [
       "<Figure size 432x288 with 2 Axes>"
      ]
     },
     "metadata": {
      "needs_background": "light"
     },
     "output_type": "display_data"
    }
   ],
   "source": [
    "sns.heatmap(df_simple_H.corr())"
   ]
  },
  {
   "cell_type": "code",
   "execution_count": 74,
   "metadata": {},
   "outputs": [],
   "source": [
    "y_pred_all = model.predict(X_test)\n",
    "btc_hours_pred = X_test.copy()\n",
    "btc_hours_pred['pred'] = y_pred_all"
   ]
  },
  {
   "cell_type": "code",
   "execution_count": 75,
   "metadata": {},
   "outputs": [],
   "source": [
    "new_index = []\n",
    "for x in btc_hours_pred.index.to_list():\n",
    "    new_index.append(x+timedelta(hours=1))\n",
    "    \n",
    "new_index = new_index[:-1]\n",
    "\n",
    "next_open = btc_hours.loc[new_index,:]\n",
    "\n",
    "btc_hours_pred['next_open'] = next_open.Open.shift(-1)\n",
    "\n",
    "btc_hours_pred = btc_hours_pred.dropna()"
   ]
  },
  {
   "cell_type": "code",
   "execution_count": 76,
   "metadata": {},
   "outputs": [
    {
     "data": {
      "text/plain": [
       "208.14442055858115"
      ]
     },
     "execution_count": 76,
     "metadata": {},
     "output_type": "execute_result"
    }
   ],
   "source": [
    "inv = 100\n",
    "for x in btc_hours_pred.next_open:\n",
    "    inv = inv + inv*x\n",
    "inv"
   ]
  },
  {
   "cell_type": "code",
   "execution_count": 77,
   "metadata": {},
   "outputs": [],
   "source": [
    "btc_hours_pred = btc_hours_pred[btc_hours_pred.pred == 1]"
   ]
  },
  {
   "cell_type": "code",
   "execution_count": 78,
   "metadata": {},
   "outputs": [
    {
     "data": {
      "text/plain": [
       "191.94422464658712"
      ]
     },
     "execution_count": 78,
     "metadata": {},
     "output_type": "execute_result"
    }
   ],
   "source": [
    "inv = 100\n",
    "for x in btc_hours_pred.next_open:\n",
    "    inv = inv + inv*(x)\n",
    "inv"
   ]
  },
  {
   "cell_type": "markdown",
   "metadata": {},
   "source": [
    "Let's get the ROC curve before moving on."
   ]
  },
  {
   "cell_type": "code",
   "execution_count": 79,
   "metadata": {},
   "outputs": [],
   "source": [
    "#Get no skill prediction\n",
    "ns_probs = [0 for _ in range(len(y_test))]"
   ]
  },
  {
   "cell_type": "code",
   "execution_count": 80,
   "metadata": {},
   "outputs": [],
   "source": [
    "# We predict probabilities and keep probabilities for the positive outcome only\n",
    "lr_probs = model.predict_proba(X_test)\n",
    "lr_probs = lr_probs[:, 1]"
   ]
  },
  {
   "cell_type": "code",
   "execution_count": 81,
   "metadata": {},
   "outputs": [
    {
     "data": {
      "text/plain": [
       "('No Skill: ROC AUC=0.500', 'Logistic: ROC AUC=0.591')"
      ]
     },
     "execution_count": 81,
     "metadata": {},
     "output_type": "execute_result"
    }
   ],
   "source": [
    "#Now we calculate scores\n",
    "ns_auc = roc_auc_score(y_test, ns_probs)\n",
    "lr_auc = roc_auc_score(y_test, lr_probs)\n",
    "\n",
    "#Summarize scores\n",
    "('No Skill: ROC AUC=%.3f' % (ns_auc)), ('Logistic: ROC AUC=%.3f' % (lr_auc))"
   ]
  },
  {
   "cell_type": "code",
   "execution_count": 82,
   "metadata": {},
   "outputs": [],
   "source": [
    "ns_fpr, ns_tpr, _ = roc_curve(y_test, ns_probs)\n",
    "lr_fpr, lr_tpr, _ = roc_curve(y_test, lr_probs)"
   ]
  },
  {
   "cell_type": "code",
   "execution_count": 83,
   "metadata": {},
   "outputs": [
    {
     "data": {
      "image/png": "[encoded data removed]",
      "text/plain": [
       "<Figure size 432x288 with 1 Axes>"
      ]
     },
     "metadata": {
      "needs_background": "light"
     },
     "output_type": "display_data"
    }
   ],
   "source": [
    "# plot the roc curve for the model\n",
    "plt.plot(ns_fpr, ns_tpr, linestyle='--', label='No Skill')\n",
    "plt.plot(lr_fpr, lr_tpr, marker='.', label='Logistic')\n",
    "#labels\n",
    "plt.xlabel('False Positive Rate')\n",
    "plt.ylabel('True Positive Rate')\n",
    "plt.title('Hourly ROC')\n",
    "plt.legend()\n",
    "plt.show()"
   ]
  },
  {
   "cell_type": "markdown",
   "metadata": {},
   "source": [
    "The ROC curve looks really good! Let's try to classify in days instead."
   ]
  },
  {
   "cell_type": "code",
   "execution_count": 84,
   "metadata": {},
   "outputs": [],
   "source": [
    "notes_count_per_D['message_zscore'] = (notes_count_per_D.message - notes_count_per_D.message.mean())/notes_count_per_D.message.std(ddof=0)"
   ]
  },
  {
   "cell_type": "code",
   "execution_count": 85,
   "metadata": {},
   "outputs": [],
   "source": [
    "df_simple_D = notes_count_per_D.merge(btc_days, left_index=True, right_index=True, how='inner')"
   ]
  },
  {
   "cell_type": "code",
   "execution_count": 86,
   "metadata": {},
   "outputs": [],
   "source": [
    "X_D = btc_days.drop(['bull'], axis=1)\n",
    "y_D = btc_days['bull']"
   ]
  },
  {
   "cell_type": "code",
   "execution_count": 87,
   "metadata": {},
   "outputs": [],
   "source": [
    "X_train, X_test, y_train, y_test = train_test_split(X_D, y_D, test_size=.2, random_state=200)"
   ]
  },
  {
   "cell_type": "code",
   "execution_count": 88,
   "metadata": {},
   "outputs": [],
   "source": [
    "model = LogisticRegression()\n",
    "model.fit(X_train, y_train)\n",
    "y_pred = model.predict(X_test)"
   ]
  },
  {
   "cell_type": "code",
   "execution_count": 89,
   "metadata": {},
   "outputs": [
    {
     "name": "stdout",
     "output_type": "stream",
     "text": [
      "Specificity: 0.23622047244094488\n",
      "Accuracy: 0.5752895752895753\n",
      "Sensitivity: 0.9015151515151515\n"
     ]
    }
   ],
   "source": [
    "base_score_d = model.score(X_test, y_test)\n",
    "tn, fp, fn, tp = confusion_matrix(y_test, y_pred).ravel()\n",
    "specificity_b_d = tn / (tn+fp)\n",
    "sensitivity_b_d = tp / (tp+fn)\n",
    "print('Specificity:', specificity_b_d), print('Accuracy:', base_score_d),\n",
    "print('Sensitivity:', sensitivity_b_d)"
   ]
  },
  {
   "cell_type": "code",
   "execution_count": 90,
   "metadata": {},
   "outputs": [],
   "source": [
    "y_pred_all = model.predict(X_test)\n",
    "btc_days_pred = X_test.copy()\n",
    "btc_days_pred['pred'] = y_pred_all"
   ]
  },
  {
   "cell_type": "code",
   "execution_count": 91,
   "metadata": {},
   "outputs": [],
   "source": [
    "btc_days_pred = btc_days_pred.reset_index()\n",
    "btc_days_pred = btc_days_pred[btc_days_pred.date != '2020-07-31']\n",
    "btc_days_pred = btc_days_pred.set_index('date')"
   ]
  },
  {
   "cell_type": "code",
   "execution_count": 92,
   "metadata": {},
   "outputs": [],
   "source": [
    "new_index = []\n",
    "\n",
    "for x in btc_days_pred.index.to_list():\n",
    "    new_index.append(x+timedelta(days=1))\n",
    "    \n",
    "next_open = btc_days.loc[new_index,:]\n",
    "\n",
    "btc_days_pred['next_open'] = next_open.Open.shift(-1)\n",
    "\n",
    "btc_days_pred = btc_days_pred.dropna()"
   ]
  },
  {
   "cell_type": "code",
   "execution_count": 93,
   "metadata": {},
   "outputs": [
    {
     "data": {
      "text/plain": [
       "76.5407198460514"
      ]
     },
     "execution_count": 93,
     "metadata": {},
     "output_type": "execute_result"
    }
   ],
   "source": [
    "inv = 100\n",
    "for x in btc_days_pred.next_open:\n",
    "    inv = inv + inv*x\n",
    "inv"
   ]
  },
  {
   "cell_type": "code",
   "execution_count": 94,
   "metadata": {},
   "outputs": [],
   "source": [
    "btc_days_pred = btc_days_pred[btc_days_pred.pred == 1]"
   ]
  },
  {
   "cell_type": "code",
   "execution_count": 95,
   "metadata": {},
   "outputs": [
    {
     "data": {
      "text/plain": [
       "71.68180603755019"
      ]
     },
     "execution_count": 95,
     "metadata": {},
     "output_type": "execute_result"
    }
   ],
   "source": [
    "inv = 100\n",
    "for x in btc_days_pred.next_open:\n",
    "    inv = inv + inv*(x)\n",
    "inv"
   ]
  },
  {
   "cell_type": "markdown",
   "metadata": {},
   "source": [
    "Our accuracy has gone down a little, probably because we have less data because of its resampling. Let's make an ROC curve to give us a better look at the data."
   ]
  },
  {
   "cell_type": "code",
   "execution_count": 96,
   "metadata": {},
   "outputs": [],
   "source": [
    "#Get no skill prediction\n",
    "ns_probs = [0 for _ in range(len(y_test))]"
   ]
  },
  {
   "cell_type": "code",
   "execution_count": 97,
   "metadata": {},
   "outputs": [],
   "source": [
    "# We predict probabilities and keep probabilities for the positive outcome only\n",
    "lr_probs = model.predict_proba(X_test)\n",
    "lr_probs = lr_probs[:, 1]"
   ]
  },
  {
   "cell_type": "code",
   "execution_count": 98,
   "metadata": {},
   "outputs": [],
   "source": [
    "#Now we calculate scores\n",
    "ns_auc = roc_auc_score(y_test, ns_probs)\n",
    "lr_auc = roc_auc_score(y_test, lr_probs)"
   ]
  },
  {
   "cell_type": "code",
   "execution_count": 99,
   "metadata": {},
   "outputs": [
    {
     "data": {
      "text/plain": [
       "('No Skill: ROC AUC=0.500', 'Logistic: ROC AUC=0.629')"
      ]
     },
     "execution_count": 99,
     "metadata": {},
     "output_type": "execute_result"
    }
   ],
   "source": [
    "#Summarize scores\n",
    "('No Skill: ROC AUC=%.3f' % (ns_auc)), ('Logistic: ROC AUC=%.3f' % (lr_auc))"
   ]
  },
  {
   "cell_type": "code",
   "execution_count": 100,
   "metadata": {},
   "outputs": [],
   "source": [
    "ns_fpr, ns_tpr, _ = roc_curve(y_test, ns_probs)\n",
    "lr_fpr, lr_tpr, _ = roc_curve(y_test, lr_probs)"
   ]
  },
  {
   "cell_type": "code",
   "execution_count": 101,
   "metadata": {},
   "outputs": [
    {
     "data": {
      "image/png": "[encoded data removed]",
      "text/plain": [
       "<Figure size 432x288 with 1 Axes>"
      ]
     },
     "metadata": {
      "needs_background": "light"
     },
     "output_type": "display_data"
    }
   ],
   "source": [
    "# plot the roc curve for the model\n",
    "plt.plot(ns_fpr, ns_tpr, linestyle='--', label='No Skill')\n",
    "plt.plot(lr_fpr, lr_tpr, marker='.', label='Logistic')\n",
    "#labels\n",
    "plt.xlabel('False Positive Rate')\n",
    "plt.ylabel('True Positive Rate')\n",
    "plt.title('Daily Base ROC')\n",
    "plt.legend()\n",
    "plt.show()"
   ]
  },
  {
   "cell_type": "markdown",
   "metadata": {},
   "source": [
    "We now have a new basescore in days. Let's use our other day data and see the results."
   ]
  },
  {
   "cell_type": "code",
   "execution_count": 102,
   "metadata": {},
   "outputs": [],
   "source": [
    "X_S_D = df_simple_D[['message_zscore', 'Open', 'High', 'Low', 'volume_btc', 'volume_usd',\n",
    "       'Weighted_Price']]\n",
    "y_S_D = df_simple_D['bull']"
   ]
  },
  {
   "cell_type": "code",
   "execution_count": 103,
   "metadata": {},
   "outputs": [],
   "source": [
    "X_train, X_test, y_train, y_test = train_test_split(X_S_D, y_S_D, test_size=.2, random_state=200)"
   ]
  },
  {
   "cell_type": "code",
   "execution_count": 104,
   "metadata": {},
   "outputs": [],
   "source": [
    "model = LogisticRegression()\n",
    "model.fit(X_train, y_train)\n",
    "y_pred = model.predict(X_test)"
   ]
  },
  {
   "cell_type": "code",
   "execution_count": 105,
   "metadata": {},
   "outputs": [
    {
     "name": "stdout",
     "output_type": "stream",
     "text": [
      "Specificity: 0.23622047244094488 0.25196850393700787\n",
      "Accuracy: 0.5752895752895753 0.5868725868725869\n",
      "Sensitivity: 0.9015151515151515 0.9090909090909091\n"
     ]
    }
   ],
   "source": [
    "simple_score_d = model.score(X_test, y_test)\n",
    "tn, fp, fn, tp = confusion_matrix(y_test, y_pred).ravel()\n",
    "specificity_s_d = tn / (tn+fp)\n",
    "sensitivity_s_d = tp / (tp+fn)\n",
    "print('Specificity:', specificity_b_d, specificity_s_d), print('Accuracy:', base_score_d, simple_score_d),\n",
    "print('Sensitivity:', sensitivity_b_d, sensitivity_s_d)"
   ]
  },
  {
   "cell_type": "code",
   "execution_count": 106,
   "metadata": {},
   "outputs": [],
   "source": [
    "y_pred_all = model.predict(X_test)\n",
    "btc_days_pred = X_test.copy()\n",
    "btc_days_pred['pred'] = y_pred_all"
   ]
  },
  {
   "cell_type": "code",
   "execution_count": 107,
   "metadata": {},
   "outputs": [],
   "source": [
    "btc_days_pred = btc_days_pred.reset_index()"
   ]
  },
  {
   "cell_type": "code",
   "execution_count": 108,
   "metadata": {},
   "outputs": [],
   "source": [
    "btc_days_pred = btc_days_pred.rename({'index':'date'}, axis=1)"
   ]
  },
  {
   "cell_type": "code",
   "execution_count": 109,
   "metadata": {},
   "outputs": [],
   "source": [
    "btc_days_pred = btc_days_pred[btc_days_pred.date != '2020-07-31']\n",
    "btc_days_pred = btc_days_pred.set_index('date')"
   ]
  },
  {
   "cell_type": "code",
   "execution_count": null,
   "metadata": {},
   "outputs": [],
   "source": []
  },
  {
   "cell_type": "code",
   "execution_count": 110,
   "metadata": {},
   "outputs": [],
   "source": [
    "new_index = []\n",
    "\n",
    "for x in btc_days_pred.index.to_list():\n",
    "    new_index.append(x+timedelta(days=1))"
   ]
  },
  {
   "cell_type": "code",
   "execution_count": 111,
   "metadata": {},
   "outputs": [],
   "source": [
    "next_open = btc_days.loc[new_index,:]\n",
    "\n",
    "btc_days_pred['next_open'] = next_open.Open.shift(-1)\n",
    "\n",
    "btc_days_pred = btc_days_pred.dropna()"
   ]
  },
  {
   "cell_type": "code",
   "execution_count": 112,
   "metadata": {},
   "outputs": [
    {
     "data": {
      "text/plain": [
       "76.5407198460514"
      ]
     },
     "execution_count": 112,
     "metadata": {},
     "output_type": "execute_result"
    }
   ],
   "source": [
    "inv = 100\n",
    "for x in btc_days_pred.next_open:\n",
    "    inv = inv + inv*x\n",
    "inv"
   ]
  },
  {
   "cell_type": "code",
   "execution_count": 113,
   "metadata": {},
   "outputs": [],
   "source": [
    "btc_days_pred = btc_days_pred[btc_days_pred.pred == 1]"
   ]
  },
  {
   "cell_type": "code",
   "execution_count": 114,
   "metadata": {},
   "outputs": [
    {
     "data": {
      "text/plain": [
       "70.61546999307731"
      ]
     },
     "execution_count": 114,
     "metadata": {},
     "output_type": "execute_result"
    }
   ],
   "source": [
    "inv = 100\n",
    "for x in btc_days_pred.next_open:\n",
    "    inv = inv + inv*(x)\n",
    "inv"
   ]
  },
  {
   "cell_type": "code",
   "execution_count": 115,
   "metadata": {},
   "outputs": [
    {
     "data": {
      "text/plain": [
       "('No Skill: ROC AUC=0.500', 'Logistic: ROC AUC=0.637')"
      ]
     },
     "execution_count": 115,
     "metadata": {},
     "output_type": "execute_result"
    }
   ],
   "source": [
    "#Get no skill prediction\n",
    "ns_probs = [0 for _ in range(len(y_test))]\n",
    "\n",
    "# We predict probabilities and keep probabilities for the positive outcome only\n",
    "lr_probs = model.predict_proba(X_test)\n",
    "lr_probs = lr_probs[:, 1]\n",
    "\n",
    "#Now we calculate scores\n",
    "ns_auc = roc_auc_score(y_test, ns_probs)\n",
    "lr_auc = roc_auc_score(y_test, lr_probs)\n",
    "\n",
    "#Summarize scores\n",
    "('No Skill: ROC AUC=%.3f' % (ns_auc)), ('Logistic: ROC AUC=%.3f' % (lr_auc))"
   ]
  },
  {
   "cell_type": "code",
   "execution_count": 116,
   "metadata": {},
   "outputs": [],
   "source": [
    "ns_fpr, ns_tpr, _ = roc_curve(y_test, ns_probs)\n",
    "lr_fpr, lr_tpr, _ = roc_curve(y_test, lr_probs)"
   ]
  },
  {
   "cell_type": "code",
   "execution_count": 117,
   "metadata": {},
   "outputs": [
    {
     "data": {
      "image/png": "[encoded data removed]",
      "text/plain": [
       "<Figure size 432x288 with 1 Axes>"
      ]
     },
     "metadata": {
      "needs_background": "light"
     },
     "output_type": "display_data"
    }
   ],
   "source": [
    "# plot the roc curve for the model\n",
    "plt.plot(ns_fpr, ns_tpr, linestyle='--', label='No Skill')\n",
    "plt.plot(lr_fpr, lr_tpr, marker='.', label='Logistic')\n",
    "#labels\n",
    "plt.xlabel('False Positive Rate')\n",
    "plt.ylabel('True Positive Rate')\n",
    "plt.title('Daily ROC')\n",
    "plt.legend()\n",
    "\n",
    "plt.show()"
   ]
  },
  {
   "cell_type": "markdown",
   "metadata": {},
   "source": [
    "These graphs all look pretty great! It looks like our data pool is shrinking dangerously low with it in days. I think we won't use weeks for now but might look into it when the scope of our project increases. Let's check to see if there might be an overwhelming number of positives in our sample. If there are then we might get more information out of a Precision-Recall plot."
   ]
  },
  {
   "cell_type": "code",
   "execution_count": 118,
   "metadata": {},
   "outputs": [
    {
     "data": {
      "text/plain": [
       "(704.0, 1291)"
      ]
     },
     "execution_count": 118,
     "metadata": {},
     "output_type": "execute_result"
    }
   ],
   "source": [
    "btc_days.bull.sum(), len(btc_days.index)"
   ]
  },
  {
   "cell_type": "code",
   "execution_count": 119,
   "metadata": {},
   "outputs": [
    {
     "data": {
      "text/plain": [
       "0.5445391169635941"
      ]
     },
     "execution_count": 119,
     "metadata": {},
     "output_type": "execute_result"
    }
   ],
   "source": [
    "703/1291"
   ]
  },
  {
   "cell_type": "markdown",
   "metadata": {},
   "source": [
    "That also looks fine! Obviously we can expand the project in the future but for now this should be enough information."
   ]
  },
  {
   "cell_type": "code",
   "execution_count": 120,
   "metadata": {},
   "outputs": [
    {
     "data": {
      "text/plain": [
       "(0.2188679245283019,\n",
       " 0.19838601210490922,\n",
       " 0.23622047244094488,\n",
       " 0.19838601210490922)"
      ]
     },
     "execution_count": 120,
     "metadata": {},
     "output_type": "execute_result"
    }
   ],
   "source": [
    "specificity_b_h, specificity_s_h, specificity_b_d, specificity_s_h,  "
   ]
  },
  {
   "cell_type": "code",
   "execution_count": null,
   "metadata": {},
   "outputs": [],
   "source": []
  }
 ],
 "metadata": {
  "kernelspec": {
   "display_name": "Python 3",
   "language": "python",
   "name": "python3"
  },
  "language_info": {
   "codemirror_mode": {
    "name": "ipython",
    "version": 3
   },
   "file_extension": ".py",
   "mimetype": "text/x-python",
   "name": "python",
   "nbconvert_exporter": "python",
   "pygments_lexer": "ipython3",
   "version": "3.8.5"
  }
 },
 "nbformat": 4,
 "nbformat_minor": 4
}
